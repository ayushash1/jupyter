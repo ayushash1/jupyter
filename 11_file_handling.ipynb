{
 "cells": [
  {
   "cell_type": "code",
   "execution_count": 6,
   "id": "7e99173d",
   "metadata": {},
   "outputs": [
    {
     "name": "stdout",
     "output_type": "stream",
     "text": [
      "w\n",
      "True\n",
      "<built-in method readable of _io.TextIOWrapper object at 0x000002318EB99790>\n",
      "<built-in method writable of _io.TextIOWrapper object at 0x000002318EB99790>\n"
     ]
    }
   ],
   "source": [
    "f = open('C:/abc/call.txt','w')\n",
    "\n",
    "f.close()\n",
    "\n",
    "print(f.mode)\n",
    "\n",
    "print(f.closed)\n",
    "\n",
    "print(f.readable)\n",
    "\n",
    "print(f.writable)"
   ]
  },
  {
   "cell_type": "code",
   "execution_count": 8,
   "id": "09ea7811",
   "metadata": {},
   "outputs": [
    {
     "name": "stdout",
     "output_type": "stream",
     "text": [
      "Enter somthing hello\n"
     ]
    }
   ],
   "source": [
    "# write a txt file\n",
    "\n",
    "f = open('C:/abc/call.txt','w')\n",
    "\n",
    "text = input(\"Enter somthing \")\n",
    "\n",
    "f.write(text)\n",
    "\n",
    "f.close()\n"
   ]
  },
  {
   "cell_type": "code",
   "execution_count": 10,
   "id": "ae2344ed",
   "metadata": {},
   "outputs": [
    {
     "name": "stdout",
     "output_type": "stream",
     "text": [
      "file in write mode\n"
     ]
    }
   ],
   "source": [
    "#write multiple lines in file.\n",
    "\n",
    "f = open('C:/abc/call.txt','w')\n",
    "\n",
    "text = ['abc\\n','hello world\\n','pqrs']\n",
    "\n",
    "f.writelines(text)\n",
    "\n",
    "f.close()\n",
    "\n",
    "print(\"file in write mode\")"
   ]
  },
  {
   "cell_type": "code",
   "execution_count": 11,
   "id": "9ca9c2c5",
   "metadata": {},
   "outputs": [
    {
     "name": "stdout",
     "output_type": "stream",
     "text": [
      "abc\n",
      "hello world\n",
      "pqrs\n",
      "file in read mode\n"
     ]
    }
   ],
   "source": [
    "#read multiple lines in file.\n",
    "\n",
    "f = open('C:/abc/call.txt','r')\n",
    "\n",
    "print (f.read())\n",
    "\n",
    "f.close()\n",
    "\n",
    "print(\"file in read mode\")"
   ]
  },
  {
   "cell_type": "code",
   "execution_count": 13,
   "id": "d609543b",
   "metadata": {},
   "outputs": [
    {
     "name": "stdout",
     "output_type": "stream",
     "text": [
      "abc\n",
      "\n",
      "hello world\n",
      "\n",
      "pqrs\n",
      "file in read mode\n"
     ]
    }
   ],
   "source": [
    "#read without read funtion\n",
    "\n",
    "\n",
    "f = open('C:/abc/call.txt','r')\n",
    "\n",
    "for i in f:\n",
    "    print(i)\n",
    "    \n",
    "f.close()\n",
    "\n",
    "print(\"file in read mode\")"
   ]
  },
  {
   "cell_type": "code",
   "execution_count": 4,
   "id": "9f082df9",
   "metadata": {},
   "outputs": [
    {
     "name": "stdout",
     "output_type": "stream",
     "text": [
      "abc\n",
      "hello world\n",
      "pqrs\n",
      "file in read mode\n"
     ]
    }
   ],
   "source": [
    "#readlines\n",
    "\n",
    "f = open('C:/abc/call.txt','r')\n",
    "\n",
    "#print (f.readlines())\n",
    "hm = f.read()\n",
    "print(hm)\n",
    "f.close()\n",
    "\n",
    "print(\"file in read mode\")"
   ]
  },
  {
   "cell_type": "code",
   "execution_count": null,
   "id": "6ff45e98",
   "metadata": {},
   "outputs": [],
   "source": []
  }
 ],
 "metadata": {
  "kernelspec": {
   "display_name": "Python 3 (ipykernel)",
   "language": "python",
   "name": "python3"
  },
  "language_info": {
   "codemirror_mode": {
    "name": "ipython",
    "version": 3
   },
   "file_extension": ".py",
   "mimetype": "text/x-python",
   "name": "python",
   "nbconvert_exporter": "python",
   "pygments_lexer": "ipython3",
   "version": "3.9.8"
  }
 },
 "nbformat": 4,
 "nbformat_minor": 5
}
