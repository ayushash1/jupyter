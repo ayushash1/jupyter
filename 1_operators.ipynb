{
 "cells": [
  {
   "cell_type": "code",
   "execution_count": 1,
   "id": "8b847074",
   "metadata": {},
   "outputs": [],
   "source": [
    "#1. Arthematic operators\n",
    "# +, -, *, /, %, **"
   ]
  },
  {
   "cell_type": "code",
   "execution_count": 26,
   "id": "1df893d0",
   "metadata": {},
   "outputs": [
    {
     "name": "stdout",
     "output_type": "stream",
     "text": [
      "addition of two numbers=  5\n"
     ]
    }
   ],
   "source": [
    "v1 = int(input(\"Enter your first number \"))\n",
    "v2 = int(input(\"Enter your second number \"))\n",
    "\n",
    "print(\"addition of two numbers= \",v1+v2)"
   ]
  },
  {
   "cell_type": "code",
   "execution_count": 3,
   "id": "a63bb360",
   "metadata": {},
   "outputs": [
    {
     "name": "stdout",
     "output_type": "stream",
     "text": [
      "False\n",
      "False\n",
      "True\n"
     ]
    }
   ],
   "source": [
    "#2. comparsion operator\n",
    "#>, < , >=, <=, ==, !=\n",
    "#true or false\n",
    "\n",
    "v1 = 12\n",
    "v2 = 45\n",
    "\n",
    "print(v1>v2)\n",
    "print(v1==v2)\n",
    "print(v1!=v2)"
   ]
  },
  {
   "cell_type": "code",
   "execution_count": 4,
   "id": "9d312f3e",
   "metadata": {},
   "outputs": [
    {
     "name": "stdout",
     "output_type": "stream",
     "text": [
      "1\n",
      "2\n",
      "3\n",
      "4\n",
      "5\n"
     ]
    }
   ],
   "source": [
    "i = 1\n",
    "while i<=5:\n",
    "    print(i)\n",
    "    i+=1"
   ]
  },
  {
   "cell_type": "code",
   "execution_count": 5,
   "id": "b4afccff",
   "metadata": {},
   "outputs": [
    {
     "name": "stdout",
     "output_type": "stream",
     "text": [
      "False\n",
      "True\n"
     ]
    }
   ],
   "source": [
    "#3. logical operator\n",
    "#and or not\n",
    "print(True and False)\n",
    "print(True and True)"
   ]
  },
  {
   "cell_type": "code",
   "execution_count": 6,
   "id": "bed94862",
   "metadata": {},
   "outputs": [
    {
     "name": "stdout",
     "output_type": "stream",
     "text": [
      "True\n",
      "True\n",
      "False\n"
     ]
    }
   ],
   "source": [
    "print(True or True)\n",
    "print(True or False)\n",
    "print(False or False)"
   ]
  },
  {
   "cell_type": "code",
   "execution_count": 7,
   "id": "abf0af72",
   "metadata": {},
   "outputs": [
    {
     "name": "stdout",
     "output_type": "stream",
     "text": [
      "False\n",
      "True\n"
     ]
    }
   ],
   "source": [
    "print(not True)\n",
    "print(not False)"
   ]
  },
  {
   "cell_type": "code",
   "execution_count": 8,
   "id": "081504dd",
   "metadata": {},
   "outputs": [
    {
     "name": "stdout",
     "output_type": "stream",
     "text": [
      "0b1100\n",
      "0b101\n"
     ]
    }
   ],
   "source": [
    "#4. bitwise operator\n",
    "#&,|, << , >> , ^ , ~\n",
    "\n",
    "print(bin(12))\n",
    "print(bin(5))"
   ]
  },
  {
   "cell_type": "code",
   "execution_count": 9,
   "id": "87664b0c",
   "metadata": {},
   "outputs": [
    {
     "name": "stdout",
     "output_type": "stream",
     "text": [
      "12\n"
     ]
    }
   ],
   "source": [
    "print(int(0b1100))"
   ]
  },
  {
   "cell_type": "code",
   "execution_count": 10,
   "id": "55972522",
   "metadata": {},
   "outputs": [
    {
     "name": "stdout",
     "output_type": "stream",
     "text": [
      "True\n"
     ]
    }
   ],
   "source": [
    "print(bool(1))"
   ]
  },
  {
   "cell_type": "code",
   "execution_count": 11,
   "id": "77b46181",
   "metadata": {},
   "outputs": [
    {
     "name": "stdout",
     "output_type": "stream",
     "text": [
      "False\n"
     ]
    }
   ],
   "source": [
    "print(bool(0))"
   ]
  },
  {
   "cell_type": "code",
   "execution_count": 12,
   "id": "11d08f47",
   "metadata": {},
   "outputs": [
    {
     "name": "stdout",
     "output_type": "stream",
     "text": [
      "1\n",
      "0\n"
     ]
    }
   ],
   "source": [
    "print(int(True))\n",
    "print(int(False))"
   ]
  },
  {
   "cell_type": "code",
   "execution_count": 13,
   "id": "4ec6412d",
   "metadata": {},
   "outputs": [
    {
     "name": "stdout",
     "output_type": "stream",
     "text": [
      "4\n"
     ]
    }
   ],
   "source": [
    "print(12&5)"
   ]
  },
  {
   "cell_type": "code",
   "execution_count": 14,
   "id": "f2f48059",
   "metadata": {},
   "outputs": [
    {
     "name": "stdout",
     "output_type": "stream",
     "text": [
      "0b10100\n",
      "0b1000\n"
     ]
    }
   ],
   "source": [
    "print(bin(20))\n",
    "print(bin(8))"
   ]
  },
  {
   "cell_type": "code",
   "execution_count": 15,
   "id": "cb60cb26",
   "metadata": {},
   "outputs": [
    {
     "name": "stdout",
     "output_type": "stream",
     "text": [
      "0\n"
     ]
    }
   ],
   "source": [
    "print(20&8)"
   ]
  },
  {
   "cell_type": "code",
   "execution_count": 16,
   "id": "29289aa7",
   "metadata": {},
   "outputs": [
    {
     "name": "stdout",
     "output_type": "stream",
     "text": [
      "0b10111 0b1100\n"
     ]
    }
   ],
   "source": [
    "print(bin(23), bin(12))\n"
   ]
  },
  {
   "cell_type": "code",
   "execution_count": 17,
   "id": "3d4ccc43",
   "metadata": {},
   "outputs": [
    {
     "name": "stdout",
     "output_type": "stream",
     "text": [
      "31\n"
     ]
    }
   ],
   "source": [
    "print(23|12)"
   ]
  },
  {
   "cell_type": "code",
   "execution_count": 18,
   "id": "4e019608",
   "metadata": {},
   "outputs": [
    {
     "name": "stdout",
     "output_type": "stream",
     "text": [
      "0b100010\n"
     ]
    }
   ],
   "source": [
    "print(bin(34))"
   ]
  },
  {
   "cell_type": "code",
   "execution_count": 19,
   "id": "bb3402ce",
   "metadata": {},
   "outputs": [
    {
     "name": "stdout",
     "output_type": "stream",
     "text": [
      "272\n",
      "4\n"
     ]
    }
   ],
   "source": [
    "print(34<<3) #left shift operator\n",
    "print(34>>3) #right shift operator"
   ]
  },
  {
   "cell_type": "code",
   "execution_count": 20,
   "id": "e2c617a6",
   "metadata": {},
   "outputs": [
    {
     "name": "stdout",
     "output_type": "stream",
     "text": [
      "9\n"
     ]
    }
   ],
   "source": [
    "v1 = 12\n",
    "v2 = 5\n",
    "\n",
    "print(v1^v2)"
   ]
  },
  {
   "cell_type": "code",
   "execution_count": 21,
   "id": "a5a71eaa",
   "metadata": {},
   "outputs": [
    {
     "name": "stdout",
     "output_type": "stream",
     "text": [
      "-13\n",
      "33\n"
     ]
    }
   ],
   "source": [
    "v1 = 12\n",
    "print(~12)\n",
    "\n",
    "v2 = -34\n",
    "print(~v2)"
   ]
  },
  {
   "cell_type": "code",
   "execution_count": 22,
   "id": "934d70cb",
   "metadata": {},
   "outputs": [
    {
     "name": "stdout",
     "output_type": "stream",
     "text": [
      "False\n"
     ]
    }
   ],
   "source": [
    "\n",
    "#membership operator\n",
    "#in , not in \n",
    "\n",
    "print('helllo' in 'hello world')\n"
   ]
  },
  {
   "cell_type": "code",
   "execution_count": 23,
   "id": "1b847a7a",
   "metadata": {},
   "outputs": [
    {
     "name": "stdout",
     "output_type": "stream",
     "text": [
      "False\n",
      "True\n"
     ]
    }
   ],
   "source": [
    "s1 = 'adf'\n",
    "s2 = 'abcdef'\n",
    "\n",
    "print(s1 in s2)\n",
    "print(s1 not in s2)"
   ]
  },
  {
   "cell_type": "code",
   "execution_count": 24,
   "id": "e1bf7d9a",
   "metadata": {},
   "outputs": [
    {
     "name": "stdout",
     "output_type": "stream",
     "text": [
      "12 <class 'int'>\n",
      "12.0 <class 'float'>\n",
      "True\n",
      "False\n",
      "True\n"
     ]
    }
   ],
   "source": [
    "#identity operator\n",
    "\n",
    "v1 = 12\n",
    "v2 = 12.00\n",
    "\n",
    "print(v1, type(v1))\n",
    "print(v2, type(v2))\n",
    "\n",
    "print(v1==v2)\n",
    "print(v1 is v2)\n",
    "print(v1 is not v2)"
   ]
  },
  {
   "cell_type": "code",
   "execution_count": 25,
   "id": "8e3e2bcd",
   "metadata": {},
   "outputs": [
    {
     "name": "stdout",
     "output_type": "stream",
     "text": [
      "v1 = 12\n",
      "v2 = 23\n",
      "v1 = 35\n",
      "v2 = 23\n"
     ]
    }
   ],
   "source": [
    "# assingnment operator\n",
    "# arthamatic and bitwise operator\n",
    "\n",
    "v1 = 12\n",
    "v2 = 23\n",
    "\n",
    "print(\"v1 =\", v1)\n",
    "\n",
    "print(\"v2 =\", v2)\n",
    "\n",
    "v1 += v2\n",
    "#v1 = v1 + v2\n",
    "\n",
    "print(\"v1 =\", v1)\n",
    "print(\"v2 =\", v2)"
   ]
  },
  {
   "cell_type": "code",
   "execution_count": null,
   "id": "453c9615",
   "metadata": {},
   "outputs": [],
   "source": []
  }
 ],
 "metadata": {
  "kernelspec": {
   "display_name": "Python 3.9.8 64-bit",
   "language": "python",
   "name": "python3"
  },
  "language_info": {
   "codemirror_mode": {
    "name": "ipython",
    "version": 3
   },
   "file_extension": ".py",
   "mimetype": "text/x-python",
   "name": "python",
   "nbconvert_exporter": "python",
   "pygments_lexer": "ipython3",
   "version": "3.9.8"
  },
  "vscode": {
   "interpreter": {
    "hash": "867b23448c8a5cfd354ca1def289a7dd2c828e227e30aae53b7fee6c3d858da2"
   }
  }
 },
 "nbformat": 4,
 "nbformat_minor": 5
}
