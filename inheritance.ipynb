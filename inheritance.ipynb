{
 "cells": [
  {
   "cell_type": "code",
   "execution_count": 1,
   "id": "304262f6",
   "metadata": {},
   "outputs": [],
   "source": [
    "# Synatx\n",
    "# class class_name1:\n",
    "#     _____\n",
    "#     _____\n",
    "    \n",
    "# class class_name2(class_name1):\n",
    "#     _____\n",
    "#     _____"
   ]
  },
  {
   "cell_type": "code",
   "execution_count": 5,
   "id": "10b8ab3a",
   "metadata": {},
   "outputs": [
    {
     "name": "stdout",
     "output_type": "stream",
     "text": [
      "Enter your name=kunal\n",
      "Enter mobile number=8877665544\n",
      "Enter your roll number=102\n",
      "\n",
      "Student name= kunal\n",
      "Mobile number= 8877665544\n",
      "Roll number= 102\n"
     ]
    }
   ],
   "source": [
    "# single inheritance\n",
    "class Person:\n",
    "    def getDataPersonInfo(self):\n",
    "        self.name = input(\"Enter your name=\")\n",
    "        self.mobile = int(input(\"Enter mobile number=\"))\n",
    "\n",
    "class Student(Person):\n",
    "    def getDataStudentInfo(self):\n",
    "        self.roll_number = int(input(\"Enter your roll number=\"))\n",
    "        \n",
    "    def display(self):\n",
    "        print(\"Student name=\", self.name)\n",
    "        print(\"Mobile number=\", self.mobile)\n",
    "        print(\"Roll number=\", self.roll_number)\n",
    "        \n",
    "obj_student = Student()\n",
    "obj_student.getDataPersonInfo()\n",
    "obj_student.getDataStudentInfo()\n",
    "print()\n",
    "obj_student.display()"
   ]
  },
  {
   "cell_type": "code",
   "execution_count": 1,
   "id": "a7e82043",
   "metadata": {},
   "outputs": [
    {
     "ename": "ValueError",
     "evalue": "invalid literal for int() with base 10: ''",
     "output_type": "error",
     "traceback": [
      "\u001b[1;31m---------------------------------------------------------------------------\u001b[0m",
      "\u001b[1;31mValueError\u001b[0m                                Traceback (most recent call last)",
      "\u001b[1;32mc:\\Users\\integrated\\Documents\\jupyter notebook files\\inheritance.ipynb Cell 3\u001b[0m in \u001b[0;36m<cell line: 17>\u001b[1;34m()\u001b[0m\n\u001b[0;32m     <a href='vscode-notebook-cell:/c%3A/Users/integrated/Documents/jupyter%20notebook%20files/inheritance.ipynb#W2sZmlsZQ%3D%3D?line=13'>14</a>\u001b[0m         \u001b[39mprint\u001b[39m(\u001b[39m\"\u001b[39m\u001b[39mMobile number=\u001b[39m\u001b[39m\"\u001b[39m, \u001b[39mself\u001b[39m\u001b[39m.\u001b[39mmobile)\n\u001b[0;32m     <a href='vscode-notebook-cell:/c%3A/Users/integrated/Documents/jupyter%20notebook%20files/inheritance.ipynb#W2sZmlsZQ%3D%3D?line=14'>15</a>\u001b[0m         \u001b[39mprint\u001b[39m(\u001b[39m\"\u001b[39m\u001b[39mRoll number=\u001b[39m\u001b[39m\"\u001b[39m, \u001b[39mself\u001b[39m\u001b[39m.\u001b[39mroll_number)\n\u001b[1;32m---> <a href='vscode-notebook-cell:/c%3A/Users/integrated/Documents/jupyter%20notebook%20files/inheritance.ipynb#W2sZmlsZQ%3D%3D?line=16'>17</a>\u001b[0m obj_student \u001b[39m=\u001b[39m Student()\n\u001b[0;32m     <a href='vscode-notebook-cell:/c%3A/Users/integrated/Documents/jupyter%20notebook%20files/inheritance.ipynb#W2sZmlsZQ%3D%3D?line=17'>18</a>\u001b[0m obj_student\u001b[39m.\u001b[39mdisplay()\n",
      "\u001b[1;32mc:\\Users\\integrated\\Documents\\jupyter notebook files\\inheritance.ipynb Cell 3\u001b[0m in \u001b[0;36mStudent.__init__\u001b[1;34m(self)\u001b[0m\n\u001b[0;32m      <a href='vscode-notebook-cell:/c%3A/Users/integrated/Documents/jupyter%20notebook%20files/inheritance.ipynb#W2sZmlsZQ%3D%3D?line=7'>8</a>\u001b[0m \u001b[39mdef\u001b[39;00m \u001b[39m__init__\u001b[39m(\u001b[39mself\u001b[39m):\n\u001b[1;32m----> <a href='vscode-notebook-cell:/c%3A/Users/integrated/Documents/jupyter%20notebook%20files/inheritance.ipynb#W2sZmlsZQ%3D%3D?line=8'>9</a>\u001b[0m     Person\u001b[39m.\u001b[39;49m\u001b[39m__init__\u001b[39;49m(\u001b[39mself\u001b[39;49m)\n\u001b[0;32m     <a href='vscode-notebook-cell:/c%3A/Users/integrated/Documents/jupyter%20notebook%20files/inheritance.ipynb#W2sZmlsZQ%3D%3D?line=9'>10</a>\u001b[0m     \u001b[39mself\u001b[39m\u001b[39m.\u001b[39mroll_number \u001b[39m=\u001b[39m \u001b[39mint\u001b[39m(\u001b[39minput\u001b[39m(\u001b[39m\"\u001b[39m\u001b[39mEnter your roll number=\u001b[39m\u001b[39m\"\u001b[39m))\n",
      "\u001b[1;32mc:\\Users\\integrated\\Documents\\jupyter notebook files\\inheritance.ipynb Cell 3\u001b[0m in \u001b[0;36mPerson.__init__\u001b[1;34m(self)\u001b[0m\n\u001b[0;32m      <a href='vscode-notebook-cell:/c%3A/Users/integrated/Documents/jupyter%20notebook%20files/inheritance.ipynb#W2sZmlsZQ%3D%3D?line=2'>3</a>\u001b[0m \u001b[39mdef\u001b[39;00m \u001b[39m__init__\u001b[39m(\u001b[39mself\u001b[39m):\n\u001b[0;32m      <a href='vscode-notebook-cell:/c%3A/Users/integrated/Documents/jupyter%20notebook%20files/inheritance.ipynb#W2sZmlsZQ%3D%3D?line=3'>4</a>\u001b[0m     \u001b[39mself\u001b[39m\u001b[39m.\u001b[39mname \u001b[39m=\u001b[39m \u001b[39minput\u001b[39m(\u001b[39m\"\u001b[39m\u001b[39mEnter your name=\u001b[39m\u001b[39m\"\u001b[39m)\n\u001b[1;32m----> <a href='vscode-notebook-cell:/c%3A/Users/integrated/Documents/jupyter%20notebook%20files/inheritance.ipynb#W2sZmlsZQ%3D%3D?line=4'>5</a>\u001b[0m     \u001b[39mself\u001b[39m\u001b[39m.\u001b[39mmobile \u001b[39m=\u001b[39m \u001b[39mint\u001b[39;49m(\u001b[39minput\u001b[39;49m(\u001b[39m\"\u001b[39;49m\u001b[39mEnter mobile number=\u001b[39;49m\u001b[39m\"\u001b[39;49m))\n",
      "\u001b[1;31mValueError\u001b[0m: invalid literal for int() with base 10: ''"
     ]
    }
   ],
   "source": [
    "# single inhertiance using constructor\n",
    "class Person:\n",
    "    def __init__(self):\n",
    "        self.name = input(\"Enter your name=\")\n",
    "        self.mobile = int(input(\"Enter mobile number=\"))\n",
    "\n",
    "class Student(Person):\n",
    "    def __init__(self):\n",
    "        Person.__init__(self)\n",
    "        self.roll_number = int(input(\"Enter your roll number=\"))\n",
    "        \n",
    "    def display(self):\n",
    "        print(\"Student name=\", self.name)\n",
    "        print(\"Mobile number=\", self.mobile)\n",
    "        print(\"Roll number=\", self.roll_number)\n",
    "        \n",
    "obj_student = Student()\n",
    "obj_student.display()"
   ]
  },
  {
   "cell_type": "code",
   "execution_count": 8,
   "id": "91d42cb5",
   "metadata": {},
   "outputs": [
    {
     "name": "stdout",
     "output_type": "stream",
     "text": [
      "Enter father name =abc\n",
      "Enter mother name =pqr\n",
      "Enter child name =xyz\n",
      "Child name = xyz\n",
      "Father name = abc\n",
      "Mother name = pqr\n"
     ]
    }
   ],
   "source": [
    "# multiple inheritance\n",
    "\n",
    "class Father:\n",
    "    def fatherInfo(self):\n",
    "        self.father_name = input(\"Enter father name =\")\n",
    "        \n",
    "class Mother:\n",
    "    def motherInfo(self):\n",
    "        self.mother_name = input(\"Enter mother name =\")\n",
    "        \n",
    "class Child(Father, Mother):\n",
    "    def childInfo(self):\n",
    "        self.child_name = input(\"Enter child name =\") \n",
    "        \n",
    "    def dispaly(self):\n",
    "        print(\"Child name =\",self.child_name)\n",
    "        print(\"Father name =\",self.father_name)\n",
    "        print(\"Mother name =\",self.mother_name)\n",
    "\n",
    "obj_child = Child()\n",
    "\n",
    "obj_child.fatherInfo()\n",
    "obj_child.motherInfo()\n",
    "obj_child.childInfo()\n",
    "obj_child.dispaly()"
   ]
  },
  {
   "cell_type": "code",
   "execution_count": 2,
   "id": "aae440ef",
   "metadata": {},
   "outputs": [
    {
     "name": "stdout",
     "output_type": "stream",
     "text": [
      "Enter child name =abc\n",
      "Enter father name =pqr\n",
      "Enter mother name =xyz\n",
      "Child name = abc\n",
      "Father name = pqr\n",
      "Mother name = xyz\n"
     ]
    }
   ],
   "source": [
    "# multiple inheritance with constructor\n",
    "\n",
    "class Father:\n",
    "    def __init__(self):\n",
    "        self.father_name = input(\"Enter father name =\")\n",
    "        \n",
    "class Mother:\n",
    "    def __init__(self):\n",
    "        self.mother_name = input(\"Enter mother name =\")\n",
    "        \n",
    "class Child(Father, Mother):\n",
    "    def __init__(self):        \n",
    "        self.child_name = input(\"Enter child name =\")\n",
    "        Father.__init__(self)\n",
    "        Mother.__init__(self)\n",
    "        \n",
    "    def dispaly(self):\n",
    "        print(\"Child name =\",self.child_name)\n",
    "        print(\"Father name =\",self.father_name)\n",
    "        print(\"Mother name =\",self.mother_name)\n",
    "\n",
    "obj_child = Child()\n",
    "\n",
    "obj_child.dispaly()"
   ]
  },
  {
   "cell_type": "code",
   "execution_count": 7,
   "id": "6a0ac7be",
   "metadata": {},
   "outputs": [
    {
     "name": "stdout",
     "output_type": "stream",
     "text": [
      "Grand father name= ABC\n",
      "Father name= PQR\n",
      "Child name= XYZ\n"
     ]
    }
   ],
   "source": [
    "# multilevel inehritance, using constructor\n",
    "\n",
    "class grand_father:\n",
    "    def __init__(self):\n",
    "        print(\"Grand father name=\", 'ABC')\n",
    "        \n",
    "class father(grand_father):\n",
    "    def __init__(self):\n",
    "        grand_father.__init__(self)\n",
    "        print(\"Father name=\", 'PQR')\n",
    "        \n",
    "class child(father):\n",
    "    def __init__(self):\n",
    "        father.__init__(self)\n",
    "        print(\"Child name=\", 'XYZ')\n",
    "\n",
    "# obj_father = father()\n",
    "obj_child = child()"
   ]
  },
  {
   "cell_type": "code",
   "execution_count": 11,
   "id": "e56fa773",
   "metadata": {},
   "outputs": [
    {
     "name": "stdout",
     "output_type": "stream",
     "text": [
      "Enter your name=kunal\n",
      "Enter your mobile number=8899887766\n",
      "Enter roll number=101\n",
      "Student name= kunal\n",
      "Student mobile number= 8899887766\n",
      "Student roll number= 101\n",
      "\n",
      "Enter your name=ankit\n",
      "Enter your mobile number=7709649142\n",
      "Enter faculty payment=200000\n",
      "faculty name= ankit\n",
      "faculty mobile number= 7709649142\n",
      "faculty payment= 200000\n"
     ]
    }
   ],
   "source": [
    "# heirachical inheritance using constructor\n",
    "\n",
    "class Person:\n",
    "    def __init__(self):\n",
    "        self.name = input(\"Enter your name=\")\n",
    "        self.mobile = int(input(\"Enter your mobile number=\"))\n",
    "\n",
    "\n",
    "class Student(Person):\n",
    "    def __init__(self):\n",
    "        Person.__init__(self)\n",
    "        self.roll_number = int(input(\"Enter roll number=\"))\n",
    "\n",
    "    def studentDsiplay(self):\n",
    "        print(\"Student name=\", self.name)\n",
    "        print(\"Student mobile number=\", self.mobile)\n",
    "        print(\"Student roll number=\", self.roll_number)\n",
    "\n",
    "\n",
    "class Faculty(Person):\n",
    "    def __init__(self):\n",
    "        Person.__init__(self)\n",
    "        self.payment = int(input(\"Enter faculty payment=\"))\n",
    "\n",
    "    def facultyDsiplay(self):\n",
    "        print(\"faculty name=\", self.name)\n",
    "        print(\"faculty mobile number=\", self.mobile)\n",
    "        print(\"faculty payment=\", self.payment)\n",
    "\n",
    "\n",
    "obj_s = Student()\n",
    "obj_s.studentDsiplay()\n",
    "\n",
    "print()\n",
    "\n",
    "obj_f = Faculty()\n",
    "obj_f.facultyDsiplay()\n"
   ]
  },
  {
   "cell_type": "code",
   "execution_count": null,
   "id": "c5f09126",
   "metadata": {},
   "outputs": [],
   "source": []
  }
 ],
 "metadata": {
  "kernelspec": {
   "display_name": "Python 3.9.8 64-bit",
   "language": "python",
   "name": "python3"
  },
  "language_info": {
   "codemirror_mode": {
    "name": "ipython",
    "version": 3
   },
   "file_extension": ".py",
   "mimetype": "text/x-python",
   "name": "python",
   "nbconvert_exporter": "python",
   "pygments_lexer": "ipython3",
   "version": "3.9.8"
  },
  "vscode": {
   "interpreter": {
    "hash": "867b23448c8a5cfd354ca1def289a7dd2c828e227e30aae53b7fee6c3d858da2"
   }
  }
 },
 "nbformat": 4,
 "nbformat_minor": 5
}
