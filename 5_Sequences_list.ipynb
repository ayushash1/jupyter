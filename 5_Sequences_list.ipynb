{
 "cells": [
  {
   "cell_type": "code",
   "execution_count": 2,
   "id": "d77e4be9",
   "metadata": {},
   "outputs": [
    {
     "name": "stdout",
     "output_type": "stream",
     "text": [
      "11 <class 'list'>\n"
     ]
    }
   ],
   "source": [
    "#define list\n",
    "l1 = [10,20,30,40]\n",
    "print(11,type(l1))"
   ]
  },
  {
   "cell_type": "code",
   "execution_count": 4,
   "id": "4dd20d40",
   "metadata": {},
   "outputs": [
    {
     "name": "stdout",
     "output_type": "stream",
     "text": [
      "[] <class 'list'>\n"
     ]
    }
   ],
   "source": [
    "l2 = []\n",
    "print(l2, type(l1))"
   ]
  },
  {
   "cell_type": "code",
   "execution_count": 6,
   "id": "2a6ffcd7",
   "metadata": {},
   "outputs": [
    {
     "name": "stdout",
     "output_type": "stream",
     "text": [
      "[] <class 'list'>\n"
     ]
    }
   ],
   "source": [
    "l3 = list()\n",
    "print(l3,type(l3) )"
   ]
  },
  {
   "cell_type": "code",
   "execution_count": 16,
   "id": "53be4b8c",
   "metadata": {},
   "outputs": [
    {
     "name": "stdout",
     "output_type": "stream",
     "text": [
      "20\n",
      "[10, 20, 30, 40, 50]\n",
      "50\n",
      "[50, 40, 30, 20, 10]\n",
      "[20, 30, 40]\n"
     ]
    }
   ],
   "source": [
    "#slicing operator\n",
    "\n",
    "l1 = [10,20,30,40,50]\n",
    "print(l1[1])\n",
    "print(l1[0:5])\n",
    "print(l1[-1])\n",
    "print(l1[-1:-6:-1])\n",
    "print(l1[1:-1])"
   ]
  },
  {
   "cell_type": "code",
   "execution_count": 1,
   "id": "5c6803d9",
   "metadata": {},
   "outputs": [],
   "source": [
    "# list operations"
   ]
  },
  {
   "cell_type": "code",
   "execution_count": 3,
   "id": "4d015443",
   "metadata": {},
   "outputs": [
    {
     "name": "stdout",
     "output_type": "stream",
     "text": [
      "[1, 2, 3, 1, 2, 3, 1, 2, 3]\n"
     ]
    }
   ],
   "source": [
    "# Repetation or replication(*)\n",
    "\n",
    "l1 = [1,2,3]\n",
    "print(l1*3)"
   ]
  },
  {
   "cell_type": "code",
   "execution_count": 5,
   "id": "225f710f",
   "metadata": {},
   "outputs": [
    {
     "name": "stdout",
     "output_type": "stream",
     "text": [
      "[1, 2, 3, 'a', 'b', 'c']\n"
     ]
    }
   ],
   "source": [
    "# Canactination(+)\n",
    "l1 = [1,2,3]\n",
    "l2 = ['a','b','c']\n",
    "\n",
    "print(l1+l2)"
   ]
  },
  {
   "cell_type": "code",
   "execution_count": 8,
   "id": "1ea6e5f8",
   "metadata": {},
   "outputs": [
    {
     "name": "stdout",
     "output_type": "stream",
     "text": [
      "True\n",
      "True\n"
     ]
    }
   ],
   "source": [
    "#Memership operator\n",
    "l1 = [1,2,3,'a','b','c',[1,2,3]]\n",
    "\n",
    "print('a'in l1)\n",
    "print([1,2,3]in l1)"
   ]
  },
  {
   "cell_type": "code",
   "execution_count": 6,
   "id": "31f5fe7e",
   "metadata": {},
   "outputs": [
    {
     "name": "stdout",
     "output_type": "stream",
     "text": [
      "1\n",
      "2\n",
      "3\n",
      "a\n",
      "b\n",
      "c\n",
      "[1, 2, 3]\n"
     ]
    }
   ],
   "source": [
    "#Memership operator\n",
    "l1 = [1,2,3,'a','b','c',[1,2,3]]\n",
    "\n",
    "for i in l1:\n",
    "    print(i)"
   ]
  },
  {
   "cell_type": "code",
   "execution_count": 1,
   "id": "8e434ce4",
   "metadata": {},
   "outputs": [
    {
     "name": "stdout",
     "output_type": "stream",
     "text": [
      "7\n"
     ]
    }
   ],
   "source": [
    "l1 = [1,2,3,'a','b','c',[1,2,3]]\n",
    "print(len(l1))"
   ]
  },
  {
   "cell_type": "code",
   "execution_count": 3,
   "id": "7854f3a4",
   "metadata": {},
   "outputs": [
    {
     "name": "stdout",
     "output_type": "stream",
     "text": [
      "[1, 2, 3, 'a', 'b', 'c', [1, 2, 3]]\n",
      "[1, 2, 3, 'a', 'b', 'c', [1, 2, 3], 12.56]\n"
     ]
    }
   ],
   "source": [
    "#append ()\n",
    "l1 = [1,2,3,'a','b','c',[1,2,3]]\n",
    "\n",
    "print(l1)\n",
    "l1.append (12.56)\n",
    "\n",
    "print(l1)"
   ]
  },
  {
   "cell_type": "code",
   "execution_count": 4,
   "id": "12e259c1",
   "metadata": {},
   "outputs": [
    {
     "name": "stdout",
     "output_type": "stream",
     "text": [
      "[10, 20, 30]\n",
      "['a', 'b', 'c']\n",
      "[10, 20, 30, 'a', 'b', 'c']\n",
      "['a', 'b', 'c']\n"
     ]
    }
   ],
   "source": [
    "#extend ()\n",
    "l1 = [10,20,30]\n",
    "l2 = ['a','b','c']\n",
    "\n",
    "print( l1)\n",
    "print(l2)\n",
    "\n",
    "l1.extend(l2)\n",
    "\n",
    "print(l1)\n",
    "print(l2)"
   ]
  },
  {
   "cell_type": "code",
   "execution_count": 5,
   "id": "111f7b93",
   "metadata": {},
   "outputs": [
    {
     "name": "stdout",
     "output_type": "stream",
     "text": [
      "l1 [1, 2, 3, 'a', 'b', 'c', [1, 2, 3]]\n",
      "l1 [1, 2, 100, 3, 'a', 'b', 'c', [1, 2, 3]]\n"
     ]
    }
   ],
   "source": [
    "#insert ()\n",
    "l1 = [1,2,3,'a','b','c',[1,2,3]]\n",
    "\n",
    "print(\"l1\",l1)\n",
    "\n",
    "l1.insert(2,100)\n",
    "\n",
    "print(\"l1\",l1)"
   ]
  },
  {
   "cell_type": "code",
   "execution_count": 8,
   "id": "6cf80e1f",
   "metadata": {},
   "outputs": [
    {
     "name": "stdout",
     "output_type": "stream",
     "text": [
      "[1, 2, 3, 100, 'a', 'b', 'c', [1, 2, 3], 'asdf', 'pqr']\n",
      "pqr\n",
      "[1, 2, 3, 100, 'a', 'b', 'c', [1, 2, 3], 'asdf']\n",
      "[1, 2, 3, 'a', 'b', 'c', [1, 2, 3], 'asdf']\n",
      "[1, 2, 'a', 'b', 'c', [1, 2, 3], 'asdf']\n",
      "[]\n"
     ]
    },
    {
     "ename": "NameError",
     "evalue": "name 'l1' is not defined",
     "output_type": "error",
     "traceback": [
      "\u001b[1;31m---------------------------------------------------------------------------\u001b[0m",
      "\u001b[1;31mNameError\u001b[0m                                 Traceback (most recent call last)",
      "Input \u001b[1;32mIn [8]\u001b[0m, in \u001b[0;36m<cell line: 20>\u001b[1;34m()\u001b[0m\n\u001b[0;32m     17\u001b[0m \u001b[38;5;28mprint\u001b[39m(l1)\n\u001b[0;32m     19\u001b[0m \u001b[38;5;28;01mdel\u001b[39;00m l1\n\u001b[1;32m---> 20\u001b[0m \u001b[38;5;28mprint\u001b[39m(\u001b[43ml1\u001b[49m)\n",
      "\u001b[1;31mNameError\u001b[0m: name 'l1' is not defined"
     ]
    }
   ],
   "source": [
    "l1 = l1 = [1,2,3,100,'a','b','c',[1,2,3], 'asdf', 'pqr']\n",
    "print(l1)\n",
    "\n",
    "#pop\n",
    "print(l1.pop())\n",
    "print(l1)\n",
    "\n",
    "#remove\n",
    "l1.remove(100)\n",
    "print(l1)\n",
    "\n",
    "#del\n",
    "del l1[2]\n",
    "print(l1)\n",
    "\n",
    "l1.clear()\n",
    "print(l1)\n",
    "\n",
    "del l1\n",
    "print(l1)"
   ]
  },
  {
   "cell_type": "code",
   "execution_count": 1,
   "id": "5ad846a5",
   "metadata": {},
   "outputs": [
    {
     "name": "stdout",
     "output_type": "stream",
     "text": [
      "[10, 20, 100, 30, 'a', 'b', 'c', (1+2j), 'asdf', 'pqr']\n",
      "[10, 20, 100, 12.34, 'a', 'b', 'c', (1+2j), 'asdf', 'pqr']\n"
     ]
    }
   ],
   "source": [
    "#update list\n",
    "\n",
    "l1 = [10,20,100,30,'a','b','c',(1+2j),'asdf','pqr']\n",
    "\n",
    "print(l1)\n",
    "l1[3] = 12.34\n",
    "\n",
    "print(l1)"
   ]
  },
  {
   "cell_type": "code",
   "execution_count": 6,
   "id": "da00cdee",
   "metadata": {},
   "outputs": [
    {
     "name": "stdout",
     "output_type": "stream",
     "text": [
      "minimum value of list =  10\n",
      "maximum value of list =  100\n",
      "length of all integers =  8\n",
      "sum of numbers =  215.34\n",
      "count of numbers =  3\n",
      "index of number =  2\n",
      "index of number =  0\n",
      "10 0\n",
      "20 1\n",
      "100 2\n",
      "30 3\n",
      "12.34 4\n",
      "10 0\n",
      "23 6\n",
      "10 0\n"
     ]
    }
   ],
   "source": [
    "#list inbuild function\n",
    "\n",
    "l1 = [10,20,100,30,12.34,10,23,10]\n",
    "0\n",
    "print(\"minimum value of list = \", min(l1))\n",
    "\n",
    "print(\"maximum value of list = \", max(l1))\n",
    "\n",
    "print(\"length of all integers = \",len(l1))\n",
    "\n",
    "print(\"sum of numbers = \",sum(l1))\n",
    "\n",
    "print(\"count of numbers = \", l1.count(10))\n",
    "\n",
    "print(\"index of number 100 = \", l1.index(100))\n",
    "\n",
    "print(\"index of number 10 = \", l1.index(10))\n",
    "\n",
    "for i in l1:\n",
    "    print(i,l1.index(i))\n"
   ]
  },
  {
   "cell_type": "code",
   "execution_count": 8,
   "id": "6c265f96",
   "metadata": {},
   "outputs": [
    {
     "name": "stdout",
     "output_type": "stream",
     "text": [
      "[10, 20, 100, 30, 12.34, 10, 23, 10]\n",
      "reverse of list =  [10, 23, 10, 12.34, 30, 100, 20, 10]\n"
     ]
    }
   ],
   "source": [
    "l1 = [10,20,100,30,12.34,10,23,10]\n",
    "\n",
    "print(l1)\n",
    "\n",
    "l1.reverse()\n",
    "\n",
    "print(\"reverse of list = \", l1)"
   ]
  },
  {
   "cell_type": "code",
   "execution_count": 10,
   "id": "bdc74a87",
   "metadata": {},
   "outputs": [
    {
     "name": "stdout",
     "output_type": "stream",
     "text": [
      "[10, 20, 100, 30, 12.34, 10, 23, 10]\n",
      "[10, 10, 10, 12.34, 20, 23, 30, 100]\n"
     ]
    }
   ],
   "source": [
    "#sort\n",
    "l1 = [10,20,100,30,12.34,10,23,10]\n",
    "\n",
    "print(l1)\n",
    "\n",
    "l1.sort()\n",
    "\n",
    "print(l1)"
   ]
  },
  {
   "cell_type": "code",
   "execution_count": 11,
   "id": "11fec531",
   "metadata": {},
   "outputs": [
    {
     "name": "stdout",
     "output_type": "stream",
     "text": [
      "[10, 20, 100, 30, 12.34, 10, 23, 10]\n",
      "[100, 30, 23, 20, 12.34, 10, 10, 10]\n"
     ]
    }
   ],
   "source": [
    "#sort and reverse\n",
    "l1 = [10,20,100,30,12.34,10,23,10]\n",
    "\n",
    "print(l1)\n",
    "\n",
    "l1.sort(reverse=True)\n",
    "\n",
    "print(l1)"
   ]
  }
 ],
 "metadata": {
  "kernelspec": {
   "display_name": "Python 3 (ipykernel)",
   "language": "python",
   "name": "python3"
  },
  "language_info": {
   "codemirror_mode": {
    "name": "ipython",
    "version": 3
   },
   "file_extension": ".py",
   "mimetype": "text/x-python",
   "name": "python",
   "nbconvert_exporter": "python",
   "pygments_lexer": "ipython3",
   "version": "3.9.8"
  }
 },
 "nbformat": 4,
 "nbformat_minor": 5
}
