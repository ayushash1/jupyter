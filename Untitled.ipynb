{
 "cells": [
  {
   "cell_type": "code",
   "execution_count": 1,
   "id": "fb094689",
   "metadata": {},
   "outputs": [
    {
     "name": "stdout",
     "output_type": "stream",
     "text": [
      "\"hello student's\"\n"
     ]
    }
   ],
   "source": [
    "print('''\"hello student's\"''')"
   ]
  },
  {
   "cell_type": "code",
   "execution_count": 2,
   "id": "ecc5370d",
   "metadata": {},
   "outputs": [
    {
     "name": "stdout",
     "output_type": "stream",
     "text": [
      "value of first variable is 20 and value of second variable is 30,\n"
     ]
    }
   ],
   "source": [
    "v1 = 20\n",
    "v2 = 30\n",
    "\n",
    "print(\"value of first variable is %d and value of second variable is %d,\"%(v1,v2))"
   ]
  },
  {
   "cell_type": "code",
   "execution_count": 3,
   "id": "dcf84c2c",
   "metadata": {},
   "outputs": [
    {
     "name": "stdout",
     "output_type": "stream",
     "text": [
      "hello world \n",
      "hello students\n"
     ]
    }
   ],
   "source": [
    "print(\"hello world \\nhello students\")"
   ]
  },
  {
   "cell_type": "code",
   "execution_count": 4,
   "id": "742d65c6",
   "metadata": {},
   "outputs": [
    {
     "name": "stdout",
     "output_type": "stream",
     "text": [
      "abc pqr xyz hello world\n"
     ]
    }
   ],
   "source": [
    "print(\"abc pqr xyz\",end=' ')\n",
    "print(\"hello world\")"
   ]
  },
  {
   "cell_type": "code",
   "execution_count": null,
   "id": "4d971c52",
   "metadata": {},
   "outputs": [],
   "source": []
  }
 ],
 "metadata": {
  "kernelspec": {
   "display_name": "Python 3 (ipykernel)",
   "language": "python",
   "name": "python3"
  },
  "language_info": {
   "codemirror_mode": {
    "name": "ipython",
    "version": 3
   },
   "file_extension": ".py",
   "mimetype": "text/x-python",
   "name": "python",
   "nbconvert_exporter": "python",
   "pygments_lexer": "ipython3",
   "version": "3.9.8"
  }
 },
 "nbformat": 4,
 "nbformat_minor": 5
}
