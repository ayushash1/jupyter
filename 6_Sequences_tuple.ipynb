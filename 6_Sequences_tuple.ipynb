{
 "cells": [
  {
   "cell_type": "code",
   "execution_count": 1,
   "id": "f9a3e8f6",
   "metadata": {},
   "outputs": [],
   "source": [
    "#tuple\n",
    "#tuple is a imutable data type"
   ]
  },
  {
   "cell_type": "code",
   "execution_count": 2,
   "id": "58aac607",
   "metadata": {},
   "outputs": [
    {
     "name": "stdout",
     "output_type": "stream",
     "text": [
      "() <class 'tuple'>\n"
     ]
    }
   ],
   "source": [
    "#define a tuple\n",
    "\n",
    "t1 = ()\n",
    "\n",
    "print(t1, type(t1))"
   ]
  },
  {
   "cell_type": "code",
   "execution_count": 3,
   "id": "81e0bed8",
   "metadata": {},
   "outputs": [
    {
     "name": "stdout",
     "output_type": "stream",
     "text": [
      "(10, 20, 30, 40) <class 'tuple'>\n"
     ]
    }
   ],
   "source": [
    "t1 = (10,20,30,40)\n",
    "\n",
    "print(t1, type(t1))"
   ]
  },
  {
   "cell_type": "code",
   "execution_count": 4,
   "id": "248423dc",
   "metadata": {},
   "outputs": [
    {
     "name": "stdout",
     "output_type": "stream",
     "text": [
      "(1, 'abcde', 34.4) <class 'tuple'>\n"
     ]
    }
   ],
   "source": [
    "t2 = 1,'abcde',34.4\n",
    "print(t2,type(t2))"
   ]
  },
  {
   "cell_type": "code",
   "execution_count": 5,
   "id": "e6b03c64",
   "metadata": {},
   "outputs": [
    {
     "name": "stdout",
     "output_type": "stream",
     "text": [
      "90\n",
      "(90, 'abcde', 10, 20)\n",
      "(20, 10, 'abcde', 90)\n",
      "(20, 10, 'abcde', 90)\n"
     ]
    }
   ],
   "source": [
    "t3 = (1,2,3,90,'abcde',10,20,30)\n",
    "\n",
    "print(t3[3])\n",
    "print(t3[3:7])\n",
    "print(t3[6:2:-1])\n",
    "print(t3[-2:-6:-1])"
   ]
  },
  {
   "cell_type": "code",
   "execution_count": 7,
   "id": "6542b2e7",
   "metadata": {},
   "outputs": [
    {
     "name": "stdout",
     "output_type": "stream",
     "text": [
      "[1, 2, 3, 4] <class 'list'>\n",
      "(1, 2, 3, 4) <class 'tuple'>\n"
     ]
    }
   ],
   "source": [
    "# creating tuple from existing sequence\n",
    "l1 = [1,2,3,4]\n",
    "\n",
    "print(l1, type(l1))\n",
    "\n",
    "t1 = tuple(l1)\n",
    "\n",
    "print(t1,type(t1))\n"
   ]
  },
  {
   "cell_type": "code",
   "execution_count": 1,
   "id": "69c202d3",
   "metadata": {},
   "outputs": [
    {
     "name": "stdout",
     "output_type": "stream",
     "text": [
      "Enter numbers = 12,34,32,23,45,43\n",
      "(12, 34, 32, 23, 45, 43) <class 'tuple'>\n"
     ]
    }
   ],
   "source": [
    "# creating a tuple from input\n",
    "v1 = eval(input(\"Enter numbers = \"))\n",
    "print(v1,type(v1))"
   ]
  },
  {
   "cell_type": "code",
   "execution_count": 2,
   "id": "0d483dec",
   "metadata": {},
   "outputs": [
    {
     "name": "stdout",
     "output_type": "stream",
     "text": [
      "Enter numbers = 12,34,43,25,67,65\n",
      "(12, 34, 43, 25, 67, 65) <class 'tuple'>\n"
     ]
    }
   ],
   "source": [
    "v1 = tuple(eval(input(\"Enter numbers = \")))\n",
    "print(v1,type(v1))"
   ]
  },
  {
   "cell_type": "code",
   "execution_count": 2,
   "id": "463836d7",
   "metadata": {},
   "outputs": [
    {
     "name": "stdout",
     "output_type": "stream",
     "text": [
      "Enter numbers = 3,4\n",
      "[3, 4] <class 'list'>\n"
     ]
    }
   ],
   "source": [
    "v1 = list(eval(input(\"Enter numbers = \")))\n",
    "print(v1,type(v1))"
   ]
  },
  {
   "cell_type": "code",
   "execution_count": 4,
   "id": "647b9f01",
   "metadata": {},
   "outputs": [
    {
     "name": "stdout",
     "output_type": "stream",
     "text": [
      "Enter a number = 12,34,89\n",
      "(12, 34, 89) <class 'tuple'>\n"
     ]
    }
   ],
   "source": [
    "v1 = eval(input(\"Enter a number = \"))\n",
    "print(v1,type(v1))"
   ]
  },
  {
   "cell_type": "code",
   "execution_count": 5,
   "id": "9c73f54e",
   "metadata": {},
   "outputs": [
    {
     "name": "stdout",
     "output_type": "stream",
     "text": [
      "Enter a number = [12,43,69]\n",
      "[12, 43, 69] <class 'list'>\n"
     ]
    }
   ],
   "source": [
    "v1 = eval(input(\"Enter a number = \"))\n",
    "print(v1,type(v1))\n"
   ]
  },
  {
   "cell_type": "code",
   "execution_count": 6,
   "id": "0d943cfc",
   "metadata": {},
   "outputs": [
    {
     "name": "stdout",
     "output_type": "stream",
     "text": [
      "1\n",
      "2\n",
      "3\n",
      "4\n",
      "5\n",
      "6\n",
      "7\n",
      "8\n",
      "9\n"
     ]
    }
   ],
   "source": [
    "# traversing a tuple\n",
    "t1 = 1,2,3,4,5,6,7,8,9\n",
    "for i in t1:\n",
    "    print(i)"
   ]
  },
  {
   "cell_type": "code",
   "execution_count": 7,
   "id": "eec84294",
   "metadata": {},
   "outputs": [
    {
     "name": "stdout",
     "output_type": "stream",
     "text": [
      "(10, 20, 30)\n",
      "('a', 'b', 'c')\n",
      "(10, 20, 30, 'a', 'b', 'c')\n",
      "(10, 20, 30)\n",
      "('a', 'b', 'c')\n"
     ]
    }
   ],
   "source": [
    "#joining a tuple\n",
    "t1 = 10,20,30\n",
    "t2 = 'a','b','c'\n",
    "\n",
    "print(t1)\n",
    "print(t2)\n",
    "\n",
    "print(t1+t2)\n",
    "\n",
    "print(t1)\n",
    "print(t2)"
   ]
  },
  {
   "cell_type": "code",
   "execution_count": 8,
   "id": "a8b9efc8",
   "metadata": {},
   "outputs": [
    {
     "name": "stdout",
     "output_type": "stream",
     "text": [
      "(10, 20, 30, 'a', 'b', 'c', 10, 20, 30, 'a', 'b', 'c', 10, 20, 30, 'a', 'b', 'c')\n"
     ]
    }
   ],
   "source": [
    "# replacin/repeating\n",
    "t3 = (10, 20, 30, 'a', 'b', 'c')\n",
    "\n",
    "print(t3*3)\n",
    "\n",
    "#len\n",
    "print(\"lenght of tuple \",len(t3))"
   ]
  },
  {
   "cell_type": "code",
   "execution_count": 12,
   "id": "b0cf7ea4",
   "metadata": {},
   "outputs": [
    {
     "name": "stdout",
     "output_type": "stream",
     "text": [
      "maximum number in tuple 59.34\n",
      "minimum number in tuple 1\n",
      "Index of number 5\n",
      "sum of numbers 208.34\n",
      "count of a number =  1\n"
     ]
    }
   ],
   "source": [
    "t1 = 1,20,30,40,59.34,12,46\n",
    "\n",
    "#max\n",
    "print(\"maximum number in tuple\",max(t1))\n",
    "\n",
    "#min\n",
    "print(\"minimum number in tuple\",min(t1))\n",
    "\n",
    "#index\n",
    "print(\"Index of number\",t1.index(12))\n",
    "\n",
    "#sum\n",
    "print(\"sum of numbers\",sum(t1))\n",
    "\n",
    "#count\n",
    "print(\"count of a number = \", t1.count(1))"
   ]
  },
  {
   "cell_type": "code",
   "execution_count": 4,
   "id": "19c8c0af",
   "metadata": {},
   "outputs": [
    {
     "name": "stdout",
     "output_type": "stream",
     "text": [
      "(1, 2, 3)\n",
      "(1, 2, 3)\n",
      "a= 1\n",
      "b= 2\n",
      "c= 3\n"
     ]
    }
   ],
   "source": [
    "# packing and unpacking\n",
    "t1 = 1,2,3 #packing\n",
    "a,b,c = t1 #unpacking\n",
    "\n",
    "print(t1)\n",
    "print(t1)\n",
    "\n",
    "print(\"a=\",a)\n",
    "print(\"b=\",b)\n",
    "print(\"c=\",c)"
   ]
  },
  {
   "cell_type": "code",
   "execution_count": 18,
   "id": "c68a4af6",
   "metadata": {},
   "outputs": [
    {
     "name": "stdout",
     "output_type": "stream",
     "text": [
      "[1, 2, 3, 100, 'a', 'b', 'c', [1, 2, 3], 'asdf', 'pqr'] <class 'list'>\n",
      "pqr\n",
      "[1, 2, 3, 100, 'a', 'b', 'c', [1, 2, 3], 'asdf']\n",
      "[1, 2, 3, 'a', 'b', 'c', [1, 2, 3], 'asdf']\n",
      "[1, 2, 'a', 'b', 'c', [1, 2, 3], 'asdf']\n",
      "[]\n"
     ]
    }
   ],
   "source": [
    "# list mutable\n",
    "\n",
    "l1 = l1 = [1,2,3,100,'a','b','c',[1,2,3], 'asdf', 'pqr']\n",
    "print(l1,type(l1))\n",
    "\n",
    "#pop\n",
    "print(l1.pop())\n",
    "print(l1)\n",
    "\n",
    "#remove\n",
    "l1.remove(100)\n",
    "print(l1)\n",
    "\n",
    "#del\n",
    "del l1[2]\n",
    "print(l1)\n",
    "\n",
    "l1.clear()\n",
    "print(l1)\n",
    "\n",
    "del l1\n",
    "#print(l1)"
   ]
  },
  {
   "cell_type": "code",
   "execution_count": 19,
   "id": "17b62f6c",
   "metadata": {},
   "outputs": [
    {
     "name": "stdout",
     "output_type": "stream",
     "text": [
      "(10, 20, 30, 40) <class 'tuple'>\n"
     ]
    }
   ],
   "source": [
    "#tuple immutalble\n",
    "t1 = (10,20,30,40)\n",
    "\n",
    "print(t1,type(t1))\n",
    "\n",
    "#t1.append(30)\n",
    "#print(t1,type(t1))\n",
    "\n",
    "#t1[1]=100\n",
    "\n",
    "#t1.pop()"
   ]
  },
  {
   "cell_type": "code",
   "execution_count": 20,
   "id": "90390c7a",
   "metadata": {},
   "outputs": [
    {
     "name": "stdout",
     "output_type": "stream",
     "text": [
      "Help on class tuple in module builtins:\n",
      "\n",
      "class tuple(object)\n",
      " |  tuple(iterable=(), /)\n",
      " |  \n",
      " |  Built-in immutable sequence.\n",
      " |  \n",
      " |  If no argument is given, the constructor returns an empty tuple.\n",
      " |  If iterable is specified the tuple is initialized from iterable's items.\n",
      " |  \n",
      " |  If the argument is a tuple, the return value is the same object.\n",
      " |  \n",
      " |  Built-in subclasses:\n",
      " |      asyncgen_hooks\n",
      " |      UnraisableHookArgs\n",
      " |  \n",
      " |  Methods defined here:\n",
      " |  \n",
      " |  __add__(self, value, /)\n",
      " |      Return self+value.\n",
      " |  \n",
      " |  __contains__(self, key, /)\n",
      " |      Return key in self.\n",
      " |  \n",
      " |  __eq__(self, value, /)\n",
      " |      Return self==value.\n",
      " |  \n",
      " |  __ge__(self, value, /)\n",
      " |      Return self>=value.\n",
      " |  \n",
      " |  __getattribute__(self, name, /)\n",
      " |      Return getattr(self, name).\n",
      " |  \n",
      " |  __getitem__(self, key, /)\n",
      " |      Return self[key].\n",
      " |  \n",
      " |  __getnewargs__(self, /)\n",
      " |  \n",
      " |  __gt__(self, value, /)\n",
      " |      Return self>value.\n",
      " |  \n",
      " |  __hash__(self, /)\n",
      " |      Return hash(self).\n",
      " |  \n",
      " |  __iter__(self, /)\n",
      " |      Implement iter(self).\n",
      " |  \n",
      " |  __le__(self, value, /)\n",
      " |      Return self<=value.\n",
      " |  \n",
      " |  __len__(self, /)\n",
      " |      Return len(self).\n",
      " |  \n",
      " |  __lt__(self, value, /)\n",
      " |      Return self<value.\n",
      " |  \n",
      " |  __mul__(self, value, /)\n",
      " |      Return self*value.\n",
      " |  \n",
      " |  __ne__(self, value, /)\n",
      " |      Return self!=value.\n",
      " |  \n",
      " |  __repr__(self, /)\n",
      " |      Return repr(self).\n",
      " |  \n",
      " |  __rmul__(self, value, /)\n",
      " |      Return value*self.\n",
      " |  \n",
      " |  count(self, value, /)\n",
      " |      Return number of occurrences of value.\n",
      " |  \n",
      " |  index(self, value, start=0, stop=9223372036854775807, /)\n",
      " |      Return first index of value.\n",
      " |      \n",
      " |      Raises ValueError if the value is not present.\n",
      " |  \n",
      " |  ----------------------------------------------------------------------\n",
      " |  Class methods defined here:\n",
      " |  \n",
      " |  __class_getitem__(...) from builtins.type\n",
      " |      See PEP 585\n",
      " |  \n",
      " |  ----------------------------------------------------------------------\n",
      " |  Static methods defined here:\n",
      " |  \n",
      " |  __new__(*args, **kwargs) from builtins.type\n",
      " |      Create and return a new object.  See help(type) for accurate signature.\n",
      "\n"
     ]
    }
   ],
   "source": [
    "help(tuple)"
   ]
  },
  {
   "cell_type": "code",
   "execution_count": 21,
   "id": "57eb1089",
   "metadata": {},
   "outputs": [
    {
     "name": "stdout",
     "output_type": "stream",
     "text": [
      "Help on class list in module builtins:\n",
      "\n",
      "class list(object)\n",
      " |  list(iterable=(), /)\n",
      " |  \n",
      " |  Built-in mutable sequence.\n",
      " |  \n",
      " |  If no argument is given, the constructor creates a new empty list.\n",
      " |  The argument must be an iterable if specified.\n",
      " |  \n",
      " |  Methods defined here:\n",
      " |  \n",
      " |  __add__(self, value, /)\n",
      " |      Return self+value.\n",
      " |  \n",
      " |  __contains__(self, key, /)\n",
      " |      Return key in self.\n",
      " |  \n",
      " |  __delitem__(self, key, /)\n",
      " |      Delete self[key].\n",
      " |  \n",
      " |  __eq__(self, value, /)\n",
      " |      Return self==value.\n",
      " |  \n",
      " |  __ge__(self, value, /)\n",
      " |      Return self>=value.\n",
      " |  \n",
      " |  __getattribute__(self, name, /)\n",
      " |      Return getattr(self, name).\n",
      " |  \n",
      " |  __getitem__(...)\n",
      " |      x.__getitem__(y) <==> x[y]\n",
      " |  \n",
      " |  __gt__(self, value, /)\n",
      " |      Return self>value.\n",
      " |  \n",
      " |  __iadd__(self, value, /)\n",
      " |      Implement self+=value.\n",
      " |  \n",
      " |  __imul__(self, value, /)\n",
      " |      Implement self*=value.\n",
      " |  \n",
      " |  __init__(self, /, *args, **kwargs)\n",
      " |      Initialize self.  See help(type(self)) for accurate signature.\n",
      " |  \n",
      " |  __iter__(self, /)\n",
      " |      Implement iter(self).\n",
      " |  \n",
      " |  __le__(self, value, /)\n",
      " |      Return self<=value.\n",
      " |  \n",
      " |  __len__(self, /)\n",
      " |      Return len(self).\n",
      " |  \n",
      " |  __lt__(self, value, /)\n",
      " |      Return self<value.\n",
      " |  \n",
      " |  __mul__(self, value, /)\n",
      " |      Return self*value.\n",
      " |  \n",
      " |  __ne__(self, value, /)\n",
      " |      Return self!=value.\n",
      " |  \n",
      " |  __repr__(self, /)\n",
      " |      Return repr(self).\n",
      " |  \n",
      " |  __reversed__(self, /)\n",
      " |      Return a reverse iterator over the list.\n",
      " |  \n",
      " |  __rmul__(self, value, /)\n",
      " |      Return value*self.\n",
      " |  \n",
      " |  __setitem__(self, key, value, /)\n",
      " |      Set self[key] to value.\n",
      " |  \n",
      " |  __sizeof__(self, /)\n",
      " |      Return the size of the list in memory, in bytes.\n",
      " |  \n",
      " |  append(self, object, /)\n",
      " |      Append object to the end of the list.\n",
      " |  \n",
      " |  clear(self, /)\n",
      " |      Remove all items from list.\n",
      " |  \n",
      " |  copy(self, /)\n",
      " |      Return a shallow copy of the list.\n",
      " |  \n",
      " |  count(self, value, /)\n",
      " |      Return number of occurrences of value.\n",
      " |  \n",
      " |  extend(self, iterable, /)\n",
      " |      Extend list by appending elements from the iterable.\n",
      " |  \n",
      " |  index(self, value, start=0, stop=9223372036854775807, /)\n",
      " |      Return first index of value.\n",
      " |      \n",
      " |      Raises ValueError if the value is not present.\n",
      " |  \n",
      " |  insert(self, index, object, /)\n",
      " |      Insert object before index.\n",
      " |  \n",
      " |  pop(self, index=-1, /)\n",
      " |      Remove and return item at index (default last).\n",
      " |      \n",
      " |      Raises IndexError if list is empty or index is out of range.\n",
      " |  \n",
      " |  remove(self, value, /)\n",
      " |      Remove first occurrence of value.\n",
      " |      \n",
      " |      Raises ValueError if the value is not present.\n",
      " |  \n",
      " |  reverse(self, /)\n",
      " |      Reverse *IN PLACE*.\n",
      " |  \n",
      " |  sort(self, /, *, key=None, reverse=False)\n",
      " |      Sort the list in ascending order and return None.\n",
      " |      \n",
      " |      The sort is in-place (i.e. the list itself is modified) and stable (i.e. the\n",
      " |      order of two equal elements is maintained).\n",
      " |      \n",
      " |      If a key function is given, apply it once to each list item and sort them,\n",
      " |      ascending or descending, according to their function values.\n",
      " |      \n",
      " |      The reverse flag can be set to sort in descending order.\n",
      " |  \n",
      " |  ----------------------------------------------------------------------\n",
      " |  Class methods defined here:\n",
      " |  \n",
      " |  __class_getitem__(...) from builtins.type\n",
      " |      See PEP 585\n",
      " |  \n",
      " |  ----------------------------------------------------------------------\n",
      " |  Static methods defined here:\n",
      " |  \n",
      " |  __new__(*args, **kwargs) from builtins.type\n",
      " |      Create and return a new object.  See help(type) for accurate signature.\n",
      " |  \n",
      " |  ----------------------------------------------------------------------\n",
      " |  Data and other attributes defined here:\n",
      " |  \n",
      " |  __hash__ = None\n",
      "\n"
     ]
    }
   ],
   "source": [
    "help(list)"
   ]
  },
  {
   "cell_type": "code",
   "execution_count": null,
   "id": "989b3529",
   "metadata": {},
   "outputs": [],
   "source": []
  }
 ],
 "metadata": {
  "kernelspec": {
   "display_name": "Python 3 (ipykernel)",
   "language": "python",
   "name": "python3"
  },
  "language_info": {
   "codemirror_mode": {
    "name": "ipython",
    "version": 3
   },
   "file_extension": ".py",
   "mimetype": "text/x-python",
   "name": "python",
   "nbconvert_exporter": "python",
   "pygments_lexer": "ipython3",
   "version": "3.9.8"
  }
 },
 "nbformat": 4,
 "nbformat_minor": 5
}
