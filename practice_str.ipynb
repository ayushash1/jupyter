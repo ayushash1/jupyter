{
 "cells": [
  {
   "cell_type": "code",
   "execution_count": 3,
   "id": "aee88790",
   "metadata": {},
   "outputs": [
    {
     "name": "stdout",
     "output_type": "stream",
     "text": [
      "['hello', 'world,', 'students'] <class 'list'>\n",
      "Number of words in string =  3\n"
     ]
    }
   ],
   "source": [
    "#write a python script to count words in given string.\n",
    "\n",
    "s1 = \"hello world, students\"\n",
    "l1 = s1.split()\n",
    "\n",
    "print(l1,type(l1))\n",
    "\n",
    "sum1=0\n",
    "\n",
    "for i in l1:\n",
    "    sum1+=1\n",
    "    \n",
    "print(\"Number of words in string = \", sum1)\n"
   ]
  },
  {
   "cell_type": "code",
   "execution_count": 9,
   "id": "bfb3ddaf",
   "metadata": {},
   "outputs": [
    {
     "name": "stdout",
     "output_type": "stream",
     "text": [
      "{40, 10, 50, 20, 30} <class 'set'>\n",
      "[40, 10, 50, 20, 30] <class 'list'>\n"
     ]
    }
   ],
   "source": [
    "l1 = [10,20,30,40,50,10]\n",
    "\n",
    "s1 = set(l1)\n",
    "\n",
    "print(s1,type(s1))\n",
    "\n",
    "l1 = list(s1)\n",
    "\n",
    "print(l1,type(l1))"
   ]
  },
  {
   "cell_type": "code",
   "execution_count": 10,
   "id": "f6624d70",
   "metadata": {},
   "outputs": [
    {
     "name": "stdout",
     "output_type": "stream",
     "text": [
      "Enter a number : 47.09\n",
      "47.09 <class 'float'>\n"
     ]
    }
   ],
   "source": [
    "n1= eval(input(\"Enter a number : \"))\n",
    "print(n1,type(n1))"
   ]
  },
  {
   "cell_type": "code",
   "execution_count": null,
   "id": "0d798e14",
   "metadata": {},
   "outputs": [],
   "source": []
  }
 ],
 "metadata": {
  "kernelspec": {
   "display_name": "Python 3 (ipykernel)",
   "language": "python",
   "name": "python3"
  },
  "language_info": {
   "codemirror_mode": {
    "name": "ipython",
    "version": 3
   },
   "file_extension": ".py",
   "mimetype": "text/x-python",
   "name": "python",
   "nbconvert_exporter": "python",
   "pygments_lexer": "ipython3",
   "version": "3.9.8"
  }
 },
 "nbformat": 4,
 "nbformat_minor": 5
}
