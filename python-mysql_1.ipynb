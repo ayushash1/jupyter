{
 "cells": [
  {
   "cell_type": "code",
   "execution_count": 4,
   "id": "3a702ba3",
   "metadata": {},
   "outputs": [
    {
     "name": "stdout",
     "output_type": "stream",
     "text": [
      "(1, 'kunal', 1122334455, 'kunal@gmail.com', 101)\n",
      "(3, 'abcd', 9421815944, 'abcd@gmail.com', 103)\n",
      "(4, 'ankit', 7709649142, 'ankit200p@gmail.com', 101)\n",
      "(5, 'pqr xyz', 5522115511, 'pqr@gmail.com', 103)\n",
      "(6, 'akshay', 9988776655, 'akshay@gmail.com', 107)\n",
      "(7, 'rakesh', 8899776665, 'rakesh@gmail.com', 102)\n"
     ]
    }
   ],
   "source": [
    "# -- select query with fetchall() --\n",
    "import pymysql\n",
    "conn = pymysql.connect(host='localhost', user='root', passwd='mysql', db='college')\n",
    "myCursor = conn.cursor()\n",
    "sql = \"SELECT * FROM student\"\n",
    "myCursor.execute(sql)\n",
    "result = myCursor.fetchall()\n",
    "for i in result:\n",
    "    print(i)\n",
    "conn.commit()\n",
    "myCursor.close()\n",
    "conn.close()"
   ]
  },
  {
   "cell_type": "code",
   "execution_count": 12,
   "id": "8eeb447c",
   "metadata": {},
   "outputs": [
    {
     "name": "stdout",
     "output_type": "stream",
     "text": [
      "(3, 'abcd', 9421815944, 'abcd@gmail.com', 103)\n"
     ]
    }
   ],
   "source": [
    "# -- select query with fetchone() --\n",
    "import pymysql\n",
    "conn = pymysql.connect(host='localhost', user='root', passwd='mysql', db='college')\n",
    "myCursor = conn.cursor()\n",
    "sql = \"SELECT * FROM student where id=3\"\n",
    "myCursor.execute(sql)\n",
    "result = myCursor.fetchone()\n",
    "print(result)\n",
    "conn.commit()\n",
    "myCursor.close()\n",
    "conn.close()"
   ]
  },
  {
   "cell_type": "code",
   "execution_count": 1,
   "id": "25fe783b",
   "metadata": {},
   "outputs": [],
   "source": [
    "# --- sample ---\n",
    "import pymysql\n",
    "conn = pymysql.connect(host='localhost', user='root', passwd='mysql', db='college')\n",
    "myCursor = conn.cursor()\n",
    "\n",
    "sql = \"\"\n",
    "myCursor.execute(sql)\n",
    "conn.commit()\n",
    "myCursor.close()\n",
    "conn.close()"
   ]
  },
  {
   "cell_type": "code",
   "execution_count": 2,
   "id": "0a19906e",
   "metadata": {},
   "outputs": [],
   "source": [
    "# --- insert ---\n",
    "import pymysql\n",
    "conn = pymysql.connect(host='localhost', user='root', passwd='mysql', db='college')\n",
    "myCursor = conn.cursor()\n",
    "\n",
    "sql = \"INSERT INTO student(name,mobile,email,roll_no) VALUES('akshay', 9988776655, 'akshay@gmail.com', 107)\"\n",
    "myCursor.execute(sql)\n",
    "conn.commit()\n",
    "myCursor.close()\n",
    "conn.close()\n",
    "print(\"Data inserted succesfully..........\")"
   ]
  },
  {
   "cell_type": "code",
   "execution_count": 3,
   "id": "85e5a84e",
   "metadata": {},
   "outputs": [
    {
     "name": "stdout",
     "output_type": "stream",
     "text": [
      "Enter your name=rakesh\n",
      "Enter mobile number=8899776665\n",
      "Enter your email=rakesh@gmail.com\n",
      "Enter your roll number=102\n",
      "Data inserted succesfully..........\n"
     ]
    }
   ],
   "source": [
    "# --- insert data using input function ---\n",
    "import pymysql\n",
    "conn = pymysql.connect(host='localhost', user='root', passwd='mysql', db='college')\n",
    "myCursor = conn.cursor()\n",
    "\n",
    "ename = input(\"Enter your name=\")\n",
    "emobile = input(\"Enter mobile number=\")\n",
    "eemail = input(\"Enter your email=\")\n",
    "eroll_no = input(\"Enter your roll number=\")\n",
    "\n",
    "sql = \"INSERT INTO student(name,mobile,email,roll_no) VALUES(%s,%s,%s,%s)\"\n",
    "\n",
    "arg = (ename,emobile,eemail,eroll_no)\n",
    "\n",
    "myCursor.execute(sql,arg)\n",
    "\n",
    "conn.commit()\n",
    "myCursor.close()\n",
    "conn.close()\n",
    "print(\"Data inserted succesfully..........\")"
   ]
  },
  {
   "cell_type": "code",
   "execution_count": 1,
   "id": "c52cb381",
   "metadata": {},
   "outputs": [
    {
     "name": "stdout",
     "output_type": "stream",
     "text": [
      "Data deleted succesfully....\n"
     ]
    }
   ],
   "source": [
    "# --- Delete opertion ---\n",
    "import pymysql\n",
    "conn = pymysql.connect(host='localhost', user='root', passwd='mysql', db='college')\n",
    "myCursor = conn.cursor()\n",
    "\n",
    "sql = \"DELETE FROM student WHERE id=5\"\n",
    "\n",
    "myCursor.execute(sql)\n",
    "conn.commit()\n",
    "myCursor.close()\n",
    "conn.close()\n",
    "print(\"Data deleted succesfully....\")"
   ]
  },
  {
   "cell_type": "code",
   "execution_count": 2,
   "id": "6089a4c6",
   "metadata": {},
   "outputs": [
    {
     "name": "stdout",
     "output_type": "stream",
     "text": [
      "Enter your id=3\n",
      "Data deleted succesfully....\n"
     ]
    }
   ],
   "source": [
    "# --- Delete opertion using user input ---\n",
    "import pymysql\n",
    "conn = pymysql.connect(host='localhost', user='root', passwd='mysql', db='college')\n",
    "myCursor = conn.cursor()\n",
    "\n",
    "id_1 = input(\"Enter your id=\")\n",
    "\n",
    "sql = \"DELETE FROM student WHERE id=%s\"\n",
    "\n",
    "myCursor.execute(sql,id_1)\n",
    "conn.commit()\n",
    "myCursor.close()\n",
    "conn.close()\n",
    "print(\"Data deleted succesfully....\")"
   ]
  },
  {
   "cell_type": "code",
   "execution_count": 3,
   "id": "e41596c6",
   "metadata": {},
   "outputs": [
    {
     "name": "stdout",
     "output_type": "stream",
     "text": [
      "Data updated succesfully....\n"
     ]
    }
   ],
   "source": [
    "# --- update opertaion ---\n",
    "import pymysql\n",
    "conn = pymysql.connect(host='localhost', user='root', passwd='mysql', db='college')\n",
    "myCursor = conn.cursor()\n",
    "\n",
    "sql = \"UPDATE student SET name='kunal', email='kunal@gmail.com' WHERE id=7\"\n",
    "\n",
    "myCursor.execute(sql)\n",
    "conn.commit()\n",
    "myCursor.close()\n",
    "conn.close()\n",
    "\n",
    "print(\"Data updated succesfully....\")"
   ]
  },
  {
   "cell_type": "code",
   "execution_count": 4,
   "id": "f20676fc",
   "metadata": {},
   "outputs": [
    {
     "name": "stdout",
     "output_type": "stream",
     "text": [
      "Enter your ID=1\n",
      "Enter your name=akk\n",
      "Enter your email=akk@gmail.com\n",
      "Data updated succesfully....\n"
     ]
    }
   ],
   "source": [
    "# --- update opertaion using user input ---\n",
    "import pymysql\n",
    "conn = pymysql.connect(host='localhost', user='root', passwd='mysql', db='college')\n",
    "myCursor = conn.cursor()\n",
    "\n",
    "eid = input(\"Enter your ID=\")\n",
    "ename = input(\"Enter your name=\")\n",
    "eemail = input(\"Enter your email=\")\n",
    "\n",
    "sql = \"UPDATE student SET name=%s, email=%s WHERE id=%s\"\n",
    "\n",
    "arg = (ename, eemail, eid)\n",
    "\n",
    "myCursor.execute(sql, arg)\n",
    "conn.commit()\n",
    "myCursor.close()\n",
    "conn.close()\n",
    "\n",
    "print(\"Data updated succesfully....\")"
   ]
  },
  {
   "cell_type": "code",
   "execution_count": 6,
   "id": "51e1a6f0",
   "metadata": {},
   "outputs": [
    {
     "name": "stdout",
     "output_type": "stream",
     "text": [
      "Press 1 to select\n",
      "Press 2 to insert\n",
      "Press 3 to delete\n",
      "Press 4 to update\n",
      ":1\n",
      "(1, 'akk', 1122334455, 'akk@gmail.com', 101)\n",
      "(4, 'ankit', 7709649142, 'ankit200p@gmail.com', 101)\n",
      "(6, 'akshay', 9988776655, 'akshay@gmail.com', 107)\n",
      "(7, 'kunal', 8899776665, 'kunal@gmail.com', 102)\n",
      "Press 1 to continue other to stop:1\n",
      "Press 1 to select\n",
      "Press 2 to insert\n",
      "Press 3 to delete\n",
      "Press 4 to update\n",
      ":2\n",
      "Enter your name=akash\n",
      "Enter mobile number=8899887766\n",
      "Enter your email=akash@gmail.com\n",
      "Enter your roll number=102\n",
      "Data inserted succesfully.....\n",
      "Press 1 to continue other to stop:1\n",
      "Press 1 to select\n",
      "Press 2 to insert\n",
      "Press 3 to delete\n",
      "Press 4 to update\n",
      ":1\n",
      "(1, 'akk', 1122334455, 'akk@gmail.com', 101)\n",
      "(4, 'ankit', 7709649142, 'ankit200p@gmail.com', 101)\n",
      "(6, 'akshay', 9988776655, 'akshay@gmail.com', 107)\n",
      "(7, 'kunal', 8899776665, 'kunal@gmail.com', 102)\n",
      "(8, 'akash', 8899887766, 'akash@gmail.com', 102)\n",
      "Press 1 to continue other to stop:1\n",
      "Press 1 to select\n",
      "Press 2 to insert\n",
      "Press 3 to delete\n",
      "Press 4 to update\n",
      ":3\n",
      "Enter your id=4\n",
      "Data deleted succesfully....\n",
      "Press 1 to continue other to stop:1\n",
      "Press 1 to select\n",
      "Press 2 to insert\n",
      "Press 3 to delete\n",
      "Press 4 to update\n",
      ":1\n",
      "(1, 'akk', 1122334455, 'akk@gmail.com', 101)\n",
      "(6, 'akshay', 9988776655, 'akshay@gmail.com', 107)\n",
      "(7, 'kunal', 8899776665, 'kunal@gmail.com', 102)\n",
      "(8, 'akash', 8899887766, 'akash@gmail.com', 102)\n",
      "Press 1 to continue other to stop:9\n"
     ]
    }
   ],
   "source": [
    "# choice program for crud operation\n",
    "import pymysql\n",
    "conn = pymysql.connect(host='localhost', user='root', passwd='mysql', db='college')\n",
    "\n",
    "def select_1():\n",
    "    myCursor = conn.cursor()\n",
    "    sql = \"SELECT * FROM student\"\n",
    "    myCursor.execute(sql)\n",
    "    result = myCursor.fetchall()\n",
    "    for i in result:\n",
    "        print(i)\n",
    "    conn.commit()\n",
    "    myCursor.close()\n",
    "    \n",
    "def insert_1():\n",
    "    myCursor = conn.cursor()\n",
    "    ename = input(\"Enter your name=\")\n",
    "    emobile = input(\"Enter mobile number=\")\n",
    "    eemail = input(\"Enter your email=\")\n",
    "    eroll_no = input(\"Enter your roll number=\")\n",
    "\n",
    "    sql = \"INSERT INTO student(name,mobile,email,roll_no) VALUES(%s,%s,%s,%s)\"\n",
    "\n",
    "    arg = (ename,emobile,eemail,eroll_no)\n",
    "\n",
    "    myCursor.execute(sql,arg)\n",
    "\n",
    "    conn.commit()\n",
    "    myCursor.close()\n",
    "    print(\"Data inserted succesfully.....\")\n",
    "    \n",
    "def delete_1():\n",
    "    myCursor = conn.cursor()\n",
    "\n",
    "    id_1 = input(\"Enter your id=\")\n",
    "\n",
    "    sql = \"DELETE FROM student WHERE id=%s\"\n",
    "\n",
    "    myCursor.execute(sql,id_1)\n",
    "    conn.commit()\n",
    "    myCursor.close()\n",
    "    print(\"Data deleted succesfully....\")\n",
    "    \n",
    "def update_1():\n",
    "    myCursor = conn.cursor()\n",
    "\n",
    "    eid = input(\"Enter your ID=\")\n",
    "    ename = input(\"Enter your name=\")\n",
    "    eemail = input(\"Enter your email=\")\n",
    "\n",
    "    sql = \"UPDATE student SET name=%s, email=%s WHERE id=%s\"\n",
    "\n",
    "    arg = (ename, eemail, eid)\n",
    "\n",
    "    myCursor.execute(sql, arg)\n",
    "    conn.commit()\n",
    "    myCursor.close()\n",
    "    print(\"Data updated succesfully....\")\n",
    "    \n",
    "while True:\n",
    "    n1 = int(input(\"Press 1 to select\\nPress 2 to insert\\nPress 3 to delete\\nPress 4 to update\\n:\"))\n",
    "    \n",
    "    if n1 == 1:\n",
    "        select_1()\n",
    "        \n",
    "    elif n1==2:\n",
    "        insert_1()\n",
    "        \n",
    "    elif n1==3:\n",
    "        delete_1()\n",
    "        \n",
    "    elif n1==4:\n",
    "        update_1()\n",
    "    \n",
    "    else:\n",
    "        print(\"Wrong choice please continue....\")\n",
    "        \n",
    "    n2 = int(input(\"Press 1 to continue other to stop:\"))\n",
    "    if n2==1:\n",
    "        continue\n",
    "    else:\n",
    "        break    \n",
    "\n",
    "conn.close()"
   ]
  },
  {
   "cell_type": "code",
   "execution_count": null,
   "id": "0dca2b31",
   "metadata": {},
   "outputs": [],
   "source": []
  }
 ],
 "metadata": {
  "kernelspec": {
   "display_name": "Python 3.9.8 64-bit",
   "language": "python",
   "name": "python3"
  },
  "language_info": {
   "codemirror_mode": {
    "name": "ipython",
    "version": 3
   },
   "file_extension": ".py",
   "mimetype": "text/x-python",
   "name": "python",
   "nbconvert_exporter": "python",
   "pygments_lexer": "ipython3",
   "version": "3.9.8"
  },
  "vscode": {
   "interpreter": {
    "hash": "867b23448c8a5cfd354ca1def289a7dd2c828e227e30aae53b7fee6c3d858da2"
   }
  }
 },
 "nbformat": 4,
 "nbformat_minor": 5
}
