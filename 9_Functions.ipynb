{
 "cells": [
  {
   "cell_type": "code",
   "execution_count": 2,
   "id": "edc2437b",
   "metadata": {},
   "outputs": [
    {
     "name": "stdout",
     "output_type": "stream",
     "text": [
      "Addition of two numbers =  463\n",
      "Addition of two numbers =  68.0304\n"
     ]
    }
   ],
   "source": [
    "# argument passing and perameter accessing\n",
    "\n",
    "def add_1(a,b):\n",
    "    print(\"Addition of two numbers = \",a+b)\n",
    "    \n",
    "add_1(10,453) \n",
    "add_1(45.0304,23)"
   ]
  },
  {
   "cell_type": "code",
   "execution_count": 1,
   "id": "1e75566d",
   "metadata": {},
   "outputs": [
    {
     "name": "stdout",
     "output_type": "stream",
     "text": [
      "Addition of two numbers =  33\n"
     ]
    }
   ],
   "source": [
    "# required argument\n",
    "\n",
    "def add_1(a,b):\n",
    "    print(\"Addition of two numbers = \",a+b)\n",
    "    \n",
    "add_1 (10,23)\n",
    "#add_1(1,3,45)"
   ]
  },
  {
   "cell_type": "code",
   "execution_count": 6,
   "id": "fd45f562",
   "metadata": {},
   "outputs": [
    {
     "name": "stdout",
     "output_type": "stream",
     "text": [
      "Addition of two numbers =  42\n",
      "Addition of two numbers =  23\n",
      "Addition of two numbers =  502\n"
     ]
    }
   ],
   "source": [
    "#default argument\n",
    "\n",
    "def add_1(a,b=0,c=0):\n",
    "    print(\"Addition of two numbers = \",a+b+c)\n",
    "    \n",
    "add_1(10,32)\n",
    "add_1(23)\n",
    "add_1(34,434,34)"
   ]
  },
  {
   "cell_type": "code",
   "execution_count": 7,
   "id": "894868b5",
   "metadata": {},
   "outputs": [
    {
     "name": "stdout",
     "output_type": "stream",
     "text": [
      "A= 34\n",
      "B= 43\n",
      "A= 34\n",
      "B= 43\n"
     ]
    }
   ],
   "source": [
    "# keyword base argument.\n",
    "\n",
    "def sample (a,b):\n",
    "    print(\"A=\",a)\n",
    "    print(\"B=\",b)\n",
    "\n",
    "sample(a=34,b=43)\n",
    "sample(b=43,a=34)"
   ]
  },
  {
   "cell_type": "code",
   "execution_count": 3,
   "id": "fb34b7bc",
   "metadata": {},
   "outputs": [
    {
     "name": "stdout",
     "output_type": "stream",
     "text": [
      "[10] <class 'list'>\n",
      "[10, 20, 30, 40] <class 'list'>\n"
     ]
    }
   ],
   "source": [
    "#variable length arguments\n",
    "def sample (*a):\n",
    "    l1 = list(a)\n",
    "    print(l1,type(l1))\n",
    "    \n",
    "sample(10)\n",
    "sample(10,20,30,40)"
   ]
  },
  {
   "cell_type": "code",
   "execution_count": 4,
   "id": "47eee440",
   "metadata": {},
   "outputs": [
    {
     "name": "stdout",
     "output_type": "stream",
     "text": [
      "{'name': 'ayush', 'roll_no': 45, 'marks': {'s1': 68, 's2': 89}} <class 'dict'>\n"
     ]
    }
   ],
   "source": [
    "#variable length keyword vase argument \n",
    "def sample (**a):\n",
    "    print(a,type(a))\n",
    "    \n",
    "sample(name=\"ayush\",roll_no=45,marks={'s1':68,'s2':89})"
   ]
  },
  {
   "cell_type": "code",
   "execution_count": 6,
   "id": "7395827e",
   "metadata": {},
   "outputs": [
    {
     "name": "stdout",
     "output_type": "stream",
     "text": [
      "{1: 'abcde', 2: 'pqrs', 'c': 456} <class 'dict'>\n"
     ]
    }
   ],
   "source": [
    "#dictionary\n",
    "d1 = {1:'abcde',2:'pqrs','c':456}\n",
    "print(d1, type(d1))"
   ]
  },
  {
   "cell_type": "code",
   "execution_count": 2,
   "id": "89b58b0d",
   "metadata": {},
   "outputs": [
    {
     "name": "stdout",
     "output_type": "stream",
     "text": [
      "Enter a number = 2\n",
      "even number\n"
     ]
    }
   ],
   "source": [
    "# ternary operator\n",
    "\n",
    "n1 = int(input(\"Enter a number = \"))\n",
    "a1 = \"even number\" if n1%2==0 else \"odd number\"\n",
    "\n",
    "print(a1)"
   ]
  },
  {
   "cell_type": "code",
   "execution_count": 3,
   "id": "d2757990",
   "metadata": {},
   "outputs": [
    {
     "name": "stdout",
     "output_type": "stream",
     "text": [
      "Enter first number : 23\n",
      "Enter second number : 43\n",
      "Addition of two numbers  66\n"
     ]
    }
   ],
   "source": [
    "def add_1():\n",
    "    v1 = int(input(\"Enter first number : \"))\n",
    "    v2 = int(input(\"Enter second number : \"))\n",
    "    print(\"Addition of two numbers \", v1+v2)\n",
    "    \n",
    "add_1()"
   ]
  },
  {
   "cell_type": "code",
   "execution_count": 4,
   "id": "3eecc6e4",
   "metadata": {},
   "outputs": [
    {
     "name": "stdout",
     "output_type": "stream",
     "text": [
      "30\n"
     ]
    }
   ],
   "source": [
    "# lambda expression \n",
    "\n",
    "x = lambda a,b:a+b\n",
    "print(x(10,20))"
   ]
  },
  {
   "cell_type": "code",
   "execution_count": 10,
   "id": "0d04f993",
   "metadata": {},
   "outputs": [
    {
     "name": "stdout",
     "output_type": "stream",
     "text": [
      "factorial of 5 =  120\n"
     ]
    }
   ],
   "source": [
    "# recursion\n",
    "\n",
    "def sample(n1):\n",
    "    if n1 == 1:\n",
    "        return 1\n",
    "    else:\n",
    "        return n1*sample(n1-1)\n",
    "    \n",
    "print(\"factorial of 5 = \",sample(5))"
   ]
  },
  {
   "cell_type": "code",
   "execution_count": null,
   "id": "3aa81d1d",
   "metadata": {},
   "outputs": [],
   "source": []
  }
 ],
 "metadata": {
  "kernelspec": {
   "display_name": "Python 3 (ipykernel)",
   "language": "python",
   "name": "python3"
  },
  "language_info": {
   "codemirror_mode": {
    "name": "ipython",
    "version": 3
   },
   "file_extension": ".py",
   "mimetype": "text/x-python",
   "name": "python",
   "nbconvert_exporter": "python",
   "pygments_lexer": "ipython3",
   "version": "3.9.8"
  }
 },
 "nbformat": 4,
 "nbformat_minor": 5
}
