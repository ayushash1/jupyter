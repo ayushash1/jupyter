{
 "cells": [
  {
   "cell_type": "code",
   "execution_count": 1,
   "id": "33b25feb",
   "metadata": {},
   "outputs": [],
   "source": [
    "#syntax\n",
    "# class class_name1:\n",
    "#     _____\n",
    "#     _____\n",
    "    \n",
    "# class class_name2(class_name1):\n",
    "#     _____\n",
    "#     _____"
   ]
  },
  {
   "cell_type": "code",
   "execution_count": 2,
   "id": "77791596",
   "metadata": {},
   "outputs": [
    {
     "name": "stdout",
     "output_type": "stream",
     "text": [
      "\n",
      "Student name :  ayush\n",
      "Stuent number :  4534232323\n",
      "student roll number :  43\n"
     ]
    }
   ],
   "source": [
    "# single inheritance\n",
    "class Person:\n",
    "    def getDataPersonInfo(self):\n",
    "        self.name = input(\"Enter your name : \")\n",
    "        self.mobile = input(\"Enter your mobile number : \")\n",
    "        \n",
    "class Student(Person):\n",
    "    def getDataStudentInfo(self):\n",
    "        self.roll_number = int(input(\"Enter your roll number : \"))\n",
    "        \n",
    "    def display(self):\n",
    "        print(\"Student name : \",self.name)\n",
    "        print(\"Stuent number : \",self.mobile)\n",
    "        print(\"student roll number : \",self.roll_number)\n",
    "        \n",
    "obj_student = Student()\n",
    "obj_student.getDataPersonInfo()\n",
    "obj_student.getDataStudentInfo()\n",
    "print()\n",
    "obj_student.display()"
   ]
  },
  {
   "cell_type": "code",
   "execution_count": 1,
   "id": "446a99a5",
   "metadata": {},
   "outputs": [
    {
     "name": "stdout",
     "output_type": "stream",
     "text": [
      "Student name= ayush\n",
      "Mobile number= 3434342312\n",
      "Roll number= 342\n"
     ]
    }
   ],
   "source": [
    "# single inhertiance using constructor\n",
    "class Person:\n",
    "    def __init__(self):\n",
    "        self.name = input(\"Enter your name=\")\n",
    "        self.mobile = int(input(\"Enter mobile number=\"))\n",
    "\n",
    "class Student(Person):\n",
    "    def __init__(self):\n",
    "        Person.__init__(self)\n",
    "        self.roll_number = int(input(\"Enter your roll number=\"))\n",
    "        \n",
    "    def display(self):\n",
    "        print(\"Student name=\", self.name)\n",
    "        print(\"Mobile number=\", self.mobile)\n",
    "        print(\"Roll number=\", self.roll_number)\n",
    "        \n",
    "obj_student = Student()\n",
    "obj_student.display()"
   ]
  },
  {
   "cell_type": "code",
   "execution_count": 8,
   "id": "5d87edcf",
   "metadata": {},
   "outputs": [
    {
     "name": "stdout",
     "output_type": "stream",
     "text": [
      "Enter father's name : abc\n",
      "Enter mother's name : pqr\n",
      "Enter child's name : mnp\n",
      "child name :  mnp\n",
      "father name :  abc\n",
      "mother name :  pqr\n"
     ]
    }
   ],
   "source": [
    "# multiple inheritance\n",
    "\n",
    "class father:\n",
    "    def fatherInfo(self):\n",
    "        self.father_name = input(\"Enter father's name : \")\n",
    "        \n",
    "        \n",
    "class mother:\n",
    "    \n",
    "     def motherInfo(self):\n",
    "        self.mother_name = input(\"Enter mother's name : \")\n",
    "        \n",
    "        \n",
    "class child(father , mother):\n",
    "    \n",
    "        \n",
    "    def childInfo(self):\n",
    "        self.child_name = input(\"Enter child's name : \")\n",
    "        \n",
    "    def display(self):\n",
    "        print(\"child name : \",self.child_name)\n",
    "        print(\"father name : \",self.father_name)\n",
    "        print(\"mother name : \",self.mother_name)\n",
    "        \n",
    "\n",
    "obj_child = child()\n",
    "\n",
    "obj_child.fatherInfo()\n",
    "obj_child.motherInfo()\n",
    "obj_child.childInfo()\n",
    "obj_child.display()    "
   ]
  },
  {
   "cell_type": "code",
   "execution_count": 3,
   "id": "d185863d",
   "metadata": {},
   "outputs": [
    {
     "name": "stdout",
     "output_type": "stream",
     "text": [
      "Child name = aabc\n",
      "Father name = pqr\n",
      "Mother name = lsd\n"
     ]
    }
   ],
   "source": [
    "# multiple inheritance with constructor\n",
    "\n",
    "class Father:\n",
    "    def __init__(self):\n",
    "        self.father_name = input(\"Enter father name =\")\n",
    "        \n",
    "class Mother:\n",
    "    def __init__(self):\n",
    "        self.mother_name = input(\"Enter mother name =\")\n",
    "        \n",
    "class Child(Father, Mother):\n",
    "    def __init__(self):        \n",
    "        self.child_name = input(\"Enter child name =\")\n",
    "        Father.__init__(self)\n",
    "        Mother.__init__(self)\n",
    "        \n",
    "    def dispaly(self):\n",
    "        print(\"Child name =\",self.child_name)\n",
    "        print(\"Father name =\",self.father_name)\n",
    "        print(\"Mother name =\",self.mother_name)\n",
    "\n",
    "obj_child = Child()\n",
    "\n",
    "obj_child.dispaly()"
   ]
  },
  {
   "cell_type": "code",
   "execution_count": 4,
   "id": "03f15963",
   "metadata": {},
   "outputs": [
    {
     "name": "stdout",
     "output_type": "stream",
     "text": [
      "Grand father name= ABC\n",
      "Father name= PQR\n",
      "Child name= XYZ\n"
     ]
    }
   ],
   "source": [
    "# multilevel inehritance, using constructor\n",
    "\n",
    "class grand_father:\n",
    "    def __init__(self):\n",
    "        print(\"Grand father name=\", 'ABC')\n",
    "        \n",
    "class father(grand_father):\n",
    "    def __init__(self):\n",
    "        grand_father.__init__(self)\n",
    "        print(\"Father name=\", 'PQR')\n",
    "        \n",
    "class child(father):\n",
    "    def __init__(self):\n",
    "        father.__init__(self)\n",
    "        print(\"Child name=\", 'XYZ')\n",
    "\n",
    "# obj_father = father()\n",
    "obj_child = child()"
   ]
  },
  {
   "cell_type": "code",
   "execution_count": 6,
   "id": "dd0d894f",
   "metadata": {},
   "outputs": [
    {
     "name": "stdout",
     "output_type": "stream",
     "text": [
      "Student name= Ayush\n",
      "Student mobile number= 9898989898989\n",
      "Student roll number= 789\n",
      "\n",
      "faculty name= Ayush\n",
      "faculty mobile number= 98898987\n",
      "faculty payment= 453423\n"
     ]
    }
   ],
   "source": [
    "# heirachical inheritance using constructor\n",
    "\n",
    "class Person:\n",
    "    def __init__(self):\n",
    "        self.name = input(\"Enter your name=\")\n",
    "        self.mobile = int(input(\"Enter your mobile number=\"))\n",
    "\n",
    "\n",
    "class Student(Person):\n",
    "    def __init__(self):\n",
    "        Person.__init__(self)\n",
    "        self.roll_number = int(input(\"Enter roll number=\"))\n",
    "\n",
    "    def studentDsiplay(self):\n",
    "        print(\"Student name=\", self.name)\n",
    "        print(\"Student mobile number=\", self.mobile)\n",
    "        print(\"Student roll number=\", self.roll_number)\n",
    "\n",
    "\n",
    "class Faculty(Person):\n",
    "    def __init__(self):\n",
    "        Person.__init__(self)\n",
    "        self.payment = int(input(\"Enter faculty payment=\"))\n",
    "\n",
    "    def facultyDsiplay(self):\n",
    "        print(\"faculty name=\", self.name)\n",
    "        print(\"faculty mobile number=\", self.mobile)\n",
    "        print(\"faculty payment=\", self.payment)\n",
    "\n",
    "\n",
    "obj_s = Student()\n",
    "obj_s.studentDsiplay()\n",
    "\n",
    "print()\n",
    "\n",
    "obj_f = Faculty()\n",
    "obj_f.facultyDsiplay()\n"
   ]
  },
  {
   "cell_type": "code",
   "execution_count": null,
   "id": "cc044128",
   "metadata": {},
   "outputs": [],
   "source": []
  }
 ],
 "metadata": {
  "kernelspec": {
   "display_name": "Python 3.9.8 64-bit",
   "language": "python",
   "name": "python3"
  },
  "language_info": {
   "codemirror_mode": {
    "name": "ipython",
    "version": 3
   },
   "file_extension": ".py",
   "mimetype": "text/x-python",
   "name": "python",
   "nbconvert_exporter": "python",
   "pygments_lexer": "ipython3",
   "version": "3.9.8"
  },
  "vscode": {
   "interpreter": {
    "hash": "867b23448c8a5cfd354ca1def289a7dd2c828e227e30aae53b7fee6c3d858da2"
   }
  }
 },
 "nbformat": 4,
 "nbformat_minor": 5
}
