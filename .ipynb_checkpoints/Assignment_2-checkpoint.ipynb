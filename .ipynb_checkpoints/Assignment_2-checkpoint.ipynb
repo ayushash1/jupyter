{
 "cells": [
  {
   "cell_type": "code",
   "execution_count": 1,
   "id": "dc9875e5",
   "metadata": {},
   "outputs": [],
   "source": [
    "#1. Write a python script to check whether a given number is even or odd"
   ]
  },
  {
   "cell_type": "code",
   "execution_count": 2,
   "id": "d082e0f0",
   "metadata": {},
   "outputs": [
    {
     "name": "stdout",
     "output_type": "stream",
     "text": [
      "Enter a number : 45\n",
      "the number is odd\n"
     ]
    }
   ],
   "source": [
    "v1 = int(input(\"Enter a number : \"))\n",
    "if v1%2==0:\n",
    "    print(\"the number is even\")\n",
    "else:\n",
    "    print(\"the number is odd\")"
   ]
  },
  {
   "cell_type": "code",
   "execution_count": 3,
   "id": "696c0509",
   "metadata": {},
   "outputs": [],
   "source": [
    "#2. Write a python script to check whether a given number is divisible by 5 or not."
   ]
  },
  {
   "cell_type": "code",
   "execution_count": 4,
   "id": "e63ca78a",
   "metadata": {},
   "outputs": [
    {
     "name": "stdout",
     "output_type": "stream",
     "text": [
      "Enter a number : 56\n",
      "the number is not divisible by 5\n"
     ]
    }
   ],
   "source": [
    "v1 = int(input(\"Enter a number : \"))\n",
    "if v1%5==0:\n",
    "    print(\"the number is divisible by 5\")\n",
    "else:\n",
    "    print(\"the number is not divisible by 5\")"
   ]
  },
  {
   "cell_type": "code",
   "execution_count": 5,
   "id": "5d7e684d",
   "metadata": {},
   "outputs": [],
   "source": [
    "#3. Writ a python script to check whether a given number is positive, negative, or zero."
   ]
  },
  {
   "cell_type": "code",
   "execution_count": 6,
   "id": "5a06146e",
   "metadata": {},
   "outputs": [
    {
     "name": "stdout",
     "output_type": "stream",
     "text": [
      "Enter a number : -098\n",
      "the number is negative\n"
     ]
    }
   ],
   "source": [
    "v1 = int(input(\"Enter a number : \"))\n",
    "if v1<0:\n",
    "    print(\"the number is negative\")\n",
    "elif v1>1:\n",
    "    print(\"the number is positive\")\n",
    "else:\n",
    "    print(\"the number is zero\")"
   ]
  },
  {
   "cell_type": "code",
   "execution_count": 7,
   "id": "8f3f4cff",
   "metadata": {},
   "outputs": [],
   "source": [
    "#4. Write a python script to check to find greatest among three number."
   ]
  },
  {
   "cell_type": "code",
   "execution_count": 8,
   "id": "4e99f34d",
   "metadata": {},
   "outputs": [
    {
     "name": "stdout",
     "output_type": "stream",
     "text": [
      "Enter a number : 745\n",
      "Enter a number : 875\n",
      "Enter a number : 857\n",
      "875  is greatest\n"
     ]
    }
   ],
   "source": [
    "v1 = int(input(\"Enter a number : \"))\n",
    "v2 = int(input(\"Enter a number : \"))\n",
    "v3 = int(input(\"Enter a number : \"))\n",
    "\n",
    "if v1>v2 and v1>v3:\n",
    "    print(v1, \" is greatest\")\n",
    "elif v2>v1 and v2>v3:\n",
    "    print(v2, \" is greatest\")\n",
    "else:\n",
    "    print(v3, \" is greatest\")"
   ]
  },
  {
   "cell_type": "code",
   "execution_count": 9,
   "id": "698b727e",
   "metadata": {},
   "outputs": [],
   "source": [
    "#5. Write a python script to accept one complex number from user and display the greater\n",
    "#   number between real part and imaginary part."
   ]
  },
  {
   "cell_type": "code",
   "execution_count": 16,
   "id": "3ca94495",
   "metadata": {},
   "outputs": [
    {
     "name": "stdout",
     "output_type": "stream",
     "text": [
      "Enter a cmplex number7+8j\n",
      "(7+8j) <class 'complex'>\n",
      "7.0\n",
      "8.0\n",
      "False\n",
      "comlex part is greater\n"
     ]
    }
   ],
   "source": [
    "c1 = complex(input(\"Enter a cmplex number\"))\n",
    "print(c1, type(c1))\n",
    "print(c1.real)\n",
    "print(c1.imag) \n",
    "\n",
    "print(c1.imag<c1.real)\n",
    "\n",
    "v1=c1.real\n",
    "v2=c1.imag\n",
    "\n",
    "if v1<v2:\n",
    "    print(\"comlex part is greater\")\n",
    "elif v1==V2:\n",
    "    print(\"both are equal\")\n",
    "else:\n",
    "    print(\"real part is greater\")"
   ]
  },
  {
   "cell_type": "code",
   "execution_count": 11,
   "id": "66fa90b7",
   "metadata": {},
   "outputs": [
    {
     "data": {
      "text/plain": [
       "'\\n6. Write a python script to accept marks of five subjects from user (assuming maximum\\nmark is 100). Display student result as PASS or FAIL. If the student is PASS the also\\ndisplay his percentage and division.\\n'"
      ]
     },
     "execution_count": 11,
     "metadata": {},
     "output_type": "execute_result"
    }
   ],
   "source": [
    "'''\n",
    "6. Write a python script to accept marks of five subjects from user (assuming maximum\n",
    "mark is 100). Display student result as PASS or FAIL. If the student is PASS the also\n",
    "display his percentage and division.\n",
    "'''"
   ]
  },
  {
   "cell_type": "code",
   "execution_count": 12,
   "id": "6e153966",
   "metadata": {},
   "outputs": [
    {
     "name": "stdout",
     "output_type": "stream",
     "text": [
      "Enter the marks of Mathematics : 89\n",
      "Enter the marks of Physics     : 98\n",
      "Enter the marks of Chemestry   : 78\n",
      "Enter the marks of Hindi       : 098\n",
      "Enter the marks of English     : 45\n",
      "you passed in all subjects \n",
      "you got  81.6 percent\n",
      "you got A grade\n"
     ]
    }
   ],
   "source": [
    "v1 = int(input(\"Enter the marks of Mathematics : \"))\n",
    "v2 = int(input(\"Enter the marks of Physics     : \"))\n",
    "v3 = int(input(\"Enter the marks of Chemestry   : \"))\n",
    "v4 = int(input(\"Enter the marks of Hindi       : \"))\n",
    "v5 = int(input(\"Enter the marks of English     : \"))\n",
    "p  = ((v1+v2+v3+v4+v5)/500)*100\n",
    "if v1<33:\n",
    "    print(\"you failed in maths\")\n",
    "elif v2<33:\n",
    "    print(\"you failed in physics\")\n",
    "elif v3<33:\n",
    "    print(\"you failed in chemistry\")\n",
    "elif v4<33:\n",
    "    print(\"you failed in hindi\")\n",
    "elif v5<33:\n",
    "    print(\"you failed in English\")\n",
    "else:\n",
    "    print(\"you passed in all subjects \")\n",
    "    print(\"you got \",p, \"percent\")\n",
    "if p>80:\n",
    "    print(\"you got A grade\")\n",
    "elif p>70:\n",
    "    print(\"you got B grade\")\n",
    "elif p>60:\n",
    "    print(\"you got C grade\")\n",
    "elif p>50 or p>=33:\n",
    "    print(\"you got D grade\")\n",
    "else:\n",
    "    print(\"you got f grade\")\n",
    "    \n"
   ]
  },
  {
   "cell_type": "code",
   "execution_count": 13,
   "id": "c93e6118",
   "metadata": {},
   "outputs": [
    {
     "data": {
      "text/plain": [
       "'\\n7. Write a program to ask the age from user and check the valid age for a\\nRoller Coaster ride:\\n'"
      ]
     },
     "execution_count": 13,
     "metadata": {},
     "output_type": "execute_result"
    }
   ],
   "source": [
    "'''\n",
    "7. Write a program to ask the age from user and check the valid age for a\n",
    "Roller Coaster ride:\n",
    "'''"
   ]
  },
  {
   "cell_type": "code",
   "execution_count": 20,
   "id": "d376b564",
   "metadata": {},
   "outputs": [
    {
     "name": "stdout",
     "output_type": "stream",
     "text": [
      "Enter your age : 12\n",
      "you shoud come after  6 years\n"
     ]
    }
   ],
   "source": [
    "v1=int(input(\"Enter your age : \"))\n",
    "if v1<18:\n",
    "    print(\"you shoud come after \",18-v1,\"years\" )\n",
    "elif v1>50:\n",
    "    print(\"you should have come before\",v1-50,\"years\")\n",
    "else:\n",
    "    print(\"welcome\")"
   ]
  },
  {
   "cell_type": "code",
   "execution_count": 21,
   "id": "ee59e0ff",
   "metadata": {},
   "outputs": [],
   "source": [
    "#8. Write a program to take three numbers from user and find the smallest number"
   ]
  },
  {
   "cell_type": "code",
   "execution_count": 28,
   "id": "d07893ac",
   "metadata": {},
   "outputs": [
    {
     "name": "stdout",
     "output_type": "stream",
     "text": [
      "Enter a number 2\n",
      "Enter a number 1\n",
      "Enter a number 3\n",
      "1  is smallest\n"
     ]
    }
   ],
   "source": [
    "v1 = int(input(\"Enter a number \"))\n",
    "v2 = int(input(\"Enter a number \"))\n",
    "v3 = int(input(\"Enter a number \"))\n",
    "\n",
    "if v1<v2 and v1<v3:\n",
    "    print(v1, \" is smallest\")\n",
    "elif v2<v1 and v2<v3:\n",
    "    print(v2, \" is smallest\")\n",
    "else:\n",
    "    print(v3, \" is smallest\")"
   ]
  },
  {
   "cell_type": "code",
   "execution_count": 29,
   "id": "e18cb36f",
   "metadata": {},
   "outputs": [
    {
     "data": {
      "text/plain": [
       "'\\n9. Write a program to take three numbers from user and display their ascending order and\\ndescending order.\\n'"
      ]
     },
     "execution_count": 29,
     "metadata": {},
     "output_type": "execute_result"
    }
   ],
   "source": [
    "'''\n",
    "9. Write a program to take three numbers from user and display their ascending order and\n",
    "descending order.\n",
    "'''"
   ]
  },
  {
   "cell_type": "code",
   "execution_count": 30,
   "id": "55187969",
   "metadata": {},
   "outputs": [
    {
     "name": "stdout",
     "output_type": "stream",
     "text": [
      "Enter a number : 34\n",
      "Enter a number : 34\n",
      "Enter a number : 23\n",
      "23 34 34\n"
     ]
    }
   ],
   "source": [
    "# ascending order\n",
    "\n",
    "#Example\n",
    "\n",
    "v1 = int(input(\"Enter a number : \"))\n",
    "v2 = int(input(\"Enter a number : \"))\n",
    "v3 = int(input(\"Enter a number : \"))\n",
    "\n",
    "if v1<v2 and v1<v3:\n",
    "    if v2<v3:\n",
    "        print(v1 , v2 , v3)\n",
    "    else:\n",
    "        print(v1, v3, v2)\n",
    "\n",
    "elif v2<v1 and v2<v3:\n",
    "    if v1<v3:\n",
    "        print(v2, v1, v3)\n",
    "    else:\n",
    "        print(v2, v3, v1)\n",
    "\n",
    "else:\n",
    "    if v1<v2:\n",
    "        print(v3, v1, v2)\n",
    "    else:\n",
    "        print(v3, v2, v1)"
   ]
  },
  {
   "cell_type": "code",
   "execution_count": 31,
   "id": "4af7ef8c",
   "metadata": {},
   "outputs": [
    {
     "name": "stdout",
     "output_type": "stream",
     "text": [
      "Enter a number : 45\n",
      "Enter a number : 36\n",
      "Enter a number : 111\n",
      "111 45 36\n"
     ]
    }
   ],
   "source": [
    "#descending order\n",
    "\n",
    "#Example\n",
    "\n",
    "v1 = int(input(\"Enter a number : \"))\n",
    "v2 = int(input(\"Enter a number : \"))\n",
    "v3 = int(input(\"Enter a number : \"))\n",
    "\n",
    "if v1>v2 and v1>v3:\n",
    "    if v2>v3:\n",
    "        print(v1 , v2 , v3)\n",
    "    else:\n",
    "        print(v1, v3, v2)\n",
    "\n",
    "elif v2>v1 and v2>v3:\n",
    "    if v1>v3:\n",
    "        print(v2, v1, v3)\n",
    "    else:\n",
    "        print(v2, v3, v1)\n",
    "\n",
    "else:\n",
    "    if v1>v2:\n",
    "        print(v3, v1, v2)\n",
    "    else:\n",
    "        print(v3, v2, v1)"
   ]
  },
  {
   "cell_type": "code",
   "execution_count": null,
   "id": "af9fcf2b",
   "metadata": {},
   "outputs": [],
   "source": []
  }
 ],
 "metadata": {
  "kernelspec": {
   "display_name": "Python 3 (ipykernel)",
   "language": "python",
   "name": "python3"
  },
  "language_info": {
   "codemirror_mode": {
    "name": "ipython",
    "version": 3
   },
   "file_extension": ".py",
   "mimetype": "text/x-python",
   "name": "python",
   "nbconvert_exporter": "python",
   "pygments_lexer": "ipython3",
   "version": "3.9.8"
  }
 },
 "nbformat": 4,
 "nbformat_minor": 5
}
