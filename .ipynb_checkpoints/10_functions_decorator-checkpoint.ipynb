{
 "cells": [
  {
   "cell_type": "code",
   "execution_count": 4,
   "id": "2ad11177",
   "metadata": {},
   "outputs": [
    {
     "name": "stdout",
     "output_type": "stream",
     "text": [
      "decorator\n",
      "sample function\n"
     ]
    }
   ],
   "source": [
    "def sample_decorator(fun):\n",
    "    def inner():\n",
    "        print('decorator')\n",
    "        fun()\n",
    "    return inner\n",
    "\n",
    "\n",
    "@sample_decorator\n",
    "def sample():\n",
    "    print(\"sample function\")\n",
    "    \n",
    "sample()"
   ]
  },
  {
   "cell_type": "code",
   "execution_count": 7,
   "id": "226e945a",
   "metadata": {},
   "outputs": [
    {
     "name": "stdout",
     "output_type": "stream",
     "text": [
      "substraction of two numbers =  -10\n",
      "addition of two numbers =  30\n"
     ]
    }
   ],
   "source": [
    "def sample_decorator(fun):\n",
    "    def inner(a,b):\n",
    "        print(\"substraction of two numbers = \", a-b)\n",
    "        fun(a,b)\n",
    "    return inner\n",
    "\n",
    "@sample_decorator\n",
    "def sample(a,b):\n",
    "    print(\"addition of two numbers = \",a+b)\n",
    "    \n",
    "sample(10,20)"
   ]
  },
  {
   "cell_type": "code",
   "execution_count": 18,
   "id": "e006a671",
   "metadata": {},
   "outputs": [
    {
     "name": "stdout",
     "output_type": "stream",
     "text": [
      "Enter first number= 3.4\n",
      "ValueError\n",
      "this is last line\n"
     ]
    }
   ],
   "source": [
    "try:\n",
    "    n1 = int(input(\"Enter first number= \"))\n",
    "    n2 = int(input(\"Enter second number= \"))\n",
    "    \n",
    "    print(\"Division of two numbes = \",n1/n2)\n",
    "    \n",
    "except ZeroDivisionError:\n",
    "    print(\"ZeroValueError\")\n",
    "    \n",
    "except ValueError:\n",
    "    print(\"ValueError\")\n",
    "\n",
    "print(\"this is last line\")"
   ]
  },
  {
   "cell_type": "code",
   "execution_count": null,
   "id": "5d4b7b1d",
   "metadata": {},
   "outputs": [],
   "source": []
  }
 ],
 "metadata": {
  "kernelspec": {
   "display_name": "Python 3 (ipykernel)",
   "language": "python",
   "name": "python3"
  },
  "language_info": {
   "codemirror_mode": {
    "name": "ipython",
    "version": 3
   },
   "file_extension": ".py",
   "mimetype": "text/x-python",
   "name": "python",
   "nbconvert_exporter": "python",
   "pygments_lexer": "ipython3",
   "version": "3.9.8"
  }
 },
 "nbformat": 4,
 "nbformat_minor": 5
}
