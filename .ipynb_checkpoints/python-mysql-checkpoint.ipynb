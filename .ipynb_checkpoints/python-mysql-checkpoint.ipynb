{
 "cells": [
  {
   "cell_type": "code",
   "execution_count": 1,
   "id": "b8dc8eee",
   "metadata": {},
   "outputs": [
    {
     "name": "stdout",
     "output_type": "stream",
     "text": [
      "(1, 'Ayush', 979695952, 'ayush@gmail.com', 101)\n",
      "(2, 'pqr xyz', 87957697495, 'pqr@gmail.com', 102)\n",
      "(3, 'someone', 87957697495, 'someone@gmail.com', 103)\n",
      "(5, 'ankit', 58839293949, 'ankit@gmail.com', 104)\n",
      "(6, 'tom', 45634231224, 'tom@gmail.com', 106)\n"
     ]
    }
   ],
   "source": [
    "# -- select query with fetchall() --\n",
    "import pymysql\n",
    "conn = pymysql.connect(host = 'localhost',user = 'root', passwd = 'mysql',db = 'college')\n",
    "myCursor = conn.cursor()\n",
    "\n",
    "sql = 'SELECT * FROM student'\n",
    "\n",
    "myCursor.execute(sql)\n",
    "result = myCursor.fetchall()\n",
    "\n",
    "for i in result:\n",
    "    print(i)\n",
    "#print(result)\n",
    "\n",
    "conn.commit()\n",
    "myCursor.close()\n",
    "conn.close()"
   ]
  },
  {
   "cell_type": "code",
   "execution_count": 2,
   "id": "17118fcc",
   "metadata": {},
   "outputs": [
    {
     "name": "stdout",
     "output_type": "stream",
     "text": [
      "3\n",
      "someone\n",
      "87957697495\n",
      "someone@gmail.com\n",
      "103\n"
     ]
    }
   ],
   "source": [
    "# -- select query with fetchone() --\n",
    "import pymysql\n",
    "conn = pymysql.connect(host = 'localhost',user = 'root', passwd = 'mysql',db = 'college')\n",
    "myCursor = conn.cursor()\n",
    "\n",
    "sql = 'SELECT * FROM student WHERE id = 3'\n",
    "\n",
    "myCursor.execute(sql)\n",
    "result = myCursor.fetchone()\n",
    "\n",
    "for i in result:\n",
    "    print(i)\n",
    "#print(result)\n",
    "\n",
    "conn.commit()\n",
    "myCursor.close()\n",
    "conn.close()"
   ]
  },
  {
   "cell_type": "code",
   "execution_count": null,
   "id": "7359c0b1",
   "metadata": {},
   "outputs": [],
   "source": [
    "# -- sample --\n",
    "import pymysql\n",
    "conn = pymysql.connect(host = 'localhost',user = 'root', passwd = 'mysql',db = 'college')\n",
    "myCursor = conn.cursor()\n",
    "\n",
    "sql = ''\n",
    "myCursor.execute(sql)\n",
    "conn.commit()\n",
    "myCursor.close()\n",
    "conn.close()"
   ]
  },
  {
   "cell_type": "code",
   "execution_count": 2,
   "id": "5f2cfede",
   "metadata": {},
   "outputs": [
    {
     "name": "stdout",
     "output_type": "stream",
     "text": [
      "data inserted succesfully..........\n"
     ]
    }
   ],
   "source": [
    "#---- insert ------\n",
    "import pymysql\n",
    "conn = pymysql.connect(host = 'localhost',user = 'root', passwd = 'mysql',db = 'college')\n",
    "myCursor = conn.cursor()\n",
    "\n",
    "sql = \"INSERT INTO student(name,mobile,email,roll_no) VALUES ('akshay', 8877006688,'akshay@gmail.com',106)\"\n",
    "myCursor.execute(sql)\n",
    "conn.commit()\n",
    "myCursor.close()\n",
    "conn.close()\n",
    "print(\"data inserted succesfully..........\")"
   ]
  },
  {
   "cell_type": "code",
   "execution_count": 3,
   "id": "194eabb8",
   "metadata": {},
   "outputs": [
    {
     "name": "stdout",
     "output_type": "stream",
     "text": [
      "Enter your name= akshay\n",
      "Enter your mobile no= 7879877998\n",
      "Enter your email= akshay@gmail.com\n",
      "Enter your roll_no= 108\n",
      "data inserted succesfully..........\n"
     ]
    }
   ],
   "source": [
    "#---- insert data using input function ------\n",
    "import pymysql\n",
    "conn = pymysql.connect(host = 'localhost',user = 'root', passwd = 'mysql',db = 'college')\n",
    "myCursor = conn.cursor()\n",
    "\n",
    "ename = input(\"Enter your name= \")\n",
    "emobile = input(\"Enter your mobile no= \")\n",
    "eemail = input(\"Enter your email= \")\n",
    "eroll_no = input(\"Enter your roll_no= \")\n",
    "sql = \"INSERT INTO student(name,mobile,email,roll_no) VALUES (%s,%s,%s,%s)\"\n",
    "arg = (ename, emobile, eemail, eroll_no)\n",
    "\n",
    "myCursor.execute(sql,arg)\n",
    "conn.commit()\n",
    "myCursor.close()\n",
    "conn.close()\n",
    "print(\"data inserted succesfully..........\")"
   ]
  },
  {
   "cell_type": "code",
   "execution_count": 1,
   "id": "244e5f47",
   "metadata": {},
   "outputs": [
    {
     "name": "stdout",
     "output_type": "stream",
     "text": [
      "data deleted succesfully\n"
     ]
    }
   ],
   "source": [
    "#---delete----\n",
    "import pymysql\n",
    "conn = pymysql.connect(host = 'localhost',user = 'root', passwd = 'mysql',db = 'college')\n",
    "myCursor = conn.cursor()\n",
    "\n",
    "sql = 'DELETE FROM student WHERE id=8'\n",
    "\n",
    "myCursor.execute(sql)\n",
    "conn.commit()\n",
    "myCursor.close()\n",
    "conn.close()\n",
    "print(\"data deleted succesfully\")"
   ]
  },
  {
   "cell_type": "code",
   "execution_count": 2,
   "id": "7c8e2e61",
   "metadata": {},
   "outputs": [
    {
     "name": "stdout",
     "output_type": "stream",
     "text": [
      "Enter your id= 7\n",
      "id deleted succesfully\n"
     ]
    }
   ],
   "source": [
    "#---delete operation using user input---\n",
    "import pymysql\n",
    "conn = pymysql.connect(host = 'localhost',user = 'root', passwd = 'mysql',db = 'college')\n",
    "myCursor = conn.cursor()\n",
    "\n",
    "id_1 = input(\"Enter your id= \")\n",
    "sql = 'DELETE FROM student WHERE id=%s'\n",
    "\n",
    "myCursor.execute(sql,id_1)\n",
    "conn.commit()\n",
    "myCursor.close()\n",
    "conn.close()\n",
    "print(\"data deleted succesfully\")"
   ]
  },
  {
   "cell_type": "code",
   "execution_count": null,
   "id": "0f51f840",
   "metadata": {},
   "outputs": [],
   "source": [
    "#--- update ---\n",
    "import pymysql\n",
    "conn = pymysql.connect(host = 'localhost',user = 'root', passwd = 'mysql',db = 'college')\n",
    "myCursor = conn.cursor()\n",
    "\n",
    "sql = 'UPDATE student '\n",
    "myCursor.execute(sql)\n",
    "conn.commit()\n",
    "myCursor.close()\n",
    "conn.close()"
   ]
  }
 ],
 "metadata": {
  "kernelspec": {
   "display_name": "Python 3 (ipykernel)",
   "language": "python",
   "name": "python3"
  },
  "language_info": {
   "codemirror_mode": {
    "name": "ipython",
    "version": 3
   },
   "file_extension": ".py",
   "mimetype": "text/x-python",
   "name": "python",
   "nbconvert_exporter": "python",
   "pygments_lexer": "ipython3",
   "version": "3.9.8"
  }
 },
 "nbformat": 4,
 "nbformat_minor": 5
}
