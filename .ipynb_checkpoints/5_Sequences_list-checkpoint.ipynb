{
 "cells": [
  {
   "cell_type": "code",
   "execution_count": 2,
   "id": "d77e4be9",
   "metadata": {},
   "outputs": [
    {
     "name": "stdout",
     "output_type": "stream",
     "text": [
      "11 <class 'list'>\n"
     ]
    }
   ],
   "source": [
    "#define list\n",
    "l1 = [10,20,30,40]\n",
    "print(11,type(l1))"
   ]
  },
  {
   "cell_type": "code",
   "execution_count": 4,
   "id": "4dd20d40",
   "metadata": {},
   "outputs": [
    {
     "name": "stdout",
     "output_type": "stream",
     "text": [
      "[] <class 'list'>\n"
     ]
    }
   ],
   "source": [
    "l2 = []\n",
    "print(l2, type(l1))"
   ]
  },
  {
   "cell_type": "code",
   "execution_count": 6,
   "id": "2a6ffcd7",
   "metadata": {},
   "outputs": [
    {
     "name": "stdout",
     "output_type": "stream",
     "text": [
      "[] <class 'list'>\n"
     ]
    }
   ],
   "source": [
    "l3 = list()\n",
    "print(l3,type(l3) )"
   ]
  },
  {
   "cell_type": "code",
   "execution_count": 16,
   "id": "53be4b8c",
   "metadata": {},
   "outputs": [
    {
     "name": "stdout",
     "output_type": "stream",
     "text": [
      "20\n",
      "[10, 20, 30, 40, 50]\n",
      "50\n",
      "[50, 40, 30, 20, 10]\n",
      "[20, 30, 40]\n"
     ]
    }
   ],
   "source": [
    "#slicing operator\n",
    "\n",
    "l1 = [10,20,30,40,50]\n",
    "print(l1[1])\n",
    "print(l1[0:5])\n",
    "print(l1[-1])\n",
    "print(l1[-1:-6:-1])\n",
    "print(l1[1:-1])"
   ]
  },
  {
   "cell_type": "code",
   "execution_count": 1,
   "id": "5c6803d9",
   "metadata": {},
   "outputs": [],
   "source": [
    "# list operations"
   ]
  },
  {
   "cell_type": "code",
   "execution_count": 3,
   "id": "4d015443",
   "metadata": {},
   "outputs": [
    {
     "name": "stdout",
     "output_type": "stream",
     "text": [
      "[1, 2, 3, 1, 2, 3, 1, 2, 3]\n"
     ]
    }
   ],
   "source": [
    "# Repetation or replication(*)\n",
    "\n",
    "l1 = [1,2,3]\n",
    "print(l1*3)"
   ]
  },
  {
   "cell_type": "code",
   "execution_count": 5,
   "id": "225f710f",
   "metadata": {},
   "outputs": [
    {
     "name": "stdout",
     "output_type": "stream",
     "text": [
      "[1, 2, 3, 'a', 'b', 'c']\n"
     ]
    }
   ],
   "source": [
    "# Canactination(+)\n",
    "l1 = [1,2,3]\n",
    "l2 = ['a','b','c']\n",
    "\n",
    "print(l1+l2)"
   ]
  },
  {
   "cell_type": "code",
   "execution_count": 8,
   "id": "1ea6e5f8",
   "metadata": {},
   "outputs": [
    {
     "name": "stdout",
     "output_type": "stream",
     "text": [
      "True\n",
      "True\n"
     ]
    }
   ],
   "source": [
    "#Memership operator\n",
    "l1 = [1,2,3,'a','b','c',[1,2,3]]\n",
    "\n",
    "print('a'in l1)\n",
    "print([1,2,3]in l1)"
   ]
  },
  {
   "cell_type": "code",
   "execution_count": 6,
   "id": "31f5fe7e",
   "metadata": {},
   "outputs": [
    {
     "name": "stdout",
     "output_type": "stream",
     "text": [
      "1\n",
      "2\n",
      "3\n",
      "a\n",
      "b\n",
      "c\n",
      "[1, 2, 3]\n"
     ]
    }
   ],
   "source": [
    "#Memership operator\n",
    "l1 = [1,2,3,'a','b','c',[1,2,3]]\n",
    "\n",
    "for i in l1:\n",
    "    print(i)"
   ]
  },
  {
   "cell_type": "code",
   "execution_count": null,
   "id": "8e434ce4",
   "metadata": {},
   "outputs": [],
   "source": []
  }
 ],
 "metadata": {
  "kernelspec": {
   "display_name": "Python 3 (ipykernel)",
   "language": "python",
   "name": "python3"
  },
  "language_info": {
   "codemirror_mode": {
    "name": "ipython",
    "version": 3
   },
   "file_extension": ".py",
   "mimetype": "text/x-python",
   "name": "python",
   "nbconvert_exporter": "python",
   "pygments_lexer": "ipython3",
   "version": "3.9.8"
  }
 },
 "nbformat": 4,
 "nbformat_minor": 5
}
