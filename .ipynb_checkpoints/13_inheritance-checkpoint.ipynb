{
 "cells": [
  {
   "cell_type": "code",
   "execution_count": 1,
   "id": "a73bb20d",
   "metadata": {},
   "outputs": [],
   "source": [
    "#syntax"
   ]
  },
  {
   "cell_type": "code",
   "execution_count": 5,
   "id": "23e3d26c",
   "metadata": {},
   "outputs": [
    {
     "name": "stdout",
     "output_type": "stream",
     "text": [
      "Enter your name : ayush\n",
      "Enter your mobile number : 45454545\n",
      "Enter your mobile number :43\n",
      "\n",
      "Student name :  ayush\n",
      "Stuent number :  45454545\n",
      "student roll number :  43\n"
     ]
    }
   ],
   "source": [
    "# single inheritance\n",
    "class Person:\n",
    "    def getDataPersonInfo(self):\n",
    "        self.name = input(\"Enter your name : \")\n",
    "        self.mobile = input(\"Enter your mobile number : \")\n",
    "        \n",
    "class Student(Person):\n",
    "    def getDataStudentInfo(self):\n",
    "        self.roll_number = int(input(\"Enter your roll number : \")\n",
    "        \n",
    "    def display(self):\n",
    "        print(\"Student name : \",self.name)\n",
    "        print(\"Stuent number : \",self.mobile)\n",
    "        print(\"student roll number : \",self.roll_number)\n",
    "        \n",
    "obj_student = Student()\n",
    "obj_student.getDataPersonInfo()\n",
    "obj_student.getDataStudentInfo()\n",
    "print()\n",
    "obj_student.display()"
   ]
  },
  {
   "cell_type": "code",
   "execution_count": 6,
   "id": "b35d272b",
   "metadata": {},
   "outputs": [
    {
     "ename": "SyntaxError",
     "evalue": "invalid syntax (643952878.py, line 12)",
     "output_type": "error",
     "traceback": [
      "\u001b[1;36m  Input \u001b[1;32mIn [6]\u001b[1;36m\u001b[0m\n\u001b[1;33m    def display(self):\u001b[0m\n\u001b[1;37m    ^\u001b[0m\n\u001b[1;31mSyntaxError\u001b[0m\u001b[1;31m:\u001b[0m invalid syntax\n"
     ]
    }
   ],
   "source": [
    "#using constructor\n",
    "class Person:\n",
    "    def __init__(self):\n",
    "        self.name = input(\"Enter your name : \")\n",
    "        self.mobile = input(\"Enter your mobile number : \")\n",
    "        \n",
    "class Student(Person):\n",
    "    def __init__(self):\n",
    "        Person.__init__(self)\n",
    "        self.roll_number = int(input(\"Enter your roll number : \")\n",
    "        \n",
    "    def display(self):\n",
    "        print(\"Student name : \",self.name)\n",
    "        print(\"Stuent number : \",self.mobile)\n",
    "        print(\"student roll number : \",self.roll_number)\n",
    "        \n",
    "obj_student = Student()\n",
    "print()\n",
    "obj_student.display()"
   ]
  },
  {
   "cell_type": "code",
   "execution_count": null,
   "id": "d2b1efa1",
   "metadata": {},
   "outputs": [],
   "source": []
  },
  {
   "cell_type": "code",
   "execution_count": null,
   "id": "ad080a83",
   "metadata": {},
   "outputs": [],
   "source": []
  },
  {
   "cell_type": "code",
   "execution_count": null,
   "id": "9424d678",
   "metadata": {},
   "outputs": [],
   "source": []
  },
  {
   "cell_type": "code",
   "execution_count": null,
   "id": "faeb88f0",
   "metadata": {},
   "outputs": [],
   "source": []
  }
 ],
 "metadata": {
  "kernelspec": {
   "display_name": "Python 3 (ipykernel)",
   "language": "python",
   "name": "python3"
  },
  "language_info": {
   "codemirror_mode": {
    "name": "ipython",
    "version": 3
   },
   "file_extension": ".py",
   "mimetype": "text/x-python",
   "name": "python",
   "nbconvert_exporter": "python",
   "pygments_lexer": "ipython3",
   "version": "3.9.8"
  }
 },
 "nbformat": 4,
 "nbformat_minor": 5
}
