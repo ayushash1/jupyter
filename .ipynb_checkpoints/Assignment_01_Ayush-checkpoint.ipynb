{
 "cells": [
  {
   "cell_type": "code",
   "execution_count": 1,
   "id": "099b56c9",
   "metadata": {},
   "outputs": [
    {
     "data": {
      "text/plain": [
       "'\\n\\n1. Write a Program to take two numbers from user and performs basic operation add,\\nsub, division and remainder\\n\\n'"
      ]
     },
     "execution_count": 1,
     "metadata": {},
     "output_type": "execute_result"
    }
   ],
   "source": [
    "\"\"\"\n",
    "\n",
    "1. Write a Program to take two numbers from user and performs basic operation add,\n",
    "sub, division and remainder\n",
    "\n",
    "\"\"\""
   ]
  },
  {
   "cell_type": "code",
   "execution_count": 2,
   "id": "98e1d2a3",
   "metadata": {
    "scrolled": true
   },
   "outputs": [
    {
     "name": "stdout",
     "output_type": "stream",
     "text": [
      "Enter the first number 1\n",
      "Enter the second number 1\n",
      "Sum of two numbers is            =  2\n",
      "Substraction of two numbers is   =  0\n",
      "Multiplication of two numbers is =  1\n",
      "Division of two numbers is       =  1.0\n",
      "Remainder of two numbers is      =  0\n"
     ]
    }
   ],
   "source": [
    "#addition , substraction, multiplication, division, remainder of numbers\n",
    "\n",
    "v1 = int(input(\"Enter the first number : \"))\n",
    "v2 = int(input(\"Enter the second number : \"))\n",
    "\n",
    "print(\"Sum of two numbers is            = \", v1+v2)\n",
    "print(\"Substraction of two numbers is   = \", v1-v2)\n",
    "print(\"Multiplication of two numbers is = \", v1*v2)\n",
    "print(\"Division of two numbers is       = \", v1/v2)\n",
    "print(\"Remainder of two numbers is      = \", v1%v2)\n"
   ]
  },
  {
   "cell_type": "code",
   "execution_count": 3,
   "id": "460d9ec8",
   "metadata": {},
   "outputs": [],
   "source": [
    "#----------------------------------------------------------------------------------------------------------#"
   ]
  },
  {
   "cell_type": "code",
   "execution_count": 4,
   "id": "9acd041b",
   "metadata": {},
   "outputs": [
    {
     "data": {
      "text/plain": [
       "'\\n\\n2. Write a program to take input from user for name ,age, address and print the\\nPerson Details. \\n\\n'"
      ]
     },
     "execution_count": 4,
     "metadata": {},
     "output_type": "execute_result"
    }
   ],
   "source": [
    "\"\"\"\n",
    "\n",
    "2. Write a program to take input from user for name ,age, address and print the\n",
    "Person Details. \n",
    "\n",
    "\"\"\""
   ]
  },
  {
   "cell_type": "code",
   "execution_count": 5,
   "id": "e66bf166",
   "metadata": {},
   "outputs": [
    {
     "name": "stdout",
     "output_type": "stream",
     "text": [
      "Enter your name    : AYUSH\n",
      "Enter your age     : 74\n",
      "Enter your address : kkb\n",
      "Your details are =  AYUSH , age  74 , kkb\n"
     ]
    }
   ],
   "source": [
    "#Person Details\n",
    "\n",
    "str1 = str(input(\"Enter your name    : \"))\n",
    "int2 = int(input(\"Enter your age     : \"))\n",
    "str3 = str(input(\"Enter your address : \"))\n",
    "\n",
    "print ('Your details are = ', str1,\", age \" ,int2,\",\" ,str3)"
   ]
  },
  {
   "cell_type": "code",
   "execution_count": 6,
   "id": "b3a89a3a",
   "metadata": {},
   "outputs": [],
   "source": [
    "#--------------------------------------------------------------------------------------------------------"
   ]
  },
  {
   "cell_type": "code",
   "execution_count": 7,
   "id": "53a24a54",
   "metadata": {},
   "outputs": [
    {
     "data": {
      "text/plain": [
       "'\\n\\n3. Write a program to ask principal rate and time from user and calculate the Simple\\nInterest S.I= (P*R*T)/100\\n\\n'"
      ]
     },
     "execution_count": 7,
     "metadata": {},
     "output_type": "execute_result"
    }
   ],
   "source": [
    "\"\"\"\n",
    "\n",
    "3. Write a program to ask principal rate and time from user and calculate the Simple\n",
    "Interest S.I= (P*R*T)/100\n",
    "\n",
    "\"\"\""
   ]
  },
  {
   "cell_type": "code",
   "execution_count": 8,
   "id": "96d73154",
   "metadata": {},
   "outputs": [
    {
     "name": "stdout",
     "output_type": "stream",
     "text": [
      "Enter the value of Principal Ammount :2343\n",
      "Enter the value of Rate              :2\n",
      "Enter the value of Time              :3\n",
      "The value of SI is =  140.58\n"
     ]
    }
   ],
   "source": [
    "#Calculation the Simple Intrest\n",
    "\n",
    "p = float(input(\"Enter the value of Principal Ammount : \"))\n",
    "r = float(input(\"Enter the value of Rate              : \"))\n",
    "t = float(input(\"Enter the value of Time              : \"))\n",
    "\n",
    "print(\"The value of SI is = \", p*r*t/100)"
   ]
  },
  {
   "cell_type": "code",
   "execution_count": 9,
   "id": "b914247e",
   "metadata": {},
   "outputs": [],
   "source": [
    "#-------------------------------------------------------------------------------------------------------"
   ]
  },
  {
   "cell_type": "code",
   "execution_count": 10,
   "id": "0e544fea",
   "metadata": {},
   "outputs": [
    {
     "data": {
      "text/plain": [
       "'\\n\\n4. Write a program to calculate the area of triangle. Ask input from user\\n(0.5*base*height)\\n\\n'"
      ]
     },
     "execution_count": 10,
     "metadata": {},
     "output_type": "execute_result"
    }
   ],
   "source": [
    "\"\"\"\n",
    "\n",
    "4. Write a program to calculate the area of triangle. Ask input from user\n",
    "(0.5*base*height)\n",
    "\n",
    "\"\"\"\n"
   ]
  },
  {
   "cell_type": "code",
   "execution_count": 11,
   "id": "f31d263e",
   "metadata": {},
   "outputs": [
    {
     "name": "stdout",
     "output_type": "stream",
     "text": [
      "Enter the value of height :83\n",
      "Enter the value of base   :49\n",
      "The area of triangle is =  2033.5\n"
     ]
    }
   ],
   "source": [
    "#Area of triangle\n",
    "\n",
    "h = float(input(\"Enter the value of height : \"))\n",
    "b = float(input(\"Enter the value of base   : \"))\n",
    "\n",
    "print(\"The area of triangle is = \", 0.5*h*b)"
   ]
  },
  {
   "cell_type": "code",
   "execution_count": 12,
   "id": "a6b99dd9",
   "metadata": {},
   "outputs": [],
   "source": [
    "#----------------------------------------------------------------------------------------------------------"
   ]
  },
  {
   "cell_type": "code",
   "execution_count": 13,
   "id": "5e1048c0",
   "metadata": {},
   "outputs": [
    {
     "data": {
      "text/plain": [
       "'\\n\\n5. Write a python script to calculate area of circle, radius is taken from user.\\n\\n'"
      ]
     },
     "execution_count": 13,
     "metadata": {},
     "output_type": "execute_result"
    }
   ],
   "source": [
    "\"\"\"\n",
    "\n",
    "5. Write a python script to calculate area of circle, radius is taken from user.\n",
    "\n",
    "\"\"\""
   ]
  },
  {
   "cell_type": "code",
   "execution_count": 14,
   "id": "fbf60407",
   "metadata": {},
   "outputs": [
    {
     "name": "stdout",
     "output_type": "stream",
     "text": [
      "Enter the value of Radius 843\n",
      "The radius of circle is = 2232148.509\n"
     ]
    }
   ],
   "source": [
    "#Area of circle\n",
    "\n",
    "r = float(input(\"Enter the value of Radius \"))\n",
    "\n",
    "print(\"The radius of circle is =\", 3.141*(r**2) )\n",
    "\n"
   ]
  },
  {
   "cell_type": "code",
   "execution_count": 15,
   "id": "bcc75c3d",
   "metadata": {},
   "outputs": [],
   "source": [
    "#-----------------------------------------------------------------------------------------------------------"
   ]
  },
  {
   "cell_type": "code",
   "execution_count": 16,
   "id": "893b30e3",
   "metadata": {},
   "outputs": [
    {
     "data": {
      "text/plain": [
       "'\\n6. Write a python script calculate volume of cuboid, dimension float(value) taken\\nfrom user.\\n'"
      ]
     },
     "execution_count": 16,
     "metadata": {},
     "output_type": "execute_result"
    }
   ],
   "source": [
    "\"\"\"\n",
    "6. Write a python script calculate volume of cuboid, dimension float(value) taken\n",
    "from user.\n",
    "\"\"\""
   ]
  },
  {
   "cell_type": "code",
   "execution_count": 17,
   "id": "21925784",
   "metadata": {},
   "outputs": [
    {
     "name": "stdout",
     "output_type": "stream",
     "text": [
      "Enter the value of Length : 8\n",
      "Enter the value of Width  : 3\n",
      "Enter the value of Height : 4\n",
      "The volume of cuboide is =  96\n"
     ]
    }
   ],
   "source": [
    "#Volume of cuboide\n",
    "\n",
    "l = float(input(\"Enter the value of Length : \"))\n",
    "w = float(input(\"Enter the value of Width  : \"))\n",
    "h = float(input(\"Enter the value of Height : \"))\n",
    "\n",
    "print(\"The volume of cuboide is = \", l * w * h )"
   ]
  },
  {
   "cell_type": "code",
   "execution_count": 18,
   "id": "4afff280",
   "metadata": {},
   "outputs": [],
   "source": [
    "#-------------------------------------------------------------------------------------------------------------"
   ]
  },
  {
   "cell_type": "code",
   "execution_count": 19,
   "id": "62579aad",
   "metadata": {},
   "outputs": [
    {
     "data": {
      "text/plain": [
       "'\\n7. Write a program to ask three subject marks from user and calculate the average. \\n'"
      ]
     },
     "execution_count": 19,
     "metadata": {},
     "output_type": "execute_result"
    }
   ],
   "source": [
    "\"\"\"\n",
    "7. Write a program to ask three subject marks from user and calculate the average. \n",
    "\"\"\""
   ]
  },
  {
   "cell_type": "code",
   "execution_count": 20,
   "id": "30024083",
   "metadata": {},
   "outputs": [
    {
     "name": "stdout",
     "output_type": "stream",
     "text": [
      "Enter the marks of math's subject    :83\n",
      "Enter the marks of physics subject   :94\n",
      "Enter the marks of chemistry subject :92\n",
      "The avarage marks are =  89.66666666666667\n"
     ]
    }
   ],
   "source": [
    "#Avarage of subjects\n",
    "\n",
    "m = int(input(\"Enter the marks of math's subject    : \"))\n",
    "p = int(input(\"Enter the marks of physics subject   : \"))\n",
    "c = int(input(\"Enter the marks of chemistry subject : \"))\n",
    "\n",
    "print(\"The avarage marks are = \",(m+p+c)/3)"
   ]
  },
  {
   "cell_type": "code",
   "execution_count": 21,
   "id": "b673e0fd",
   "metadata": {},
   "outputs": [],
   "source": [
    "#--------------------------------------------------------------------------------------------------------------"
   ]
  },
  {
   "cell_type": "code",
   "execution_count": 22,
   "id": "47a31297",
   "metadata": {},
   "outputs": [
    {
     "data": {
      "text/plain": [
       "'\\n8. Write a program to convert temperature from Fahrenheit to Celsius degree.\\n\\n'"
      ]
     },
     "execution_count": 22,
     "metadata": {},
     "output_type": "execute_result"
    }
   ],
   "source": [
    "\"\"\"\n",
    "8. Write a program to convert temperature from Fahrenheit to Celsius degree.\n",
    "\n",
    "\"\"\""
   ]
  },
  {
   "cell_type": "code",
   "execution_count": 23,
   "id": "5f697b64",
   "metadata": {},
   "outputs": [
    {
     "name": "stdout",
     "output_type": "stream",
     "text": [
      "Enter the tempreture in Fahrenheit : 0\n",
      "The tempreture in degree celsius is =  -17.77777777777778\n"
     ]
    }
   ],
   "source": [
    "#Fahrenheit to Celsius \n",
    "\n",
    "f = float(input(\"Enter the tempreture in Fahrenheit : \"))\n",
    "\n",
    "print(\"The tempreture in degree celsius is = \", (f-32)*5/9)"
   ]
  },
  {
   "cell_type": "code",
   "execution_count": null,
   "id": "3e2757d6",
   "metadata": {},
   "outputs": [],
   "source": [
    "#----------------------------------------------------------------------------------------------------------------"
   ]
  },
  {
   "cell_type": "code",
   "execution_count": null,
   "id": "73a26c8a",
   "metadata": {},
   "outputs": [],
   "source": [
    "\"\"\"\n",
    "9. Write a python script to add two numbers (integer) taken from user through\n",
    "keyboard.\n",
    "\n",
    "\"\"\""
   ]
  },
  {
   "cell_type": "code",
   "execution_count": 24,
   "id": "670de0a3",
   "metadata": {},
   "outputs": [
    {
     "name": "stdout",
     "output_type": "stream",
     "text": [
      "Enter first number  :55\n",
      "Enter second number :35\n",
      "Addition of two numbers is =  90\n"
     ]
    }
   ],
   "source": [
    "#Adding two numbers\n",
    "\n",
    "num1 = int(input(\"Enter first number  : \"))\n",
    "num2 = int(input(\"Enter second number : \"))\n",
    "\n",
    "print(\"Addition of two numbers is = \", num1+num2)\n"
   ]
  },
  {
   "cell_type": "code",
   "execution_count": null,
   "id": "8ac0914f",
   "metadata": {},
   "outputs": [],
   "source": [
    "#----------------------------------------------------------------------------------------------------------------"
   ]
  },
  {
   "cell_type": "code",
   "execution_count": null,
   "id": "0a2c24b1",
   "metadata": {},
   "outputs": [],
   "source": [
    "\"\"\"\n",
    "\n",
    "10.Write a python script to calculate square of a given number (number is taken from\n",
    "user)\n",
    "\n",
    "\"\"\""
   ]
  },
  {
   "cell_type": "code",
   "execution_count": 25,
   "id": "8115afeb",
   "metadata": {},
   "outputs": [
    {
     "name": "stdout",
     "output_type": "stream",
     "text": [
      "Enter the number : 67\n",
      "The squre of number is  4489\n"
     ]
    }
   ],
   "source": [
    "#Square of a given number\n",
    "\n",
    "num1 = int(input(\"Enter the number : \"))\n",
    "print(\"The squre of number is \", num1**2)"
   ]
  },
  {
   "cell_type": "code",
   "execution_count": null,
   "id": "94d50644",
   "metadata": {},
   "outputs": [],
   "source": [
    "#------------------------------------------------------------------------------------------------------------"
   ]
  },
  {
   "cell_type": "code",
   "execution_count": null,
   "id": "e1d748f8",
   "metadata": {},
   "outputs": [],
   "source": [
    "\"\"\"\n",
    "\n",
    "11.Write a python script to calculate area of triangle. Length of the side area given by\n",
    "user.\n",
    "\n",
    "\"\"\""
   ]
  },
  {
   "cell_type": "code",
   "execution_count": 30,
   "id": "cc837126",
   "metadata": {},
   "outputs": [
    {
     "name": "stdout",
     "output_type": "stream",
     "text": [
      "Enter first side: 3\n",
      "Enter second side: 2\n",
      "Enter third side: 3\n",
      "The area of the triangle is 2.8284271247461903\n"
     ]
    }
   ],
   "source": [
    "a = float(input(\"Enter value of first side  : \"))\n",
    "b = float(input(\"Enter value of second side : \"))\n",
    "c = float(input(\"Enter value of third side  : \"))\n",
    "   \n",
    "s = (a + b + c) / 2  \n",
    "    \n",
    "print(\"The area of the triangle is\", (s*(s-a)*(s-b)*(s-c)) ** 0.5)   "
   ]
  },
  {
   "cell_type": "code",
   "execution_count": null,
   "id": "86c8fc14",
   "metadata": {},
   "outputs": [],
   "source": []
  }
 ],
 "metadata": {
  "kernelspec": {
   "display_name": "Python 3 (ipykernel)",
   "language": "python",
   "name": "python3"
  },
  "language_info": {
   "codemirror_mode": {
    "name": "ipython",
    "version": 3
   },
   "file_extension": ".py",
   "mimetype": "text/x-python",
   "name": "python",
   "nbconvert_exporter": "python",
   "pygments_lexer": "ipython3",
   "version": "3.9.8"
  }
 },
 "nbformat": 4,
 "nbformat_minor": 5
}
