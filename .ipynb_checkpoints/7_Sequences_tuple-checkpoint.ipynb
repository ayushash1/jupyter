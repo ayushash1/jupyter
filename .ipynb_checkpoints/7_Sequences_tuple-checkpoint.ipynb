{
 "cells": [
  {
   "cell_type": "code",
   "execution_count": 1,
   "id": "5ffeeebc",
   "metadata": {},
   "outputs": [
    {
     "name": "stdout",
     "output_type": "stream",
     "text": [
      "hello world <class 'str'>\n",
      "hello python <class 'str'>\n"
     ]
    }
   ],
   "source": [
    "s1 = 'hello world'\n",
    "s2 = 'hello python'\n",
    "\n",
    "print(s1, type(s1))\n",
    "print(s2, type(s2))"
   ]
  },
  {
   "cell_type": "code",
   "execution_count": 4,
   "id": "c6969af8",
   "metadata": {},
   "outputs": [
    {
     "name": "stdout",
     "output_type": "stream",
     "text": [
      "e\n",
      "lo wo\n",
      "dlrow o\n",
      "dlrow olleh\n"
     ]
    }
   ],
   "source": [
    "# string slicing operator\n",
    "s1 = 'hello world'\n",
    "print(s1[1])\n",
    "print(s1[3:8])\n",
    "print(s1[-1:-8:-1])\n",
    "print(s1[::-1])"
   ]
  },
  {
   "cell_type": "code",
   "execution_count": 5,
   "id": "cdd3a1bd",
   "metadata": {},
   "outputs": [
    {
     "name": "stdout",
     "output_type": "stream",
     "text": [
      "h\n",
      "e\n",
      "l\n",
      "l\n",
      "o\n",
      " \n",
      "w\n",
      "o\n",
      "r\n",
      "l\n",
      "d\n"
     ]
    }
   ],
   "source": [
    "# traversing a string\n",
    "\n",
    "s1 = 'hello world'\n",
    "\n",
    "for i in s1:\n",
    "    print(i)"
   ]
  },
  {
   "cell_type": "code",
   "execution_count": 6,
   "id": "4bd07400",
   "metadata": {},
   "outputs": [
    {
     "name": "stdout",
     "output_type": "stream",
     "text": [
      "hello world\n",
      "hello student\n",
      "hello world hello student\n"
     ]
    }
   ],
   "source": [
    "# concatination(+)\n",
    "\n",
    "s1 = 'hello world'\n",
    "s2 = 'hello student'\n",
    "\n",
    "print(s1)\n",
    "print(s2)\n",
    "\n",
    "print(s1+' '+s2)"
   ]
  },
  {
   "cell_type": "code",
   "execution_count": 8,
   "id": "8a002fce",
   "metadata": {},
   "outputs": [
    {
     "name": "stdout",
     "output_type": "stream",
     "text": [
      "asdfghkl asdfghkl asdfghkl \n"
     ]
    }
   ],
   "source": [
    "# replication(*)\n",
    "\n",
    "s1 = 'asdfghkl '\n",
    "\n",
    "print(s1*3)"
   ]
  },
  {
   "cell_type": "code",
   "execution_count": 11,
   "id": "762bee89",
   "metadata": {},
   "outputs": [
    {
     "name": "stdout",
     "output_type": "stream",
     "text": [
      "False\n",
      "True\n",
      "False\n"
     ]
    }
   ],
   "source": [
    "# membership operator\n",
    "\n",
    "s1 = 'Hello world'\n",
    "print('h' in s1)\n",
    "print('o w' in s1)\n",
    "print('ewo' in s1)"
   ]
  },
  {
   "cell_type": "code",
   "execution_count": 12,
   "id": "4b4fd554",
   "metadata": {},
   "outputs": [
    {
     "name": "stdout",
     "output_type": "stream",
     "text": [
      "False\n"
     ]
    }
   ],
   "source": [
    "# comarision operator\n",
    "# >,<,<=,>=,==,!=\n",
    "\n",
    "s1 = 'abc'\n",
    "s2 = 'pqr'\n",
    "\n",
    "print(s1>s2)"
   ]
  },
  {
   "cell_type": "code",
   "execution_count": 13,
   "id": "2654f545",
   "metadata": {},
   "outputs": [
    {
     "name": "stdout",
     "output_type": "stream",
     "text": [
      "True\n"
     ]
    }
   ],
   "source": [
    "s1 = 'abc'\n",
    "s2 = 'aar'\n",
    "\n",
    "print(s1>s2)"
   ]
  },
  {
   "cell_type": "code",
   "execution_count": 14,
   "id": "b66ff947",
   "metadata": {},
   "outputs": [
    {
     "data": {
      "text/plain": [
       "97"
      ]
     },
     "execution_count": 14,
     "metadata": {},
     "output_type": "execute_result"
    }
   ],
   "source": [
    "ord('a')"
   ]
  },
  {
   "cell_type": "code",
   "execution_count": 15,
   "id": "dbaf837c",
   "metadata": {},
   "outputs": [
    {
     "data": {
      "text/plain": [
       "98"
      ]
     },
     "execution_count": 15,
     "metadata": {},
     "output_type": "execute_result"
    }
   ],
   "source": [
    "ord('b')"
   ]
  },
  {
   "cell_type": "code",
   "execution_count": 16,
   "id": "cdba9c8d",
   "metadata": {},
   "outputs": [
    {
     "data": {
      "text/plain": [
       "112"
      ]
     },
     "execution_count": 16,
     "metadata": {},
     "output_type": "execute_result"
    }
   ],
   "source": [
    "ord('p')"
   ]
  },
  {
   "cell_type": "code",
   "execution_count": null,
   "id": "fa7d80b7",
   "metadata": {},
   "outputs": [],
   "source": []
  }
 ],
 "metadata": {
  "kernelspec": {
   "display_name": "Python 3 (ipykernel)",
   "language": "python",
   "name": "python3"
  },
  "language_info": {
   "codemirror_mode": {
    "name": "ipython",
    "version": 3
   },
   "file_extension": ".py",
   "mimetype": "text/x-python",
   "name": "python",
   "nbconvert_exporter": "python",
   "pygments_lexer": "ipython3",
   "version": "3.9.8"
  }
 },
 "nbformat": 4,
 "nbformat_minor": 5
}
