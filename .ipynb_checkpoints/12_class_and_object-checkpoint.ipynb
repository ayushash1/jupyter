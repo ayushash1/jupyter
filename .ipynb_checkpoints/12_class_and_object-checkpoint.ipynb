{
 "cells": [
  {
   "cell_type": "code",
   "execution_count": null,
   "metadata": {},
   "outputs": [],
   "source": [
    "#syntax\n",
    "\n",
    "#class class_name:\n",
    "#    block_insturction\n",
    "\n",
    "#obj_name = class_name()\n",
    "\n"
   ]
  },
  {
   "cell_type": "code",
   "execution_count": 2,
   "metadata": {},
   "outputs": [
    {
     "name": "stdout",
     "output_type": "stream",
     "text": [
      "Access class variable  hello world\n",
      "Access class variavle  123\n"
     ]
    }
   ],
   "source": [
    "class sample:\n",
    "    v1 = 'hello world' #class variable\n",
    "    n1 =  123\n",
    "\n",
    "obj1 = sample()\n",
    "\n",
    "print('Access class variable ',obj1.v1)\n",
    "print('Access class variavle ',obj1.n1)"
   ]
  },
  {
   "cell_type": "code",
   "execution_count": 4,
   "metadata": {},
   "outputs": [
    {
     "name": "stdout",
     "output_type": "stream",
     "text": [
      "hello world...\n",
      "hello world...\n",
      "hello world...\n"
     ]
    }
   ],
   "source": [
    "#funtion in class\n",
    "\n",
    "class sample:\n",
    "    def first(self):\n",
    "        print(\"hello world...\")\n",
    "\n",
    "obj_1 = sample()\n",
    "obj_1.first()\n",
    "obj_1.first()\n",
    "\n",
    "obj_2 = sample()\n",
    "obj_2.first()\n",
    " "
   ]
  },
  {
   "cell_type": "code",
   "execution_count": 1,
   "metadata": {},
   "outputs": [
    {
     "name": "stdout",
     "output_type": "stream",
     "text": [
      "Enter your Name = Ayush Ashtikar\n",
      "Enter you Number = 7878787878\n",
      "Enter you roll number = 676767676\n",
      "name =  Ayush Ashtikar\n",
      "mobile number =  7878787878\n",
      "roll number =  676767676\n"
     ]
    }
   ],
   "source": [
    "# instance variable\n",
    "\n",
    "\n",
    "class college:\n",
    "    def persnal_info(self):\n",
    "        self.name = input(\"Enter your Name = \")\n",
    "        self.number = input(\"Enter you Number = \")\n",
    "    def college_info(self):\n",
    "        self.roll = input(\"Enter you roll number = \")\n",
    "\n",
    "    def display(self):\n",
    "        print(\"name = \", self.name)\n",
    "        print(\"mobile number = \",self.number)\n",
    "        print(\"roll number = \",self.roll)\n",
    "\n",
    "obj1 = college()\n",
    "obj1.persnal_info()\n",
    "obj1.college_info()\n",
    "obj1.display()"
   ]
  },
  {
   "cell_type": "code",
   "execution_count": 3,
   "metadata": {},
   "outputs": [
    {
     "name": "stdout",
     "output_type": "stream",
     "text": [
      "inside function variable v2 variable\n",
      "inside side function variable  v2 variable\n"
     ]
    }
   ],
   "source": [
    "#global bariable\n",
    "def sample():\n",
    "    global v2\n",
    "    v2 = 'v2 variable'\n",
    "    \n",
    "    print(\"inside function variable\", v2)\n",
    "    \n",
    "sample()\n",
    "print(\"inside side function variable \", v2)"
   ]
  },
  {
   "cell_type": "code",
   "execution_count": 5,
   "metadata": {},
   "outputs": [
    {
     "name": "stdout",
     "output_type": "stream",
     "text": [
      "hello world...\n",
      "hello world...\n",
      "hello world...\n"
     ]
    }
   ],
   "source": [
    "#del\n",
    "\n",
    "class sample:\n",
    "    def sample_func(self):\n",
    "        print(\"hello world...\")\n",
    "\n",
    "obj_s1 = sample()\n",
    "obj_s2 = sample()\n",
    "\n",
    "obj_s1.sample_func()\n",
    "obj_s2.sample_func()\n",
    "\n",
    "del obj_s2\n",
    "\n",
    "obj_s1.sample_func()\n",
    "# obj_s2.sample_func()"
   ]
  },
  {
   "cell_type": "code",
   "execution_count": 6,
   "metadata": {},
   "outputs": [
    {
     "name": "stdout",
     "output_type": "stream",
     "text": [
      "constuctor inbuild function.\n"
     ]
    }
   ],
   "source": [
    "# constructor \n",
    "# constructor is a special type of inbuild function.\n",
    "# it can be executed at the time of instance / object creation.\n",
    "\n",
    "class sample:\n",
    "    def __init__(self):\n",
    "        print(\"constuctor inbuild function.\")\n",
    "        \n",
    "obj = sample()"
   ]
  },
  {
   "cell_type": "code",
   "execution_count": 1,
   "metadata": {},
   "outputs": [
    {
     "name": "stdout",
     "output_type": "stream",
     "text": [
      "hello world...\n",
      "hello world...\n",
      "hello world...\n",
      "number of objects =  3\n"
     ]
    }
   ],
   "source": [
    "# count number object \n",
    "class sample:\n",
    "    v1 = 0 #class variable\n",
    "    def __init__(self):\n",
    "        print(\"hello world...\")\n",
    "        sample.v1+=1\n",
    "        \n",
    "obj_s1 = sample()\n",
    "obj_s2 = sample()\n",
    "obj_s3 = sample()\n",
    "\n",
    "print(\"number of objects = \", sample.v1)"
   ]
  },
  {
   "cell_type": "code",
   "execution_count": 4,
   "metadata": {},
   "outputs": [
    {
     "name": "stdout",
     "output_type": "stream",
     "text": [
      "person name =  ankit\n",
      "person mobile number =  7793928218\n",
      "person email =  ankit200p@gmail.com\n",
      "\n",
      "person name =  kunal\n",
      "person mobile number =  8833848738\n",
      "person email =  kunal@gmail.com\n"
     ]
    }
   ],
   "source": [
    "#parameterize constuctor\n",
    "\n",
    "class person:\n",
    "    def __init__(self,name1,mobile1,email1):\n",
    "        self.name = name1\n",
    "        self.mobile = mobile1\n",
    "        self.email = email1\n",
    "        \n",
    "        print(\"person name = \", self.name)\n",
    "        print(\"person mobile number = \", self.mobile)\n",
    "        print(\"person email = \", self.email)\n",
    "        \n",
    "\n",
    "obj1 = person('ankit',7793928218,'ankit200p@gmail.com')\n",
    "print()\n",
    "obj2 = person('kunal',8833848738,'kunal@gmail.com')"
   ]
  },
  {
   "cell_type": "code",
   "execution_count": 7,
   "metadata": {},
   "outputs": [
    {
     "name": "stdout",
     "output_type": "stream",
     "text": [
      "\n",
      "person name =  ankit\n",
      "person mobile number =  7793928218\n",
      "person email =  ankit200p@gmail.com\n",
      "person name =  kunal\n",
      "person mobile number =  8833848738\n",
      "person email =  kunal@gmail.com\n",
      "person name =  kunal\n",
      "person mobile number =  8833848738\n",
      "person email =  kunal@gmail.com\n"
     ]
    }
   ],
   "source": [
    "# parametrize constuctor with display function\n",
    "\n",
    "class person:\n",
    "    def __init__(self,name1,mobile1,email1):\n",
    "        self.name = name1\n",
    "        self.mobile = mobile1\n",
    "        self.email = email1\n",
    "    def display(self):\n",
    "        print(\"person name = \", self.name)\n",
    "        print(\"person mobile number = \", self.mobile)\n",
    "        print(\"person email = \", self.email)\n",
    "        \n",
    "\n",
    "obj1 = person('ankit',7793928218,'ankit200p@gmail.com')\n",
    "print()\n",
    "obj2 = person('kunal',8833848738,'kunal@gmail.com')\n",
    "\n",
    "obj1.display()\n",
    "obj2.display()\n",
    "obj2.display()"
   ]
  },
  {
   "cell_type": "code",
   "execution_count": 11,
   "metadata": {},
   "outputs": [
    {
     "ename": "AttributeError",
     "evalue": "'person' object has no attribute 'name'",
     "output_type": "error",
     "traceback": [
      "\u001b[1;31m---------------------------------------------------------------------------\u001b[0m",
      "\u001b[1;31mAttributeError\u001b[0m                            Traceback (most recent call last)",
      "Input \u001b[1;32mIn [11]\u001b[0m, in \u001b[0;36m<cell line: 14>\u001b[1;34m()\u001b[0m\n\u001b[0;32m     11\u001b[0m         \u001b[38;5;28mprint\u001b[39m(\u001b[38;5;124m\"\u001b[39m\u001b[38;5;124mparson email\u001b[39m\u001b[38;5;124m\"\u001b[39m,\u001b[38;5;28mself\u001b[39m\u001b[38;5;241m.\u001b[39mmail)\n\u001b[0;32m     13\u001b[0m obj1 \u001b[38;5;241m=\u001b[39m person()\n\u001b[1;32m---> 14\u001b[0m \u001b[43mobj1\u001b[49m\u001b[38;5;241;43m.\u001b[39;49m\u001b[43mdisplay\u001b[49m\u001b[43m(\u001b[49m\u001b[43m)\u001b[49m\n",
      "Input \u001b[1;32mIn [11]\u001b[0m, in \u001b[0;36mperson.display\u001b[1;34m(self)\u001b[0m\n\u001b[0;32m      8\u001b[0m \u001b[38;5;28;01mdef\u001b[39;00m \u001b[38;5;21mdisplay\u001b[39m(\u001b[38;5;28mself\u001b[39m):\n\u001b[1;32m----> 9\u001b[0m     \u001b[38;5;28mprint\u001b[39m(\u001b[38;5;124m\"\u001b[39m\u001b[38;5;124mperson name = \u001b[39m\u001b[38;5;124m\"\u001b[39m, \u001b[43mobj1\u001b[49m\u001b[38;5;241;43m.\u001b[39;49m\u001b[43mname\u001b[49m)\n\u001b[0;32m     10\u001b[0m     \u001b[38;5;28mprint\u001b[39m(\u001b[38;5;124m\"\u001b[39m\u001b[38;5;124mperson mobile number = \u001b[39m\u001b[38;5;124m\"\u001b[39m,\u001b[38;5;28mself\u001b[39m\u001b[38;5;241m.\u001b[39mmobile)\n\u001b[0;32m     11\u001b[0m     \u001b[38;5;28mprint\u001b[39m(\u001b[38;5;124m\"\u001b[39m\u001b[38;5;124mparson email\u001b[39m\u001b[38;5;124m\"\u001b[39m,\u001b[38;5;28mself\u001b[39m\u001b[38;5;241m.\u001b[39mmail)\n",
      "\u001b[1;31mAttributeError\u001b[0m: 'person' object has no attribute 'name'"
     ]
    }
   ],
   "source": [
    "# non parametrize constuctor\n",
    "class person:\n",
    "    def getData(self):\n",
    "        self.name = 'ankit'\n",
    "        self.mobile = 45342353543\n",
    "        self.email = 'abc@gmail.com'\n",
    "        \n",
    "    def display(self):\n",
    "        print(\"person name = \", self.name)\n",
    "        print(\"person mobile number = \",self.mobile)\n",
    "        print(\"parson email\",self.mail)\n",
    "        \n",
    "obj1 = person()\n",
    "obj1.display()"
   ]
  },
  {
   "cell_type": "code",
   "execution_count": 13,
   "metadata": {},
   "outputs": [
    {
     "name": "stdout",
     "output_type": "stream",
     "text": [
      "name=  Kunal\n",
      "mobile=  34545676745\n"
     ]
    }
   ],
   "source": [
    "class person:\n",
    "    def getData(self,name1, mobile1):\n",
    "        self.name = name1\n",
    "        self.mobile = mobile1\n",
    "        \n",
    "    def display(self):\n",
    "        print(\"name= \",self.name)\n",
    "        print(\"mobile= \", self.mobile)\n",
    "        \n",
    "obj = person()\n",
    "obj.getData('Kunal', 34545676745)\n",
    "obj.display()"
   ]
  },
  {
   "cell_type": "code",
   "execution_count": 16,
   "metadata": {},
   "outputs": [
    {
     "ename": "TypeError",
     "evalue": "display() missing 1 required positional argument: 'self'",
     "output_type": "error",
     "traceback": [
      "\u001b[1;31m---------------------------------------------------------------------------\u001b[0m",
      "\u001b[1;31mTypeError\u001b[0m                                 Traceback (most recent call last)",
      "Input \u001b[1;32mIn [16]\u001b[0m, in \u001b[0;36m<cell line: 18>\u001b[1;34m()\u001b[0m\n\u001b[0;32m     15\u001b[0m         \u001b[38;5;28mprint\u001b[39m(\u001b[38;5;124m\"\u001b[39m\u001b[38;5;124mperson email \u001b[39m\u001b[38;5;124m\"\u001b[39m,\u001b[38;5;28mself\u001b[39m\u001b[38;5;241m.\u001b[39memail)\n\u001b[0;32m     17\u001b[0m obj \u001b[38;5;241m=\u001b[39m person\n\u001b[1;32m---> 18\u001b[0m \u001b[43mobj\u001b[49m\u001b[38;5;241;43m.\u001b[39;49m\u001b[43mdisplay\u001b[49m\u001b[43m(\u001b[49m\u001b[43m)\u001b[49m\n",
      "\u001b[1;31mTypeError\u001b[0m: display() missing 1 required positional argument: 'self'"
     ]
    }
   ],
   "source": [
    "class person:\n",
    "    def __init__(self):\n",
    "        self.name = 'ayush'\n",
    "        self.mobile = 34343423\n",
    "        self.email = 'ayush@fmail.com'\n",
    "    \n",
    "    def __init__(self):\n",
    "        self.name = 'ankit'\n",
    "        self.mobile = 34343423\n",
    "        self.email = 'ankit@fmail.com'\n",
    "        \n",
    "    def display(self):\n",
    "        print(\"person name\", self.name)\n",
    "        print(\"person number \", self.mobile)\n",
    "        print(\"person email \",self.email)\n",
    "        \n",
    "obj = person\n",
    "obj.display()"
   ]
  },
  {
   "cell_type": "code",
   "execution_count": null,
   "metadata": {},
   "outputs": [],
   "source": []
  }
 ],
 "metadata": {
  "kernelspec": {
   "display_name": "Python 3 (ipykernel)",
   "language": "python",
   "name": "python3"
  },
  "language_info": {
   "codemirror_mode": {
    "name": "ipython",
    "version": 3
   },
   "file_extension": ".py",
   "mimetype": "text/x-python",
   "name": "python",
   "nbconvert_exporter": "python",
   "pygments_lexer": "ipython3",
   "version": "3.9.8"
  },
  "vscode": {
   "interpreter": {
    "hash": "867b23448c8a5cfd354ca1def289a7dd2c828e227e30aae53b7fee6c3d858da2"
   }
  }
 },
 "nbformat": 4,
 "nbformat_minor": 2
}
