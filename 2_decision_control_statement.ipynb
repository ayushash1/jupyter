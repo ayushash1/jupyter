{
 "cells": [
  {
   "cell_type": "code",
   "execution_count": 1,
   "id": "32a5f326",
   "metadata": {},
   "outputs": [],
   "source": [
    "#if \n",
    "#if else\n",
    "#if elif else\n",
    "#nested if else"
   ]
  },
  {
   "cell_type": "code",
   "execution_count": 2,
   "id": "f782c0e6",
   "metadata": {},
   "outputs": [
    {
     "name": "stdout",
     "output_type": "stream",
     "text": [
      "Enter a number : 6\n",
      "Number is greater than 5.\n"
     ]
    }
   ],
   "source": [
    "n1 = int(input(\"Enter a number : \"))\n",
    "\n",
    "if n1>5:\n",
    "    print(\"Number is greater than 5.\")\n",
    "    "
   ]
  },
  {
   "cell_type": "code",
   "execution_count": 3,
   "id": "fdc8a019",
   "metadata": {},
   "outputs": [
    {
     "name": "stdout",
     "output_type": "stream",
     "text": [
      "Enter a number =2\n",
      "Even number\n"
     ]
    }
   ],
   "source": [
    "n1 = int(input(\"Enter a number =\"))\n",
    "if n1%2==0:\n",
    "    print(\"Even number\")\n",
    "    \n",
    "else:\n",
    "    print(\"odd number\")"
   ]
  },
  {
   "cell_type": "code",
   "execution_count": 4,
   "id": "64453910",
   "metadata": {},
   "outputs": [
    {
     "name": "stdout",
     "output_type": "stream",
     "text": [
      "Enter a number =23\n",
      "Number is positive\n"
     ]
    }
   ],
   "source": [
    "n1 = int(input(\"Enter a number =\"))\n",
    "if n1>0:\n",
    "    print(\"Number is positive\")\n",
    "elif n1<0:\n",
    "    print(\"number is negative\")\n",
    "else:\n",
    "    print(\"number is zero\")"
   ]
  },
  {
   "cell_type": "code",
   "execution_count": 5,
   "id": "78d76a78",
   "metadata": {},
   "outputs": [
    {
     "data": {
      "text/plain": [
       "'\\nif condition_1\\n    __blockofinstuctions_\\n    __blockofinstuctions_\\n    if condition:\\n        __blockofinstuctions_\\n        __blockofinstuctions_\\n    else\\n        __blockofinstuctions_\\n        __blockofinstuctions_\\nelif\\n     __blockofinstuctions_\\n    __blockofinstuctions_\\n    if condition:\\n        __blockofinstuctions_\\n        __blockofinstuctions_\\n    else\\n        __blockofinstuctions_\\n        __blockofinstuctions_\\nelse\\n     __blockofinstuctions_\\n    __blockofinstuctions_\\n    if condition:\\n        __blockofinstuctions_\\n        __blockofinstuctions_\\n    else\\n        __blockofinstuctions_\\n        __blockofinstuctions_\\n    \\n\\n'"
      ]
     },
     "execution_count": 5,
     "metadata": {},
     "output_type": "execute_result"
    }
   ],
   "source": [
    "#nested if else\n",
    "#syntax\n",
    "'''\n",
    "if condition_1:\n",
    "    __blockofinstuctions_\n",
    "    __blockofinstuctions_\n",
    "    if condition:\n",
    "        __blockofinstuctions_\n",
    "        __blockofinstuctions_\n",
    "    else:\n",
    "        __blockofinstuctions_\n",
    "        __blockofinstuctions_\n",
    "elif:\n",
    "     __blockofinstuctions_\n",
    "    __blockofinstuctions_\n",
    "    if condition:\n",
    "        __blockofinstuctions_\n",
    "        __blockofinstuctions_\n",
    "    else\n",
    "        __blockofinstuctions_\n",
    "        __blockofinstuctions_\n",
    "else:\n",
    "     __blockofinstuctions_\n",
    "    __blockofinstuctions_\n",
    "    if condition:\n",
    "        __blockofinstuctions_\n",
    "        __blockofinstuctions_\n",
    "    else:\n",
    "        __blockofinstuctions_\n",
    "        __blockofinstuctions_\n",
    "    \n",
    "\n",
    "'''"
   ]
  },
  {
   "cell_type": "code",
   "execution_count": 6,
   "id": "18668e7d",
   "metadata": {},
   "outputs": [
    {
     "name": "stdout",
     "output_type": "stream",
     "text": [
      "Enter a number : 23\n",
      "Enter a number : 12\n",
      "Enter a number : 5\n",
      "5 12 23\n"
     ]
    }
   ],
   "source": [
    "#Example\n",
    "\n",
    "v1 = int(input(\"Enter a number : \"))\n",
    "v2 = int(input(\"Enter a number : \"))\n",
    "v3 = int(input(\"Enter a number : \"))\n",
    "\n",
    "if v1<v2 and v1<v3:\n",
    "    if v2<v3:\n",
    "        print(v1 , v2 , v3)\n",
    "    else:\n",
    "        print(v1, v3, v2)\n",
    "\n",
    "elif v2<v1 and v2<v3:\n",
    "    if v1<v3:\n",
    "        print(v2, v1, v3)\n",
    "    else:\n",
    "        print(v2, v3, v1)\n",
    "\n",
    "else:\n",
    "    if v1<v2:\n",
    "        print(v3, v1, v2)\n",
    "    else:\n",
    "        print(v3, v2, v1)"
   ]
  }
 ],
 "metadata": {
  "kernelspec": {
   "display_name": "Python 3 (ipykernel)",
   "language": "python",
   "name": "python3"
  },
  "language_info": {
   "codemirror_mode": {
    "name": "ipython",
    "version": 3
   },
   "file_extension": ".py",
   "mimetype": "text/x-python",
   "name": "python",
   "nbconvert_exporter": "python",
   "pygments_lexer": "ipython3",
   "version": "3.9.8"
  }
 },
 "nbformat": 4,
 "nbformat_minor": 5
}
