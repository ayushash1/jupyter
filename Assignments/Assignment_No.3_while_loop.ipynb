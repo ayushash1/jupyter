{
 "cells": [
  {
   "cell_type": "code",
   "execution_count": 1,
   "id": "fc3c7029",
   "metadata": {},
   "outputs": [],
   "source": [
    "#1. Write a python script to print first 10 natural numbers."
   ]
  },
  {
   "cell_type": "code",
   "execution_count": 2,
   "id": "9746f148",
   "metadata": {},
   "outputs": [
    {
     "name": "stdout",
     "output_type": "stream",
     "text": [
      "1\n",
      "2\n",
      "3\n",
      "4\n",
      "5\n",
      "6\n",
      "7\n",
      "8\n",
      "9\n",
      "10\n"
     ]
    }
   ],
   "source": [
    "i=1\n",
    "while i<=10:\n",
    "    print(i)\n",
    "    i=i+1"
   ]
  },
  {
   "cell_type": "code",
   "execution_count": 3,
   "id": "7ffdd215",
   "metadata": {},
   "outputs": [],
   "source": [
    "#2. Write a python script to print first 10 natural number in reverse order."
   ]
  },
  {
   "cell_type": "code",
   "execution_count": 4,
   "id": "4d3263c2",
   "metadata": {},
   "outputs": [
    {
     "name": "stdout",
     "output_type": "stream",
     "text": [
      "10\n",
      "9\n",
      "8\n",
      "7\n",
      "6\n",
      "5\n",
      "4\n",
      "3\n",
      "2\n",
      "1\n"
     ]
    }
   ],
   "source": [
    "i=10\n",
    "while i>=1:\n",
    "    print(i)\n",
    "    i=i-1"
   ]
  },
  {
   "cell_type": "code",
   "execution_count": 5,
   "id": "e5b06652",
   "metadata": {},
   "outputs": [
    {
     "name": "stdout",
     "output_type": "stream",
     "text": [
      "2\n",
      "4\n",
      "6\n",
      "8\n",
      "10\n",
      "12\n",
      "14\n",
      "16\n",
      "18\n",
      "20\n"
     ]
    }
   ],
   "source": [
    "#3. Write a python script to print first 10 even natural number.\n",
    "i=1\n",
    "while i<=10:\n",
    "    print(i*2)\n",
    "    i=i+1"
   ]
  },
  {
   "cell_type": "code",
   "execution_count": 6,
   "id": "c12159ac",
   "metadata": {},
   "outputs": [],
   "source": [
    "#3. Write a python script to print first 10 odd natural number."
   ]
  },
  {
   "cell_type": "code",
   "execution_count": 7,
   "id": "4ce52766",
   "metadata": {},
   "outputs": [
    {
     "name": "stdout",
     "output_type": "stream",
     "text": [
      "1\n",
      "3\n",
      "5\n",
      "7\n",
      "9\n",
      "11\n",
      "13\n",
      "15\n",
      "17\n",
      "19\n"
     ]
    }
   ],
   "source": [
    "i=1\n",
    "while i<=10:\n",
    "    print(i*2-1)\n",
    "    i=i+1"
   ]
  },
  {
   "cell_type": "code",
   "execution_count": 8,
   "id": "d32ab771",
   "metadata": {},
   "outputs": [],
   "source": [
    "#5. Write a python script to print first n natural number. Value of n is taken from user."
   ]
  },
  {
   "cell_type": "code",
   "execution_count": 9,
   "id": "9d4c2884",
   "metadata": {},
   "outputs": [
    {
     "name": "stdout",
     "output_type": "stream",
     "text": [
      "Enter the number : 10\n",
      "1\n",
      "2\n",
      "3\n",
      "4\n",
      "5\n",
      "6\n",
      "7\n",
      "8\n",
      "9\n",
      "10\n"
     ]
    }
   ],
   "source": [
    "n = int(input(\"Enter the number : \"))\n",
    "i = 1\n",
    "while i<=n:\n",
    "    print(i)\n",
    "    i+=1"
   ]
  },
  {
   "cell_type": "code",
   "execution_count": 10,
   "id": "43d87388",
   "metadata": {},
   "outputs": [],
   "source": [
    "#6. Write a python script to print first n natural number in reverse order. Value of n is taken from user"
   ]
  },
  {
   "cell_type": "code",
   "execution_count": 11,
   "id": "17067f55",
   "metadata": {},
   "outputs": [
    {
     "name": "stdout",
     "output_type": "stream",
     "text": [
      "Enter the number : 19\n",
      "19\n",
      "18\n",
      "17\n",
      "16\n",
      "15\n",
      "14\n",
      "13\n",
      "12\n",
      "11\n",
      "10\n",
      "9\n",
      "8\n",
      "7\n",
      "6\n",
      "5\n",
      "4\n",
      "3\n",
      "2\n",
      "1\n"
     ]
    }
   ],
   "source": [
    "n =  int(input(\"Enter the number : \"))\n",
    "i = n\n",
    "while i>=1:\n",
    "    print(i)\n",
    "    i-=1"
   ]
  },
  {
   "cell_type": "code",
   "execution_count": 12,
   "id": "a17b9451",
   "metadata": {},
   "outputs": [],
   "source": [
    "#7. Write a python script to calculate sum of first n natural number. Value of n is taken from user."
   ]
  },
  {
   "cell_type": "code",
   "execution_count": 26,
   "id": "cc8d4630",
   "metadata": {},
   "outputs": [
    {
     "name": "stdout",
     "output_type": "stream",
     "text": [
      "Enter the number : 5\n",
      "15\n"
     ]
    }
   ],
   "source": [
    "num = int(input(\"Enter the number : \"))\n",
    "sum1=0\n",
    "i=0\n",
    "while i<=num:\n",
    "    sum1+=i\n",
    "    i+=1\n",
    "print(sum1)\n"
   ]
  },
  {
   "cell_type": "code",
   "execution_count": null,
   "id": "4e71ce3d",
   "metadata": {},
   "outputs": [],
   "source": [
    "#8. Write a python script to calculate sum of first n odd natural number. Value of n is taken from user."
   ]
  },
  {
   "cell_type": "code",
   "execution_count": 31,
   "id": "f29ed0ae",
   "metadata": {},
   "outputs": [
    {
     "name": "stdout",
     "output_type": "stream",
     "text": [
      "Enter the number : 10\n",
      "25\n"
     ]
    }
   ],
   "source": [
    "num = int(input(\"Enter the number : \"))\n",
    "sum1=0\n",
    "i=0\n",
    "while i<=num:\n",
    "    if i%2!=0:\n",
    "        sum1+=i\n",
    "    i+=1\n",
    "print(sum1)"
   ]
  },
  {
   "cell_type": "code",
   "execution_count": 32,
   "id": "c49b6870",
   "metadata": {},
   "outputs": [],
   "source": [
    "#9. Write a python script to calculate product of first n odd natural number . value of n is taken from user."
   ]
  },
  {
   "cell_type": "code",
   "execution_count": 36,
   "id": "7cfdd28d",
   "metadata": {},
   "outputs": [
    {
     "name": "stdout",
     "output_type": "stream",
     "text": [
      "Enter the number : 10\n",
      "30\n"
     ]
    }
   ],
   "source": [
    "num = int(input(\"Enter the number : \"))\n",
    "sum1=0\n",
    "i=0\n",
    "while i<=num:\n",
    "    if i%2==0:\n",
    "        sum1+=i\n",
    "    i+=1\n",
    "print(sum1)"
   ]
  },
  {
   "cell_type": "code",
   "execution_count": 37,
   "id": "4e1718c6",
   "metadata": {},
   "outputs": [],
   "source": [
    "#10. Write a program to ask the number from user and calculate factorial. Hint 5! =5*4*3*2*1"
   ]
  },
  {
   "cell_type": "code",
   "execution_count": 41,
   "id": "3adf9a00",
   "metadata": {},
   "outputs": [
    {
     "name": "stdout",
     "output_type": "stream",
     "text": [
      "Enter the number : 5\n",
      "120\n"
     ]
    }
   ],
   "source": [
    "num = int(input(\"Enter the number : \"))\n",
    "sum1=1\n",
    "i=1\n",
    "while i<=num:\n",
    "    sum1=i*sum1\n",
    "    i+=1\n",
    "print(sum1)"
   ]
  },
  {
   "cell_type": "code",
   "execution_count": null,
   "id": "e917afd2",
   "metadata": {},
   "outputs": [],
   "source": []
  }
 ],
 "metadata": {
  "kernelspec": {
   "display_name": "Python 3 (ipykernel)",
   "language": "python",
   "name": "python3"
  },
  "language_info": {
   "codemirror_mode": {
    "name": "ipython",
    "version": 3
   },
   "file_extension": ".py",
   "mimetype": "text/x-python",
   "name": "python",
   "nbconvert_exporter": "python",
   "pygments_lexer": "ipython3",
   "version": "3.9.8"
  }
 },
 "nbformat": 4,
 "nbformat_minor": 5
}
