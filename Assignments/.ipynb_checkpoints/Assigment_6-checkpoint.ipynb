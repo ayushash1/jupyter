{
 "cells": [
  {
   "cell_type": "code",
   "execution_count": 1,
   "id": "f80de0ed",
   "metadata": {},
   "outputs": [],
   "source": [
    "# 1.  Write a python script calculate length of the string. String is given by user."
   ]
  },
  {
   "cell_type": "code",
   "execution_count": 4,
   "id": "e2f42dde",
   "metadata": {},
   "outputs": [
    {
     "name": "stdout",
     "output_type": "stream",
     "text": [
      "Enter the stringayush\n",
      "Lenght of string is :  5\n"
     ]
    }
   ],
   "source": [
    "str_1 = str(input(\"Enter the string\"))\n",
    "counter = 0\n",
    "\n",
    "for i in str_1:\n",
    "    counter = counter +1\n",
    "print(\"Lenght of string is : \",counter)\n",
    "\n"
   ]
  },
  {
   "cell_type": "code",
   "execution_count": 5,
   "id": "b0fcfe7a",
   "metadata": {},
   "outputs": [],
   "source": [
    "# 2. Write a python script to count vowel in a given string."
   ]
  },
  {
   "cell_type": "code",
   "execution_count": 12,
   "id": "ca7969d2",
   "metadata": {},
   "outputs": [
    {
     "name": "stdout",
     "output_type": "stream",
     "text": [
      "Enter the string : ayush\n",
      "number of vowels in string is : 2\n"
     ]
    }
   ],
   "source": [
    "str_1 = str(input(\"Enter the string : \"))\n",
    "counter = 0\n",
    "\n",
    "for i in str_1:\n",
    "    if (i=='a' or i=='e' or i=='i' or  i=='o' or i=='u' or i=='A' or i=='E' or i=='O' or i==\"I\" or i==\"U\"):\n",
    "        \n",
    "        counter =  counter + 1\n",
    "\n",
    "print(\"number of vowels in string is :\", counter)"
   ]
  },
  {
   "cell_type": "code",
   "execution_count": 14,
   "id": "d9a31ac9",
   "metadata": {},
   "outputs": [],
   "source": [
    "# 3. Write a python script to reverse a string"
   ]
  },
  {
   "cell_type": "code",
   "execution_count": 21,
   "id": "66f952cf",
   "metadata": {},
   "outputs": [
    {
     "name": "stdout",
     "output_type": "stream",
     "text": [
      "Enter the string : ayush\n",
      "hsuya\n"
     ]
    }
   ],
   "source": [
    "str_1 = str(input(\"Enter the string : \"))\n",
    "str_2 = \"\"\n",
    "for i in str_1:\n",
    "    str_2 = i+ str_2\n",
    "    \n",
    "print(str_2)"
   ]
  },
  {
   "cell_type": "code",
   "execution_count": 22,
   "id": "15531706",
   "metadata": {},
   "outputs": [],
   "source": [
    "# 4. Write a python script to count occurrence of a given character in a given string."
   ]
  },
  {
   "cell_type": "code",
   "execution_count": 30,
   "id": "70e8d830",
   "metadata": {},
   "outputs": [
    {
     "name": "stdout",
     "output_type": "stream",
     "text": [
      "Enter your string ayush\n",
      "Enter your charater u\n",
      "number of ' u ' in string is 1\n"
     ]
    }
   ],
   "source": [
    "str_1 = str(input(\"Enter your string \"))\n",
    "c = str(input(\"Enter your charater \"))\n",
    "\n",
    "count = 0\n",
    "for i in str_1:\n",
    "    if i==c:\n",
    "        count = count +1\n",
    "\n",
    "print(\"number of '\", c ,\"' in string is\",count)\n",
    "\n"
   ]
  },
  {
   "cell_type": "code",
   "execution_count": 31,
   "id": "b2d5abd7",
   "metadata": {},
   "outputs": [],
   "source": [
    "# 5. Write a python script to count words in a given string."
   ]
  },
  {
   "cell_type": "code",
   "execution_count": 41,
   "id": "7d41efda",
   "metadata": {},
   "outputs": [
    {
     "name": "stdout",
     "output_type": "stream",
     "text": [
      "Enter your String : ayush\n",
      "Total Number of Words in this String =  1\n"
     ]
    }
   ],
   "source": [
    "str1 = input(\"Enter your String : \")\n",
    "total = 1\n",
    "\n",
    "for i in range(len(str1)):\n",
    "    if(str1[i] == ' ' or str1 == '\\n' or str1 == '\\t'):\n",
    "        total = total + 1\n",
    "\n",
    "print(\"Total Number of Words in this String = \", total)\n"
   ]
  },
  {
   "cell_type": "code",
   "execution_count": 42,
   "id": "6f688aea",
   "metadata": {},
   "outputs": [],
   "source": [
    "# 6. Write a python script to arrange word in a given string in alphabetical order."
   ]
  },
  {
   "cell_type": "code",
   "execution_count": 46,
   "id": "2c8d3b79",
   "metadata": {},
   "outputs": [
    {
     "name": "stdout",
     "output_type": "stream",
     "text": [
      "Enter the sentence : ayush is good boy\n",
      "['ayush', 'boy', 'good', 'is']\n"
     ]
    }
   ],
   "source": [
    "str1 = input(\"Enter the sentence : \")\n",
    "words = str1.split()\n",
    "words.sort()\n",
    "print(words)"
   ]
  },
  {
   "cell_type": "code",
   "execution_count": 47,
   "id": "e015b303",
   "metadata": {},
   "outputs": [],
   "source": [
    "# 7. Write a python script to sort a list given by user"
   ]
  },
  {
   "cell_type": "code",
   "execution_count": 60,
   "id": "d4b7ff20",
   "metadata": {},
   "outputs": [
    {
     "name": "stdout",
     "output_type": "stream",
     "text": [
      "Enter number of elements in list: 3\n",
      "23\n",
      "67\n",
      "54\n",
      "sorted list is :\n",
      "\n",
      "[23, 54, 67]\n"
     ]
    }
   ],
   "source": [
    "lst = []\n",
    "  \n",
    "n = int(input(\"Enter number of elements in list: \"))\n",
    "  \n",
    "for i in range(0, n):\n",
    "    ele = int(input())\n",
    "  \n",
    "    lst.append(ele)\n",
    "\n",
    "\n",
    "lst.sort()\n",
    "print(\"sorted list is :\\n\")\n",
    "print(lst)"
   ]
  },
  {
   "cell_type": "code",
   "execution_count": 61,
   "id": "81e52ae2",
   "metadata": {},
   "outputs": [],
   "source": [
    "# 8. Write a python script to find greatest number in the list of integers of the list given by user.\n"
   ]
  },
  {
   "cell_type": "code",
   "execution_count": 67,
   "id": "87f023b8",
   "metadata": {},
   "outputs": [
    {
     "name": "stdout",
     "output_type": "stream",
     "text": [
      "Enter number of elements in list: 5\n",
      "34\n",
      "12\n",
      "354\n",
      "975\n",
      "456\n",
      "Largest number in list is :  975\n"
     ]
    }
   ],
   "source": [
    "##### lst = []\n",
    "  \n",
    "n = int(input(\"Enter number of elements in list: \"))\n",
    "  \n",
    "for i in range(0, n):\n",
    "    ele = int(input())\n",
    "  \n",
    "    lst.append(ele)\n",
    "print(\"Largest number in list is : \",max(lst))\n",
    "        "
   ]
  },
  {
   "cell_type": "code",
   "execution_count": 68,
   "id": "c1f4589c",
   "metadata": {},
   "outputs": [],
   "source": [
    "# 9. Write a python script to calculate sum of all the integers of the list given by user"
   ]
  },
  {
   "cell_type": "code",
   "execution_count": 74,
   "id": "cffcd336",
   "metadata": {},
   "outputs": [
    {
     "name": "stdout",
     "output_type": "stream",
     "text": [
      "Enter number of elements in list: 3\n",
      "1\n",
      "3\n",
      "2\n",
      "your list is : [1, 3, 2]\n",
      "6\n"
     ]
    }
   ],
   "source": [
    "lst = []\n",
    "  \n",
    "n = int(input(\"Enter number of elements in list: \"))\n",
    "  \n",
    "for i in range(0, n):\n",
    "    ele = int(input())\n",
    "  \n",
    "    lst.append(ele)\n",
    "print(\"your list is :\",lst)\n",
    "\n",
    "total = 0\n",
    "for i in lst:\n",
    "    total = total + i\n",
    "print(total)"
   ]
  },
  {
   "cell_type": "code",
   "execution_count": 1,
   "id": "f722cbe6",
   "metadata": {},
   "outputs": [],
   "source": [
    "# 10. Write a python script to create a list of square of first n natural number use for loop to fill list with elements. Values of n taken from user."
   ]
  },
  {
   "cell_type": "code",
   "execution_count": 8,
   "id": "510a912d",
   "metadata": {},
   "outputs": [
    {
     "name": "stdout",
     "output_type": "stream",
     "text": [
      "Enter number : 10\n",
      "[1, 4, 9, 16, 25, 36, 49, 64, 81, 100]\n"
     ]
    }
   ],
   "source": [
    "lst = []\n",
    "\n",
    "n = int(input(\"Enter number : \"))\n",
    "\n",
    "for i in range (0,n):\n",
    "    i += 1\n",
    "    sqr = i**2\n",
    "    lst.append(sqr)\n",
    "print(lst)"
   ]
  },
  {
   "cell_type": "code",
   "execution_count": 9,
   "id": "1be3fbdd",
   "metadata": {},
   "outputs": [],
   "source": [
    "# 11. Write a python script to print indices of all occurrence of a given element in a given list."
   ]
  },
  {
   "cell_type": "code",
   "execution_count": 10,
   "id": "24ce1916",
   "metadata": {},
   "outputs": [],
   "source": [
    "#______________________________________________________________________________________________________________\n",
    "# _________________\n",
    "# ______________\n",
    "# ____________________\n",
    "# _____________________"
   ]
  },
  {
   "cell_type": "code",
   "execution_count": 11,
   "id": "0118b248",
   "metadata": {},
   "outputs": [],
   "source": [
    "# 12. Write a python script to calculate sum of all even number and sum of all odd number of the list. List data given by user."
   ]
  },
  {
   "cell_type": "code",
   "execution_count": 19,
   "id": "c365c44a",
   "metadata": {},
   "outputs": [
    {
     "name": "stdout",
     "output_type": "stream",
     "text": [
      "Enter the number of elements in list : 4\n",
      "2\n",
      "3\n",
      "2\n",
      "3\n",
      "List is : \n",
      "[2, 3, 2, 3]\n",
      "Sum of all even numbers in list is : \n",
      "0\n",
      "Sum of all odd numbers in list is : \n",
      "12\n"
     ]
    }
   ],
   "source": [
    "lst = []\n",
    "lst1 = []\n",
    "lst2 = []\n",
    "n = int(input(\"Enter the number of elements in list : \"))\n",
    "\n",
    "for i in range (0,n):\n",
    "    \n",
    "    n2 = int(input())\n",
    "    lst.append(n2)\n",
    "    \n",
    "for j in range (0,n):\n",
    "    if n2%2==0 or n2==0:\n",
    "        lst1.append(n2)\n",
    "    else:\n",
    "        lst2.append(n2)\n",
    "\n",
    "print(\"List is : \")\n",
    "print(lst)\n",
    "print(\"Sum of all even numbers in list is : \")\n",
    "print(sum(lst1))\n",
    "print(\"Sum of all odd numbers in list is : \")\n",
    "print(sum(lst2))"
   ]
  },
  {
   "cell_type": "code",
   "execution_count": 26,
   "id": "820ca360",
   "metadata": {},
   "outputs": [],
   "source": [
    "# 13. Write a python script to sort a tuple"
   ]
  },
  {
   "cell_type": "code",
   "execution_count": 27,
   "id": "6700be1d",
   "metadata": {},
   "outputs": [
    {
     "name": "stdout",
     "output_type": "stream",
     "text": [
      "Enter value seprated by comma : 1\n"
     ]
    }
   ],
   "source": [
    "n = input(\"Enter value seprated by comma : \")\n",
    "\n"
   ]
  },
  {
   "cell_type": "code",
   "execution_count": 32,
   "id": "97b70b84",
   "metadata": {},
   "outputs": [
    {
     "name": "stdout",
     "output_type": "stream",
     "text": [
      "Help on class list in module builtins:\n",
      "\n",
      "class list(object)\n",
      " |  list(iterable=(), /)\n",
      " |  \n",
      " |  Built-in mutable sequence.\n",
      " |  \n",
      " |  If no argument is given, the constructor creates a new empty list.\n",
      " |  The argument must be an iterable if specified.\n",
      " |  \n",
      " |  Methods defined here:\n",
      " |  \n",
      " |  __add__(self, value, /)\n",
      " |      Return self+value.\n",
      " |  \n",
      " |  __contains__(self, key, /)\n",
      " |      Return key in self.\n",
      " |  \n",
      " |  __delitem__(self, key, /)\n",
      " |      Delete self[key].\n",
      " |  \n",
      " |  __eq__(self, value, /)\n",
      " |      Return self==value.\n",
      " |  \n",
      " |  __ge__(self, value, /)\n",
      " |      Return self>=value.\n",
      " |  \n",
      " |  __getattribute__(self, name, /)\n",
      " |      Return getattr(self, name).\n",
      " |  \n",
      " |  __getitem__(...)\n",
      " |      x.__getitem__(y) <==> x[y]\n",
      " |  \n",
      " |  __gt__(self, value, /)\n",
      " |      Return self>value.\n",
      " |  \n",
      " |  __iadd__(self, value, /)\n",
      " |      Implement self+=value.\n",
      " |  \n",
      " |  __imul__(self, value, /)\n",
      " |      Implement self*=value.\n",
      " |  \n",
      " |  __init__(self, /, *args, **kwargs)\n",
      " |      Initialize self.  See help(type(self)) for accurate signature.\n",
      " |  \n",
      " |  __iter__(self, /)\n",
      " |      Implement iter(self).\n",
      " |  \n",
      " |  __le__(self, value, /)\n",
      " |      Return self<=value.\n",
      " |  \n",
      " |  __len__(self, /)\n",
      " |      Return len(self).\n",
      " |  \n",
      " |  __lt__(self, value, /)\n",
      " |      Return self<value.\n",
      " |  \n",
      " |  __mul__(self, value, /)\n",
      " |      Return self*value.\n",
      " |  \n",
      " |  __ne__(self, value, /)\n",
      " |      Return self!=value.\n",
      " |  \n",
      " |  __repr__(self, /)\n",
      " |      Return repr(self).\n",
      " |  \n",
      " |  __reversed__(self, /)\n",
      " |      Return a reverse iterator over the list.\n",
      " |  \n",
      " |  __rmul__(self, value, /)\n",
      " |      Return value*self.\n",
      " |  \n",
      " |  __setitem__(self, key, value, /)\n",
      " |      Set self[key] to value.\n",
      " |  \n",
      " |  __sizeof__(self, /)\n",
      " |      Return the size of the list in memory, in bytes.\n",
      " |  \n",
      " |  append(self, object, /)\n",
      " |      Append object to the end of the list.\n",
      " |  \n",
      " |  clear(self, /)\n",
      " |      Remove all items from list.\n",
      " |  \n",
      " |  copy(self, /)\n",
      " |      Return a shallow copy of the list.\n",
      " |  \n",
      " |  count(self, value, /)\n",
      " |      Return number of occurrences of value.\n",
      " |  \n",
      " |  extend(self, iterable, /)\n",
      " |      Extend list by appending elements from the iterable.\n",
      " |  \n",
      " |  index(self, value, start=0, stop=9223372036854775807, /)\n",
      " |      Return first index of value.\n",
      " |      \n",
      " |      Raises ValueError if the value is not present.\n",
      " |  \n",
      " |  insert(self, index, object, /)\n",
      " |      Insert object before index.\n",
      " |  \n",
      " |  pop(self, index=-1, /)\n",
      " |      Remove and return item at index (default last).\n",
      " |      \n",
      " |      Raises IndexError if list is empty or index is out of range.\n",
      " |  \n",
      " |  remove(self, value, /)\n",
      " |      Remove first occurrence of value.\n",
      " |      \n",
      " |      Raises ValueError if the value is not present.\n",
      " |  \n",
      " |  reverse(self, /)\n",
      " |      Reverse *IN PLACE*.\n",
      " |  \n",
      " |  sort(self, /, *, key=None, reverse=False)\n",
      " |      Sort the list in ascending order and return None.\n",
      " |      \n",
      " |      The sort is in-place (i.e. the list itself is modified) and stable (i.e. the\n",
      " |      order of two equal elements is maintained).\n",
      " |      \n",
      " |      If a key function is given, apply it once to each list item and sort them,\n",
      " |      ascending or descending, according to their function values.\n",
      " |      \n",
      " |      The reverse flag can be set to sort in descending order.\n",
      " |  \n",
      " |  ----------------------------------------------------------------------\n",
      " |  Class methods defined here:\n",
      " |  \n",
      " |  __class_getitem__(...) from builtins.type\n",
      " |      See PEP 585\n",
      " |  \n",
      " |  ----------------------------------------------------------------------\n",
      " |  Static methods defined here:\n",
      " |  \n",
      " |  __new__(*args, **kwargs) from builtins.type\n",
      " |      Create and return a new object.  See help(type) for accurate signature.\n",
      " |  \n",
      " |  ----------------------------------------------------------------------\n",
      " |  Data and other attributes defined here:\n",
      " |  \n",
      " |  __hash__ = None\n",
      "\n"
     ]
    }
   ],
   "source": [
    "help(list)\n"
   ]
  },
  {
   "cell_type": "code",
   "execution_count": null,
   "id": "51ea0254",
   "metadata": {},
   "outputs": [],
   "source": []
  }
 ],
 "metadata": {
  "kernelspec": {
   "display_name": "Python 3 (ipykernel)",
   "language": "python",
   "name": "python3"
  },
  "language_info": {
   "codemirror_mode": {
    "name": "ipython",
    "version": 3
   },
   "file_extension": ".py",
   "mimetype": "text/x-python",
   "name": "python",
   "nbconvert_exporter": "python",
   "pygments_lexer": "ipython3",
   "version": "3.9.8"
  }
 },
 "nbformat": 4,
 "nbformat_minor": 5
}
