{
 "cells": [
  {
   "cell_type": "code",
   "execution_count": 1,
   "id": "f80de0ed",
   "metadata": {},
   "outputs": [],
   "source": [
    "# 1.  Write a python script calculate length of the string. String is given by user."
   ]
  },
  {
   "cell_type": "code",
   "execution_count": 4,
   "id": "e2f42dde",
   "metadata": {},
   "outputs": [
    {
     "name": "stdout",
     "output_type": "stream",
     "text": [
      "Enter the stringayush\n",
      "Lenght of string is :  5\n"
     ]
    }
   ],
   "source": [
    "str_1 = str(input(\"Enter the string\"))\n",
    "counter = 0\n",
    "\n",
    "for i in str_1:\n",
    "    counter = counter +1\n",
    "print(\"Lenght of string is : \",counter)\n",
    "\n"
   ]
  },
  {
   "cell_type": "code",
   "execution_count": 5,
   "id": "b0fcfe7a",
   "metadata": {},
   "outputs": [],
   "source": [
    "# 2. Write a python script to count vowel in a given string."
   ]
  },
  {
   "cell_type": "code",
   "execution_count": 12,
   "id": "ca7969d2",
   "metadata": {},
   "outputs": [
    {
     "name": "stdout",
     "output_type": "stream",
     "text": [
      "Enter the string : ayush\n",
      "number of vowels in string is : 2\n"
     ]
    }
   ],
   "source": [
    "str_1 = str(input(\"Enter the string : \"))\n",
    "counter = 0\n",
    "\n",
    "for i in str_1:\n",
    "    if (i=='a' or i=='e' or i=='i' or  i=='o' or i=='u' or i=='A' or i=='E' or i=='O' or i==\"I\" or i==\"U\"):\n",
    "        \n",
    "        counter =  counter + 1\n",
    "\n",
    "print(\"number of vowels in string is :\", counter)"
   ]
  },
  {
   "cell_type": "code",
   "execution_count": 14,
   "id": "d9a31ac9",
   "metadata": {},
   "outputs": [],
   "source": [
    "# 3. Write a python script to reverse a string"
   ]
  },
  {
   "cell_type": "code",
   "execution_count": 21,
   "id": "66f952cf",
   "metadata": {},
   "outputs": [
    {
     "name": "stdout",
     "output_type": "stream",
     "text": [
      "Enter the string : ayush\n",
      "hsuya\n"
     ]
    }
   ],
   "source": [
    "str_1 = str(input(\"Enter the string : \"))\n",
    "str_2 = \"\"\n",
    "for i in str_1:\n",
    "    str_2 = i+ str_2\n",
    "    \n",
    "print(str_2)"
   ]
  },
  {
   "cell_type": "code",
   "execution_count": 22,
   "id": "15531706",
   "metadata": {},
   "outputs": [],
   "source": [
    "# 4. Write a python script to count occurrence of a given character in a given string."
   ]
  },
  {
   "cell_type": "code",
   "execution_count": 30,
   "id": "70e8d830",
   "metadata": {},
   "outputs": [
    {
     "name": "stdout",
     "output_type": "stream",
     "text": [
      "Enter your string ayush\n",
      "Enter your charater u\n",
      "number of ' u ' in string is 1\n"
     ]
    }
   ],
   "source": [
    "str_1 = str(input(\"Enter your string \"))\n",
    "c = str(input(\"Enter your charater \"))\n",
    "\n",
    "count = 0\n",
    "for i in str_1:\n",
    "    if i==c:\n",
    "        count = count +1\n",
    "\n",
    "print(\"number of '\", c ,\"' in string is\",count)\n",
    "\n"
   ]
  },
  {
   "cell_type": "code",
   "execution_count": 31,
   "id": "b2d5abd7",
   "metadata": {},
   "outputs": [],
   "source": [
    "# 5. Write a python script to count words in a given string."
   ]
  },
  {
   "cell_type": "code",
   "execution_count": 41,
   "id": "7d41efda",
   "metadata": {},
   "outputs": [
    {
     "name": "stdout",
     "output_type": "stream",
     "text": [
      "Enter your String : ayush\n",
      "Total Number of Words in this String =  1\n"
     ]
    }
   ],
   "source": [
    "str1 = input(\"Enter your String : \")\n",
    "total = 1\n",
    "\n",
    "for i in range(len(str1)):\n",
    "    if(str1[i] == ' ' or str1 == '\\n' or str1 == '\\t'):\n",
    "        total = total + 1\n",
    "\n",
    "print(\"Total Number of Words in this String = \", total)\n"
   ]
  },
  {
   "cell_type": "code",
   "execution_count": 42,
   "id": "6f688aea",
   "metadata": {},
   "outputs": [],
   "source": [
    "# 6. Write a python script to arrange word in a given string in alphabetical order."
   ]
  },
  {
   "cell_type": "code",
   "execution_count": 46,
   "id": "2c8d3b79",
   "metadata": {},
   "outputs": [
    {
     "name": "stdout",
     "output_type": "stream",
     "text": [
      "Enter the sentence : ayush is good boy\n",
      "['ayush', 'boy', 'good', 'is']\n"
     ]
    }
   ],
   "source": [
    "str1 = input(\"Enter the sentence : \")\n",
    "words = str1.split()\n",
    "words.sort()\n",
    "print(words)"
   ]
  },
  {
   "cell_type": "code",
   "execution_count": 47,
   "id": "e015b303",
   "metadata": {},
   "outputs": [],
   "source": [
    "# 7. Write a python script to sort a list given by user"
   ]
  },
  {
   "cell_type": "code",
   "execution_count": 60,
   "id": "d4b7ff20",
   "metadata": {},
   "outputs": [
    {
     "name": "stdout",
     "output_type": "stream",
     "text": [
      "Enter number of elements in list: 3\n",
      "23\n",
      "67\n",
      "54\n",
      "sorted list is :\n",
      "\n",
      "[23, 54, 67]\n"
     ]
    }
   ],
   "source": [
    "lst = []\n",
    "  \n",
    "n = int(input(\"Enter number of elements in list: \"))\n",
    "  \n",
    "for i in range(0, n):\n",
    "    ele = int(input())\n",
    "  \n",
    "    lst.append(ele)\n",
    "\n",
    "\n",
    "lst.sort()\n",
    "print(\"sorted list is :\\n\")\n",
    "print(lst)"
   ]
  },
  {
   "cell_type": "code",
   "execution_count": 61,
   "id": "81e52ae2",
   "metadata": {},
   "outputs": [],
   "source": [
    "# 8. Write a python script to find greatest number in the list of integers of the list given by user.\n"
   ]
  },
  {
   "cell_type": "code",
   "execution_count": 67,
   "id": "87f023b8",
   "metadata": {},
   "outputs": [
    {
     "name": "stdout",
     "output_type": "stream",
     "text": [
      "Enter number of elements in list: 5\n",
      "34\n",
      "12\n",
      "354\n",
      "975\n",
      "456\n",
      "Largest number in list is :  975\n"
     ]
    }
   ],
   "source": [
    "##### lst = []\n",
    "  \n",
    "n = int(input(\"Enter number of elements in list: \"))\n",
    "  \n",
    "for i in range(0, n):\n",
    "    ele = int(input())\n",
    "  \n",
    "    lst.append(ele)\n",
    "print(\"Largest number in list is : \",max(lst))\n",
    "        "
   ]
  },
  {
   "cell_type": "code",
   "execution_count": 68,
   "id": "c1f4589c",
   "metadata": {},
   "outputs": [],
   "source": [
    "# 9. Write a python script to calculate sum of all the integers of the list given by user"
   ]
  },
  {
   "cell_type": "code",
   "execution_count": 74,
   "id": "cffcd336",
   "metadata": {},
   "outputs": [
    {
     "name": "stdout",
     "output_type": "stream",
     "text": [
      "Enter number of elements in list: 3\n",
      "1\n",
      "3\n",
      "2\n",
      "your list is : [1, 3, 2]\n",
      "6\n"
     ]
    }
   ],
   "source": [
    "lst = []\n",
    "  \n",
    "n = int(input(\"Enter number of elements in list: \"))\n",
    "  \n",
    "for i in range(0, n):\n",
    "    ele = int(input())\n",
    "  \n",
    "    lst.append(ele)\n",
    "print(\"your list is :\",lst)\n",
    "\n",
    "total = 0\n",
    "for i in lst:\n",
    "    total = total + i\n",
    "print(total)"
   ]
  },
  {
   "cell_type": "code",
   "execution_count": 1,
   "id": "f722cbe6",
   "metadata": {},
   "outputs": [],
   "source": [
    "# 10. Write a python script to create a list of square of first n natural number use for loop to fill list with elements. Values of n taken from user."
   ]
  },
  {
   "cell_type": "code",
   "execution_count": 8,
   "id": "510a912d",
   "metadata": {},
   "outputs": [
    {
     "name": "stdout",
     "output_type": "stream",
     "text": [
      "Enter number : 10\n",
      "[1, 4, 9, 16, 25, 36, 49, 64, 81, 100]\n"
     ]
    }
   ],
   "source": [
    "lst = []\n",
    "\n",
    "n = int(input(\"Enter number : \"))\n",
    "\n",
    "for i in range (0,n):\n",
    "    i += 1\n",
    "    sqr = i**2\n",
    "    lst.append(sqr)\n",
    "print(lst)"
   ]
  },
  {
   "cell_type": "code",
   "execution_count": 9,
   "id": "1be3fbdd",
   "metadata": {},
   "outputs": [],
   "source": [
    "# 11. Write a python script to print indices of all occurrence of a given element in a given list."
   ]
  },
  {
   "cell_type": "code",
   "execution_count": 10,
   "id": "24ce1916",
   "metadata": {},
   "outputs": [],
   "source": [
    "#______________________\n",
    "# _____________________\n",
    "# _____________________\n",
    "# _____________________\n",
    "# _____________________"
   ]
  },
  {
   "cell_type": "code",
   "execution_count": 11,
   "id": "0118b248",
   "metadata": {},
   "outputs": [],
   "source": [
    "# 12. Write a python script to calculate sum of all even number and sum of all odd number of the list. List data given by user."
   ]
  },
  {
   "cell_type": "code",
   "execution_count": 19,
   "id": "c365c44a",
   "metadata": {},
   "outputs": [
    {
     "name": "stdout",
     "output_type": "stream",
     "text": [
      "Enter the number of elements in list : 4\n",
      "2\n",
      "3\n",
      "2\n",
      "3\n",
      "List is : \n",
      "[2, 3, 2, 3]\n",
      "Sum of all even numbers in list is : \n",
      "0\n",
      "Sum of all odd numbers in list is : \n",
      "12\n"
     ]
    }
   ],
   "source": [
    "lst  = []\n",
    "lst1 = []\n",
    "lst2 = []\n",
    "n = int(input(\"Enter the number of elements in list : \"))\n",
    "\n",
    "for i in range (0,n):\n",
    "    \n",
    "    n2 = int(input())\n",
    "    lst.append(n2)\n",
    "    \n",
    "for j in range (0,n):\n",
    "    if n2%2==0 or n2==0:\n",
    "        lst1.append(n2)\n",
    "    else:\n",
    "        lst2.append(n2)\n",
    "\n",
    "print(\"List is : \")\n",
    "print(lst)\n",
    "print(\"Sum of all even numbers in list is : \")\n",
    "print(sum(lst1))\n",
    "print(\"Sum of all odd numbers in list is : \")\n",
    "print(sum(lst2))"
   ]
  },
  {
   "cell_type": "code",
   "execution_count": 26,
   "id": "820ca360",
   "metadata": {},
   "outputs": [],
   "source": [
    "# 13. Write a python script to sort a tuple"
   ]
  },
  {
   "cell_type": "code",
   "execution_count": 37,
   "id": "6700be1d",
   "metadata": {},
   "outputs": [
    {
     "name": "stdout",
     "output_type": "stream",
     "text": [
      "Enter numbers = 3,4,2\n",
      "(3, 4, 2) <class 'tuple'>\n"
     ]
    },
    {
     "data": {
      "text/plain": [
       "[2, 3, 4]"
      ]
     },
     "execution_count": 37,
     "metadata": {},
     "output_type": "execute_result"
    }
   ],
   "source": [
    "v1 = (eval(input(\"Enter numbers = \")))\n",
    "print(v1,type(v1))\n",
    "\n",
    "sorted(v1)"
   ]
  },
  {
   "cell_type": "code",
   "execution_count": 38,
   "id": "97b70b84",
   "metadata": {},
   "outputs": [],
   "source": [
    "# 14. Write a python script to merge two sorted tuple"
   ]
  },
  {
   "cell_type": "code",
   "execution_count": 43,
   "id": "51ea0254",
   "metadata": {},
   "outputs": [
    {
     "name": "stdout",
     "output_type": "stream",
     "text": [
      "Enter numbers seperated by comma without space = 3,4\n",
      "Enter numbers seperated by comma without space = 3,4\n",
      "[3, 3, 4, 4]\n"
     ]
    }
   ],
   "source": [
    "v1 = eval(input(\"Enter numbers seperated by comma without space = \"))\n",
    "v2 = eval(input(\"Enter numbers seperated by comma without space = \"))\n",
    "\n",
    "print(sorted(v1+v2))\n"
   ]
  },
  {
   "cell_type": "code",
   "execution_count": null,
   "id": "7df4ed40",
   "metadata": {},
   "outputs": [],
   "source": [
    "# 15. Write a python script to reverse a tuple."
   ]
  },
  {
   "cell_type": "code",
   "execution_count": 47,
   "id": "6dfeb484",
   "metadata": {},
   "outputs": [
    {
     "name": "stdout",
     "output_type": "stream",
     "text": [
      "Enter numbers seperated by comma without space = 4,7,9,0,8,6,43\n",
      "(43, 6, 8, 0, 9, 7, 4)\n"
     ]
    }
   ],
   "source": [
    "v1 = eval(input(\"Enter numbers seperated by comma without space = \"))\n",
    "print(v1[::-1])"
   ]
  },
  {
   "cell_type": "code",
   "execution_count": 48,
   "id": "99a1e806",
   "metadata": {},
   "outputs": [],
   "source": [
    "# 16. Write a python script to count element in the tuple"
   ]
  },
  {
   "cell_type": "code",
   "execution_count": 53,
   "id": "23e7195b",
   "metadata": {},
   "outputs": [
    {
     "name": "stdout",
     "output_type": "stream",
     "text": [
      "Enter numbers seperated by comma without space = 3,5,7,4\n",
      "Elements in tuple is =  4\n"
     ]
    }
   ],
   "source": [
    "t1 = eval(input(\"Enter numbers seperated by comma without space = \"))\n",
    "print(\"Elements in tuple is = \",len(t1))"
   ]
  },
  {
   "cell_type": "code",
   "execution_count": 54,
   "id": "3fd8ecc8",
   "metadata": {},
   "outputs": [],
   "source": [
    "# 17. Write a python script to calculate sum of the elements of the tuple. Tuple input is takenfrom keyboard (all values are of int type)."
   ]
  },
  {
   "cell_type": "code",
   "execution_count": 56,
   "id": "668431a8",
   "metadata": {},
   "outputs": [
    {
     "name": "stdout",
     "output_type": "stream",
     "text": [
      "Enter numbers seperated by comma without space = 3,4,5,3\n",
      "(3, 4, 5, 3) <class 'tuple'>\n",
      "Elements in tuple is =  15\n"
     ]
    }
   ],
   "source": [
    "t1 = eval(input(\"Enter numbers seperated by comma without space = \"))\n",
    "print(t1,type(t1))\n",
    "print(\"Elements in tuple is = \",sum(t1))"
   ]
  },
  {
   "cell_type": "code",
   "execution_count": 57,
   "id": "350e4c51",
   "metadata": {},
   "outputs": [],
   "source": [
    "# 18. Write a python script to find greatest number from a tuple of int value."
   ]
  },
  {
   "cell_type": "code",
   "execution_count": 3,
   "id": "44c5c71e",
   "metadata": {},
   "outputs": [
    {
     "name": "stdout",
     "output_type": "stream",
     "text": [
      "Enter numbers seperated by comma without space = 3,5,6,78,9,7,66,98\n",
      "greatest number from the tuple is =  98\n"
     ]
    }
   ],
   "source": [
    "t1 = eval(input(\"Enter numbers seperated by comma without space = \"))\n",
    "\n",
    "print(\"greatest number from the tuple is = \",max(t1))"
   ]
  },
  {
   "cell_type": "code",
   "execution_count": 1,
   "id": "cf0ef87b",
   "metadata": {},
   "outputs": [],
   "source": [
    "# 19. Write a python script to check whether a tuple is a subset of another tuple or not"
   ]
  },
  {
   "cell_type": "code",
   "execution_count": 4,
   "id": "6fb8d33b",
   "metadata": {},
   "outputs": [
    {
     "name": "stdout",
     "output_type": "stream",
     "text": [
      "Is 2nd tuple subset of 1st ? =  True\n"
     ]
    }
   ],
   "source": [
    "t1 = (1,2,4,5,6,8)\n",
    "t2 = (2,4,6)\n",
    "\n",
    "v1 = set(t2).issubset(t2)\n",
    "\n",
    "print(\"Is 2nd tuple subset of 1st ? = \",v1)"
   ]
  },
  {
   "cell_type": "code",
   "execution_count": 5,
   "id": "0aeb9203",
   "metadata": {},
   "outputs": [],
   "source": [
    "# 20. Write a python script to print dict item (key, value) each in one line."
   ]
  },
  {
   "cell_type": "code",
   "execution_count": 12,
   "id": "ff6ef59d",
   "metadata": {},
   "outputs": [
    {
     "name": "stdout",
     "output_type": "stream",
     "text": [
      "harry : fish\n",
      "mohan : idli\n",
      "ramesh : curry\n",
      "rajesh : soup\n",
      "mahesh : salad\n"
     ]
    }
   ],
   "source": [
    "student_dict = {\n",
    "    \n",
    "    \"harry\":\"fish\",\n",
    "    \"mohan\":\"idli\",\n",
    "    \"ramesh\":\"curry\",\n",
    "    \"rajesh\":\"soup\",\n",
    "    \"mahesh\":\"salad\",\n",
    "}\n",
    "\n",
    "for keys, values in student_dict.items():\n",
    "    print(keys, \":\", values)"
   ]
  },
  {
   "cell_type": "code",
   "execution_count": 13,
   "id": "6c352230",
   "metadata": {},
   "outputs": [],
   "source": [
    "# 21. Write a python script to create a dictionary in which each item is a pair of Roll number (as key and student Name as value)."
   ]
  },
  {
   "cell_type": "code",
   "execution_count": 19,
   "id": "c497c4c6",
   "metadata": {},
   "outputs": [
    {
     "name": "stdout",
     "output_type": "stream",
     "text": [
      "101 --\n",
      "Name  :  Harry\n",
      "Email  :  harry@gmail.com\n",
      "102 --\n",
      "Name  :  Rohan\n",
      "Email  :  rohan@gmail.com\n",
      "103 --\n",
      "Name  :  Akit\n",
      "Email  :  ankit@gmail.com\n",
      "104 --\n",
      "Name  :  Salman\n",
      "Email  :  salman@gmail.com\n",
      "105 --\n",
      "Name  :  Ayush\n",
      "Email  :  ayush@gmail.com\n"
     ]
    }
   ],
   "source": [
    "student_dict = {\n",
    "    \n",
    "    101:{\"Name\":\"Harry\", \"Email\":\"harry@gmail.com\"},\n",
    "    102:{\"Name\":\"Rohan\", \"Email\":\"rohan@gmail.com\"},\n",
    "    103:{\"Name\":\"Akit\", \"Email\":\"ankit@gmail.com\"},\n",
    "    104:{\"Name\":\"Salman\" ,\"Email\":\"salman@gmail.com\"},\n",
    "    105:{\"Name\":\"Ayush\", \"Email\":\"ayush@gmail.com\"}\n",
    "}\n",
    "\n",
    "for key, value in student_dict.items():\n",
    "    print(key, '--')\n",
    "    \n",
    "    for subject, score in value.items():\n",
    "        print(subject, ' : ', score)"
   ]
  },
  {
   "cell_type": "code",
   "execution_count": 25,
   "id": "ac75799e",
   "metadata": {},
   "outputs": [
    {
     "ename": "AttributeError",
     "evalue": "'builtin_function_or_method' object has no attribute 'values'",
     "output_type": "error",
     "traceback": [
      "\u001b[1;31m---------------------------------------------------------------------------\u001b[0m",
      "\u001b[1;31mAttributeError\u001b[0m                            Traceback (most recent call last)",
      "Cell \u001b[1;32mIn [25], line 2\u001b[0m\n\u001b[0;32m      1\u001b[0m dict1 \u001b[38;5;241m=\u001b[39m {\u001b[38;5;241m1\u001b[39m:\u001b[38;5;241m8\u001b[39m, \u001b[38;5;241m2\u001b[39m:\u001b[38;5;241m7\u001b[39m, \u001b[38;5;241m3\u001b[39m:\u001b[38;5;241m6\u001b[39m, \u001b[38;5;241m4\u001b[39m:\u001b[38;5;241m5\u001b[39m, \u001b[38;5;241m5\u001b[39m:\u001b[38;5;241m4\u001b[39m, \u001b[38;5;241m5\u001b[39m:\u001b[38;5;241m3\u001b[39m, \u001b[38;5;241m6\u001b[39m:\u001b[38;5;241m2\u001b[39m, \u001b[38;5;241m7\u001b[39m:\u001b[38;5;241m1\u001b[39m}\n\u001b[1;32m----> 2\u001b[0m dict2 \u001b[38;5;241m=\u001b[39m \u001b[38;5;28;43msorted\u001b[39;49m\u001b[38;5;241;43m.\u001b[39;49m\u001b[43mvalues\u001b[49m()\n",
      "\u001b[1;31mAttributeError\u001b[0m: 'builtin_function_or_method' object has no attribute 'values'"
     ]
    }
   ],
   "source": [
    "dict1 = {1:8, 2:7, 3:6, 4:5, 5:4, 5:3, 6:2, 7:1}\n",
    "dict2 = sorted.values()"
   ]
  },
  {
   "cell_type": "code",
   "execution_count": null,
   "id": "25d9df8b",
   "metadata": {},
   "outputs": [],
   "source": []
  }
 ],
 "metadata": {
  "kernelspec": {
   "display_name": "Python 3.10.7 64-bit",
   "language": "python",
   "name": "python3"
  },
  "language_info": {
   "codemirror_mode": {
    "name": "ipython",
    "version": 3
   },
   "file_extension": ".py",
   "mimetype": "text/x-python",
   "name": "python",
   "nbconvert_exporter": "python",
   "pygments_lexer": "ipython3",
   "version": "3.10.7"
  },
  "vscode": {
   "interpreter": {
    "hash": "e8d6639c0569c44270448847f855c795b5d7d2282ae0e7b34700c7ee8c916965"
   }
  }
 },
 "nbformat": 4,
 "nbformat_minor": 5
}
