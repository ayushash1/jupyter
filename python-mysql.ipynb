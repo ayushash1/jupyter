{
 "cells": [
  {
   "cell_type": "code",
   "execution_count": 1,
   "id": "b8dc8eee",
   "metadata": {},
   "outputs": [
    {
     "name": "stdout",
     "output_type": "stream",
     "text": [
      "(1, 'Ayush', 979695952, 'ayush@gmail.com', 101)\n",
      "(2, 'pqr xyz', 87957697495, 'pqr@gmail.com', 102)\n",
      "(3, 'someone', 87957697495, 'someone@gmail.com', 103)\n",
      "(5, 'ankit', 58839293949, 'ankit@gmail.com', 104)\n",
      "(6, 'tom', 45634231224, 'tom@gmail.com', 106)\n"
     ]
    }
   ],
   "source": [
    "# -- select query with fetchall() --\n",
    "import pymysql\n",
    "conn = pymysql.connect(host = 'localhost',user = 'root', passwd = 'mysql',db = 'college')\n",
    "myCursor = conn.cursor()\n",
    "\n",
    "sql = 'SELECT * FROM student'\n",
    "\n",
    "myCursor.execute(sql)\n",
    "result = myCursor.fetchall()\n",
    "\n",
    "for i in result:\n",
    "    print(i)\n",
    "#print(result)\n",
    "\n",
    "conn.commit()\n",
    "myCursor.close()\n",
    "conn.close()"
   ]
  },
  {
   "cell_type": "code",
   "execution_count": 2,
   "id": "17118fcc",
   "metadata": {},
   "outputs": [
    {
     "name": "stdout",
     "output_type": "stream",
     "text": [
      "3\n",
      "someone\n",
      "87957697495\n",
      "someone@gmail.com\n",
      "103\n"
     ]
    }
   ],
   "source": [
    "# -- select query with fetchone() --\n",
    "import pymysql\n",
    "conn = pymysql.connect(host = 'localhost',user = 'root', passwd = 'mysql',db = 'college')\n",
    "myCursor = conn.cursor()\n",
    "\n",
    "sql = 'SELECT * FROM student WHERE id = 3'\n",
    "\n",
    "myCursor.execute(sql)\n",
    "result = myCursor.fetchone()\n",
    "\n",
    "for i in result:\n",
    "    print(i)\n",
    "#print(result)\n",
    "\n",
    "conn.commit()\n",
    "myCursor.close()\n",
    "conn.close()"
   ]
  },
  {
   "cell_type": "code",
   "execution_count": null,
   "id": "7359c0b1",
   "metadata": {},
   "outputs": [],
   "source": [
    "# -- sample --\n",
    "import pymysql\n",
    "conn = pymysql.connect(host = 'localhost',user = 'root', passwd = 'mysql',db = 'college')\n",
    "myCursor = conn.cursor()\n",
    "\n",
    "sql = ''\n",
    "myCursor.execute(sql)\n",
    "conn.commit()\n",
    "myCursor.close()\n",
    "conn.close()"
   ]
  },
  {
   "cell_type": "code",
   "execution_count": 2,
   "id": "5f2cfede",
   "metadata": {},
   "outputs": [
    {
     "name": "stdout",
     "output_type": "stream",
     "text": [
      "data inserted succesfully..........\n"
     ]
    }
   ],
   "source": [
    "#---- insert ------\n",
    "import pymysql\n",
    "conn = pymysql.connect(host = 'localhost',user = 'root', passwd = 'mysql',db = 'college')\n",
    "myCursor = conn.cursor()\n",
    "\n",
    "sql = \"INSERT INTO student(name,mobile,email,roll_no) VALUES ('akshay', 8877006688,'akshay@gmail.com',106)\"\n",
    "myCursor.execute(sql)\n",
    "conn.commit()\n",
    "myCursor.close()\n",
    "conn.close()\n",
    "print(\"data inserted succesfully..........\")"
   ]
  },
  {
   "cell_type": "code",
   "execution_count": 3,
   "id": "194eabb8",
   "metadata": {},
   "outputs": [
    {
     "name": "stdout",
     "output_type": "stream",
     "text": [
      "Enter your name= akshay\n",
      "Enter your mobile no= 7879877998\n",
      "Enter your email= akshay@gmail.com\n",
      "Enter your roll_no= 108\n",
      "data inserted succesfully..........\n"
     ]
    }
   ],
   "source": [
    "#---- insert data using input function ------\n",
    "import pymysql\n",
    "conn = pymysql.connect(host = 'localhost',user = 'root', passwd = 'mysql',db = 'college')\n",
    "myCursor = conn.cursor()\n",
    "\n",
    "ename = input(\"Enter your name= \")\n",
    "emobile = input(\"Enter your mobile no= \")\n",
    "eemail = input(\"Enter your email= \")\n",
    "eroll_no = input(\"Enter your roll_no= \")\n",
    "sql = \"INSERT INTO student(name,mobile,email,roll_no) VALUES (%s,%s,%s,%s)\"\n",
    "arg = (ename, emobile, eemail, eroll_no)\n",
    "\n",
    "myCursor.execute(sql,arg)\n",
    "conn.commit()\n",
    "myCursor.close()\n",
    "conn.close()\n",
    "print(\"data inserted succesfully..........\")"
   ]
  },
  {
   "cell_type": "code",
   "execution_count": 1,
   "id": "244e5f47",
   "metadata": {},
   "outputs": [
    {
     "name": "stdout",
     "output_type": "stream",
     "text": [
      "data deleted succesfully\n"
     ]
    }
   ],
   "source": [
    "#---delete----\n",
    "import pymysql\n",
    "conn = pymysql.connect(host = 'localhost',user = 'root', passwd = 'mysql',db = 'college')\n",
    "myCursor = conn.cursor()\n",
    "\n",
    "sql = 'DELETE FROM student WHERE id=8'\n",
    "\n",
    "myCursor.execute(sql)\n",
    "conn.commit()\n",
    "myCursor.close()\n",
    "conn.close()\n",
    "print(\"data deleted succesfully\")"
   ]
  },
  {
   "cell_type": "code",
   "execution_count": 2,
   "id": "4f93627f",
   "metadata": {},
   "outputs": [
    {
     "name": "stdout",
     "output_type": "stream",
     "text": [
      "Enter your id= 7\n",
      "id deleted succesfully\n"
     ]
    }
   ],
   "source": [
    "#---delete operation using user input---\n",
    "import pymysql\n",
    "conn = pymysql.connect(host = 'localhost',user = 'root', passwd = 'mysql',db = 'college')\n",
    "myCursor = conn.cursor()\n",
    "\n",
    "id_1 = input(\"Enter your id= \")\n",
    "sql = 'DELETE FROM student WHERE id=%s'\n",
    "\n",
    "myCursor.execute(sql,id_1)\n",
    "conn.commit()\n",
    "myCursor.close()\n",
    "conn.close()\n",
    "print(\"data deleted succesfully\")"
   ]
  },
  {
   "cell_type": "code",
   "execution_count": 4,
   "id": "22bd8c6b",
   "metadata": {},
   "outputs": [
    {
     "name": "stdout",
     "output_type": "stream",
     "text": [
      "data updated succesfully.....\n"
     ]
    }
   ],
   "source": [
    "#--- update ---\n",
    "import pymysql\n",
    "conn = pymysql.connect(host = 'localhost',user = 'root', passwd = 'mysql',db = 'college')\n",
    "myCursor = conn.cursor()\n",
    "\n",
    "sql = \"UPDATE student SET name='rajesh', email='rajesh@gmail.com' WHERE id=2\"\n",
    "\n",
    "myCursor.execute(sql)\n",
    "conn.commit()\n",
    "myCursor.close()\n",
    "conn.close()\n",
    "\n",
    "print(\"data updated succesfully.....\")"
   ]
  },
  {
   "cell_type": "code",
   "execution_count": 5,
   "id": "0ff8d3f0",
   "metadata": {},
   "outputs": [
    {
     "name": "stdout",
     "output_type": "stream",
     "text": [
      "Enter your name =bob\n",
      "Enter your email =bob@gmail.com\n",
      "Enter your id = 3\n",
      "data updated succesfully.....\n"
     ]
    }
   ],
   "source": [
    "#--- update using user input ---\n",
    "import pymysql\n",
    "conn = pymysql.connect(host = 'localhost',user = 'root', passwd = 'mysql',db = 'college')\n",
    "myCursor = conn.cursor()\n",
    "\n",
    "ename = input(\"Enter your name =\")\n",
    "eemail = input(\"Enter your email =\")\n",
    "eid = input(\"Enter your id = \")\n",
    "\n",
    "sql = \"UPDATE student SET name=%s, email=%s WHERE id=%s\"\n",
    "\n",
    "arg = (ename, eemail, eid)\n",
    "\n",
    "myCursor.execute(sql,arg)\n",
    "conn.commit()\n",
    "myCursor.close()\n",
    "conn.close()\n",
    "\n",
    "print(\"data updated succesfully.....\")"
   ]
  },
  {
   "cell_type": "code",
   "execution_count": null,
   "id": "d6193651",
   "metadata": {},
   "outputs": [
    {
     "name": "stdout",
     "output_type": "stream",
     "text": [
      "Ener 1 to select\n",
      "Ener 2 to insert\n",
      "Ener 3 to update\n",
      "Ener 4 to delete\n",
      ":1\n",
      "(1, 'Ayush', 979695952, 'ayush@gmail.com', 101)\n",
      "(2, 'rajesh', 87957697495, 'rajesh@gmail.com', 102)\n",
      "(3, 'bob', 87957697495, 'bob@gmail.com', 103)\n",
      "(5, 'ankit', 58839293949, 'ankit@gmail.com', 104)\n",
      "(6, 'tom', 45634231224, 'tom@gmail.com', 106)\n",
      "press 1 to continue anything else to break : 1\n",
      "Ener 1 to select\n",
      "Ener 2 to insert\n",
      "Ener 3 to update\n",
      "Ener 4 to delete\n",
      ":2\n",
      "Enter your name= mahesh\n",
      "Enter your mobile no= 787869695\n",
      "Enter your email= mahesh@gmail.com\n",
      "Enter your roll_no= 107\n",
      "data inserted succesfully..........\n",
      "press 1 to continue anything else to break : 1\n",
      "Ener 1 to select\n",
      "Ener 2 to insert\n",
      "Ener 3 to update\n",
      "Ener 4 to delete\n",
      ":1\n",
      "(1, 'Ayush', 979695952, 'ayush@gmail.com', 101)\n",
      "(2, 'rajesh', 87957697495, 'rajesh@gmail.com', 102)\n",
      "(3, 'bob', 87957697495, 'bob@gmail.com', 103)\n",
      "(5, 'ankit', 58839293949, 'ankit@gmail.com', 104)\n",
      "(6, 'tom', 45634231224, 'tom@gmail.com', 106)\n",
      "(9, 'mahesh', 787869695, 'mahesh@gmail.com', 107)\n"
     ]
    }
   ],
   "source": [
    "# choice program for crud operation\n",
    "import pymysql\n",
    "conn = pymysql.connect(host = 'localhost',user = 'root', passwd = 'mysql',db = 'college')\n",
    "\n",
    "def select_1():\n",
    "    myCursor = conn.cursor()\n",
    "\n",
    "    sql = 'SELECT * FROM student'\n",
    "\n",
    "    myCursor.execute(sql)\n",
    "    result = myCursor.fetchall()\n",
    "\n",
    "    for i in result:\n",
    "        print(i)\n",
    "    conn.commit()\n",
    "    myCursor.close()\n",
    "    \n",
    "def insert_1():\n",
    "    myCursor = conn.cursor()\n",
    "\n",
    "    ename = input(\"Enter your name= \")\n",
    "    emobile = input(\"Enter your mobile no= \")\n",
    "    eemail = input(\"Enter your email= \")\n",
    "    eroll_no = input(\"Enter your roll_no= \")\n",
    "    sql = \"INSERT INTO student(name,mobile,email,roll_no) VALUES (%s,%s,%s,%s)\"\n",
    "    arg = (ename, emobile, eemail, eroll_no)\n",
    "\n",
    "    myCursor.execute(sql,arg)\n",
    "    conn.commit()\n",
    "    myCursor.close()\n",
    "    print(\"data inserted succesfully..........\")\n",
    "    \n",
    "def update_1():\n",
    "    myCursor = conn.cursor()\n",
    "\n",
    "    ename = input(\"Enter your name =\")\n",
    "    eemail = input(\"Enter your email =\")\n",
    "    eid = input(\"Enter your id = \")\n",
    "\n",
    "    sql = \"UPDATE student SET name=%s, email=%s WHERE id=%s\"\n",
    "\n",
    "    arg = (ename, eemail, eid)\n",
    "\n",
    "    myCursor.execute(sql,arg)\n",
    "    conn.commit()\n",
    "    myCursor.close()\n",
    "    print(\"data updated succesfully.........\")\n",
    "def delete_1():\n",
    "    myCursor = conn.cursor()\n",
    "\n",
    "    id_1 = input(\"Enter your id= \")\n",
    "    sql = 'DELETE FROM student WHERE id=%s'\n",
    "\n",
    "    myCursor.execute(sql,id_1)\n",
    "    conn.commit()\n",
    "    myCursor.close()\n",
    "    print(\"data deleted succesfully......\")\n",
    "\n",
    "while True:\n",
    "    n1 = int(input(\"Ener 1 to select\\nEner 2 to insert\\nEner 3 to update\\nEner 4 to delete\\n:\"))\n",
    "    if n1 == 1:\n",
    "        select_1()\n",
    "\n",
    "    elif n1 == 2:\n",
    "        insert_1()\n",
    "\n",
    "    elif n1 == 3:\n",
    "        update_1()\n",
    "\n",
    "    elif n1 == 4:\n",
    "        delete_1()\n",
    "        \n",
    "    else:\n",
    "        print(\"wrong choice please continue \")\n",
    "        \n",
    "    n2 = int(input(\"press 1 to continue anything else to break : \"))\n",
    "    if n2 == 1:\n",
    "        continue\n",
    "    \n",
    "    else:\n",
    "        break\n",
    "\n",
    "\n",
    "conn.close()"
   ]
  },
  {
   "cell_type": "code",
   "execution_count": null,
   "id": "6e5d9531",
   "metadata": {},
   "outputs": [],
   "source": []
  },
  {
   "cell_type": "code",
   "execution_count": null,
   "id": "cdeeaf0e",
   "metadata": {},
   "outputs": [],
   "source": []
  }
 ],
 "metadata": {
  "kernelspec": {
   "display_name": "Python 3 (ipykernel)",
   "language": "python",
   "name": "python3"
  },
  "language_info": {
   "codemirror_mode": {
    "name": "ipython",
    "version": 3
   },
   "file_extension": ".py",
   "mimetype": "text/x-python",
   "name": "python",
   "nbconvert_exporter": "python",
   "pygments_lexer": "ipython3",
   "version": "3.9.8"
  }
 },
 "nbformat": 4,
 "nbformat_minor": 5
}
