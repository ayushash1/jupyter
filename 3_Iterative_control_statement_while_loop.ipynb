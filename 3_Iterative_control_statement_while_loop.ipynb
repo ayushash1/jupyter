{
 "cells": [
  {
   "cell_type": "code",
   "execution_count": null,
   "id": "f01777e5",
   "metadata": {},
   "outputs": [],
   "source": [
    "#Wlile loop\n",
    "#write a python script to print hello world 5 times"
   ]
  },
  {
   "cell_type": "code",
   "execution_count": 9,
   "id": "2fd46090",
   "metadata": {
    "scrolled": false
   },
   "outputs": [
    {
     "name": "stdout",
     "output_type": "stream",
     "text": [
      "hello world.\n",
      "hello world.\n",
      "hello world.\n",
      "hello world.\n",
      "hello world.\n"
     ]
    }
   ],
   "source": [
    "i = 1\n",
    "while i<=5:\n",
    "    print(\"hello world.\")\n",
    "    i = i+1;"
   ]
  },
  {
   "cell_type": "code",
   "execution_count": 13,
   "id": "8dab3044",
   "metadata": {
    "scrolled": true
   },
   "outputs": [
    {
     "name": "stdout",
     "output_type": "stream",
     "text": [
      "1\n",
      "2\n",
      "3\n",
      "4\n",
      "5\n",
      "6\n",
      "7\n",
      "8\n",
      "9\n",
      "10\n"
     ]
    }
   ],
   "source": [
    "i = 1\n",
    "while i<=10:\n",
    "    print(i)\n",
    "    i = i+1;"
   ]
  },
  {
   "cell_type": "code",
   "execution_count": 14,
   "id": "aea87c1f",
   "metadata": {},
   "outputs": [
    {
     "name": "stdout",
     "output_type": "stream",
     "text": [
      "2\n",
      "4\n",
      "6\n",
      "8\n",
      "10\n",
      "12\n",
      "14\n",
      "16\n",
      "18\n",
      "20\n"
     ]
    }
   ],
   "source": [
    "i = 1\n",
    "while i<=10:\n",
    "    print(i*2)\n",
    "    i = i+1;"
   ]
  },
  {
   "cell_type": "code",
   "execution_count": 23,
   "id": "efa55a92",
   "metadata": {
    "scrolled": true
   },
   "outputs": [
    {
     "name": "stdout",
     "output_type": "stream",
     "text": [
      "Enter number  69\n",
      "69\n",
      "138\n",
      "207\n",
      "276\n",
      "345\n",
      "414\n",
      "483\n",
      "552\n",
      "621\n",
      "690\n"
     ]
    }
   ],
   "source": [
    "n1 = int(input(\"Enter number  \"))\n",
    "i = 1\n",
    "while i<=10:\n",
    "    print(i*n1)\n",
    "    i = i+1;"
   ]
  },
  {
   "cell_type": "code",
   "execution_count": 24,
   "id": "d8fccc52",
   "metadata": {},
   "outputs": [
    {
     "name": "stdout",
     "output_type": "stream",
     "text": [
      "10\n",
      "9\n",
      "8\n",
      "7\n",
      "6\n",
      "5\n",
      "4\n",
      "3\n",
      "2\n",
      "1\n"
     ]
    }
   ],
   "source": [
    "#write a python script to print first 10 natural numbers in revers order\n",
    "i = 10\n",
    "while i>=1:\n",
    "    print(i)\n",
    "    i = i-1;"
   ]
  },
  {
   "cell_type": "code",
   "execution_count": null,
   "id": "bf768588",
   "metadata": {},
   "outputs": [],
   "source": []
  }
 ],
 "metadata": {
  "kernelspec": {
   "display_name": "Python 3 (ipykernel)",
   "language": "python",
   "name": "python3"
  },
  "language_info": {
   "codemirror_mode": {
    "name": "ipython",
    "version": 3
   },
   "file_extension": ".py",
   "mimetype": "text/x-python",
   "name": "python",
   "nbconvert_exporter": "python",
   "pygments_lexer": "ipython3",
   "version": "3.9.8"
  }
 },
 "nbformat": 4,
 "nbformat_minor": 5
}
