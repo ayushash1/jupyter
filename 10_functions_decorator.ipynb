{
 "cells": [
  {
   "cell_type": "code",
   "execution_count": 4,
   "id": "7e99190e",
   "metadata": {},
   "outputs": [
    {
     "name": "stdout",
     "output_type": "stream",
     "text": [
      "decorator\n",
      "sample function\n"
     ]
    }
   ],
   "source": [
    "def sample_decorator(fun):\n",
    "    def inner():\n",
    "        print('decorator')\n",
    "        fun()\n",
    "    return inner\n",
    "\n",
    "\n",
    "@sample_decorator\n",
    "def sample():\n",
    "    print(\"sample function\")\n",
    "    \n",
    "sample()"
   ]
  },
  {
   "cell_type": "code",
   "execution_count": 7,
   "id": "254d8965",
   "metadata": {},
   "outputs": [
    {
     "name": "stdout",
     "output_type": "stream",
     "text": [
      "substraction of two numbers =  -10\n",
      "addition of two numbers =  30\n"
     ]
    }
   ],
   "source": [
    "def sample_decorator(fun):\n",
    "    def inner(a,b):\n",
    "        print(\"substraction of two numbers = \", a-b)\n",
    "        fun(a,b)\n",
    "    return inner\n",
    "\n",
    "@sample_decorator\n",
    "def sample(a,b):\n",
    "    print(\"addition of two numbers = \",a+b)\n",
    "    \n",
    "sample(10,20)"
   ]
  },
  {
   "cell_type": "code",
   "execution_count": 18,
   "id": "bb50d324",
   "metadata": {},
   "outputs": [
    {
     "name": "stdout",
     "output_type": "stream",
     "text": [
      "Enter first number= 3.4\n",
      "ValueError\n",
      "this is last line\n"
     ]
    }
   ],
   "source": [
    "#exception hand\n",
    "\n",
    "\n",
    "try:\n",
    "    n1 = int(input(\"Enter first number= \"))\n",
    "    n2 = int(input(\"Enter second number= \"))\n",
    "    \n",
    "    print(\"Division of two numbes = \",n1/n2)\n",
    "    \n",
    "except ZeroDivisionError:\n",
    "    print(\"ZeroValueError\")\n",
    "    \n",
    "except ValueError:\n",
    "    print(\"ValueError\")\n",
    "\n",
    "print(\"this is last line\")"
   ]
  },
  {
   "cell_type": "code",
   "execution_count": 3,
   "id": "0d7ce9bf",
   "metadata": {},
   "outputs": [
    {
     "name": "stdout",
     "output_type": "stream",
     "text": [
      "Enter first number= 3.4\n",
      "invalid literal for int() with base 10: '3.4'\n",
      "this is last line\n"
     ]
    }
   ],
   "source": [
    "# else block with exception \n",
    "\n",
    "try:\n",
    "    n1 = int(input(\"Enter first number= \"))\n",
    "    n2 = int(input(\"Enter second number= \"))\n",
    "    \n",
    "    print(\"Division of two numbes = \",n1/n2)\n",
    "    \n",
    "except ZeroDivisionError as e:\n",
    "    print(e)\n",
    "    \n",
    "except ValueError as e:\n",
    "    print(e)\n",
    "\n",
    "else:\n",
    "    print(\"this is else block\")\n",
    "    \n",
    "print(\"this is last line\")"
   ]
  },
  {
   "cell_type": "code",
   "execution_count": 5,
   "id": "11244c61",
   "metadata": {},
   "outputs": [
    {
     "name": "stdout",
     "output_type": "stream",
     "text": [
      "Enter first number= 4\n",
      "Enter second number= 4\n",
      "Division of two numbes =  1.0\n",
      "this is last line\n"
     ]
    }
   ],
   "source": [
    "try:\n",
    "    n1 = int(input(\"Enter first number= \"))\n",
    "    n2 = int(input(\"Enter second number= \"))\n",
    "    n3 = n1/n2\n",
    "    \n",
    "except ZeroDivisionError as e:\n",
    "    print(e)\n",
    "    \n",
    "except ValueError as e:\n",
    "    print(e)\n",
    "\n",
    "else:\n",
    "    print(\"Division of two numbes = \",n3)\n",
    "    \n",
    "    \n",
    "print(\"this is last line\")"
   ]
  },
  {
   "cell_type": "code",
   "execution_count": 7,
   "id": "c1ab1a0c",
   "metadata": {},
   "outputs": [
    {
     "name": "stdout",
     "output_type": "stream",
     "text": [
      "Enter first number= 34\n",
      "Enter second number= 3\n",
      "Division of two numbes =  11.333333333333334\n",
      "this is finally block\n",
      "this is last line\n"
     ]
    }
   ],
   "source": [
    "try:\n",
    "    n1 = int(input(\"Enter first number= \"))\n",
    "    n2 = int(input(\"Enter second number= \"))\n",
    "    n3 = n1/n2\n",
    "    \n",
    "except ZeroDivisionError as e:\n",
    "    print(e)\n",
    "    \n",
    "except ValueError as e:\n",
    "    print(e)\n",
    "\n",
    "else:\n",
    "    print(\"Division of two numbes = \",n3)\n",
    "    \n",
    "finally:\n",
    "    print(\"this is finally block\")\n",
    "    \n",
    "    \n",
    "print(\"this is last line\")"
   ]
  },
  {
   "cell_type": "code",
   "execution_count": 10,
   "id": "1e13e859",
   "metadata": {},
   "outputs": [
    {
     "name": "stdout",
     "output_type": "stream",
     "text": [
      "Enter your age: 2\n",
      "Your age is not valid for ride.\n"
     ]
    }
   ],
   "source": [
    "#raise a exception\n",
    "\n",
    "try:\n",
    "    age =  int(input(\"Enter your age: \"))\n",
    "    if age < 18:\n",
    "        raise ValueError\n",
    "except ValueError:\n",
    "    print(\"Your age is not valid for ride.\")\n",
    "else:\n",
    "    print(\"Your age is valid for ride\")"
   ]
  },
  {
   "cell_type": "code",
   "execution_count": null,
   "id": "4f6cf9fe",
   "metadata": {},
   "outputs": [],
   "source": []
  }
 ],
 "metadata": {
  "kernelspec": {
   "display_name": "Python 3 (ipykernel)",
   "language": "python",
   "name": "python3"
  },
  "language_info": {
   "codemirror_mode": {
    "name": "ipython",
    "version": 3
   },
   "file_extension": ".py",
   "mimetype": "text/x-python",
   "name": "python",
   "nbconvert_exporter": "python",
   "pygments_lexer": "ipython3",
   "version": "3.9.8"
  }
 },
 "nbformat": 4,
 "nbformat_minor": 5
}
