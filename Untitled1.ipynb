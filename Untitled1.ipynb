{
 "cells": [
  {
   "cell_type": "code",
   "execution_count": 5,
   "id": "7b2232ed",
   "metadata": {},
   "outputs": [
    {
     "name": "stdout",
     "output_type": "stream",
     "text": [
      "Enter 1 to write\n",
      " Enter 2 to append\n",
      " Enter 3 to read 3\n",
      "hello\n",
      "read function executed something...\n",
      "Enter 1 to continue and any other key to break43\n"
     ]
    }
   ],
   "source": [
    "def write_1():\n",
    "    f1 = open('C:/abc/abc.txt','w')\n",
    "\n",
    "    v1 = input(\"Enter something : \")\n",
    "    \n",
    "    f1.write(v1)\n",
    "    print(\"Write function executed something...\")\n",
    "    f1.close()\n",
    "    \n",
    "def append_1():\n",
    "    f1 = open('C:/abc/abc.txt','a')\n",
    "    \n",
    "    v1 = input(\"Enter something...\")\n",
    "    \n",
    "    f1.write(v1)\n",
    "    print(\"append function executed something...\")\n",
    "    f1.close()\n",
    "\n",
    "def read_1():\n",
    "    f1 = open('C:/abc/abc.txt','r')\n",
    "       \n",
    "    print(f1.read())\n",
    "    print(\"read function executed something...\")\n",
    "    f1.close()\n",
    "    \n",
    "while True:\n",
    "    n2 = int(input(\"Enter 1 to write\\n Enter 2 to append\\n Enter 3 to read \"))\n",
    "    if n2==1:\n",
    "        write_1()\n",
    "        \n",
    "    elif n2==2:\n",
    "        append_1()\n",
    "        \n",
    "    elif n2==3:\n",
    "        read_1()\n",
    "    \n",
    "    else:\n",
    "        print(\"wrong choice\")\n",
    "        \n",
    "    n3 = int(input(\"Enter 1 to continue and any other key to break\"))\n",
    "    if n3==1:\n",
    "        continue\n",
    "    else:\n",
    "        break\n",
    "        "
   ]
  }
 ],
 "metadata": {
  "kernelspec": {
   "display_name": "Python 3 (ipykernel)",
   "language": "python",
   "name": "python3"
  },
  "language_info": {
   "codemirror_mode": {
    "name": "ipython",
    "version": 3
   },
   "file_extension": ".py",
   "mimetype": "text/x-python",
   "name": "python",
   "nbconvert_exporter": "python",
   "pygments_lexer": "ipython3",
   "version": "3.9.8"
  }
 },
 "nbformat": 4,
 "nbformat_minor": 5
}
